{
 "cells": [
  {
   "cell_type": "code",
   "execution_count": 5,
   "metadata": {
    "collapsed": true
   },
   "outputs": [],
   "source": [
    "import json\n",
    "import pandas as pd\n",
    "import matplotlib.pyplot as plt\n",
    "import numpy as np\n",
    "from IPython.display import HTML,display\n",
    "%matplotlib inline"
   ]
  },
  {
   "cell_type": "code",
   "execution_count": 6,
   "metadata": {
    "collapsed": true
   },
   "outputs": [],
   "source": [
    "filename = 'results/mnist'"
   ]
  },
  {
   "cell_type": "code",
   "execution_count": 42,
   "metadata": {
    "collapsed": false
   },
   "outputs": [],
   "source": [
    "# load all performance results into a pandas dataframe\n",
    "with open(filename,'r') as f:\n",
    "    all_results = map(json.loads,f.readlines())\n",
    "#results = pd.DataFrame(results)"
   ]
  },
  {
   "cell_type": "code",
   "execution_count": 43,
   "metadata": {
    "collapsed": false
   },
   "outputs": [],
   "source": [
    "def html_conf(conf,bolded=set([])):\n",
    "    s = '<ul>'\n",
    "    for k,v in sorted(conf.items()):\n",
    "        if type(v)==dict:\n",
    "            s += '<li>%s<ul>'%k\n",
    "            for k2,v2 in sorted(v.items()):\n",
    "                if k2 in bolded:\n",
    "                    k2 = '<b>%s</b>'%k2\n",
    "                s+='<li>%s: %s</li>'%(k2,str(v2))\n",
    "            s += '</ul></li>'\n",
    "        else:\n",
    "            s+='<li>%s: %s</li>'%(k,v)\n",
    "    s += '</ul>'\n",
    "    return s"
   ]
  },
  {
   "cell_type": "code",
   "execution_count": null,
   "metadata": {
    "collapsed": true
   },
   "outputs": [],
   "source": [
    "#bagging/re-sampling over examples so far.  compare to just one pass?"
   ]
  },
  {
   "cell_type": "code",
   "execution_count": 410,
   "metadata": {
    "collapsed": true
   },
   "outputs": [
    {
     "data": {
      "text/plain": [
       "[u'random-top',\n",
       " u'random-random',\n",
       " u'random-empty',\n",
       " u'adaptive-random',\n",
       " u'adaptive-top',\n",
       " u'uncertain-top']"
      ]
     },
     "execution_count": 410,
     "metadata": {},
     "output_type": "execute_result"
    }
   ],
   "source": [
    "xs.keys()"
   ]
  },
  {
   "cell_type": "code",
   "execution_count": 436,
   "metadata": {
    "collapsed": false
   },
   "outputs": [
    {
     "ename": "IndexError",
     "evalue": "list index out of range",
     "output_type": "error",
     "traceback": [
      "\u001b[0;31m---------------------------------------------------------------------------\u001b[0m",
      "\u001b[0;31mIndexError\u001b[0m                                Traceback (most recent call last)",
      "\u001b[0;32m<ipython-input-436-ebd97cba30bf>\u001b[0m in \u001b[0;36m<module>\u001b[0;34m()\u001b[0m\n\u001b[0;32m----> 1\u001b[0;31m plt.scatter(xs2[7],ys2[7],color='red',\n\u001b[0m\u001b[1;32m      2\u001b[0m             label='adaptive + semisupervised',marker='>',s=[15]*len(ys))\n\u001b[1;32m      3\u001b[0m plt.scatter(xs2[5],ys2[5],color='green',\n\u001b[1;32m      4\u001b[0m             label='uncertain',marker='x',s=[15]*len(ys))\n\u001b[1;32m      5\u001b[0m plt.scatter(xs2[2],ys2[2],color='black',\n",
      "\u001b[0;31mIndexError\u001b[0m: list index out of range"
     ]
    }
   ],
   "source": [
    "plt.scatter(xs2[7],ys2[7],color='red',\n",
    "            label='adaptive + semisupervised',marker='>',s=[15]*len(ys))\n",
    "plt.scatter(xs2[5],ys2[5],color='green',\n",
    "            label='uncertain',marker='x',s=[15]*len(ys))\n",
    "plt.scatter(xs2[2],ys2[2],color='black',\n",
    "            label='random top',marker='.',s=[10]*len(ys))\n",
    "plt.scatter(xs2[3],ys2[3],color='blue',\n",
    "            label='random empty',marker='.',s=[10]*len(ys))\n",
    "plt.scatter(xs2[4],ys2[4],color='orange',\n",
    "            label='random random',marker='.',s=[10]*len(ys))\n",
    "\n",
    "#plt.plot(xs[0],pd.rolling_mean(ys[0],20),color='blue',label='uncertainty + semisupervised')\n",
    "plt.xlim([0,200])\n",
    "plt.ylim([0.0,1.0])\n",
    "plt.xlabel('labels requested')\n",
    "plt.ylabel('accuracy')\n",
    "plt.legend(bbox_to_anchor=(1.02, 0.45))\n",
    "plt.show()"
   ]
  },
  {
   "cell_type": "code",
   "execution_count": 416,
   "metadata": {
    "collapsed": false
   },
   "outputs": [
    {
     "data": {
      "text/plain": [
       "[u'random-top',\n",
       " u'random-random',\n",
       " u'random-empty',\n",
       " u'adaptive-random',\n",
       " u'adaptive-top',\n",
       " u'uncertain-top']"
      ]
     },
     "execution_count": 416,
     "metadata": {},
     "output_type": "execute_result"
    }
   ],
   "source": [
    "xs.keys()"
   ]
  },
  {
   "cell_type": "code",
   "execution_count": 46,
   "metadata": {
    "collapsed": false
   },
   "outputs": [
    {
     "name": "stdout",
     "output_type": "stream",
     "text": [
      "adaptive-top > red\n",
      "uncertain-top < green\n",
      "adaptive-random + black\n",
      "random-empty x blue\n",
      "random-random . orange\n"
     ]
    },
    {
     "name": "stderr",
     "output_type": "stream",
     "text": [
      "/Users/melkherj/anaconda/lib/python2.7/site-packages/IPython/kernel/__main__.py:8: FutureWarning: pd.rolling_mean is deprecated for Series and will be removed in a future version, replace with \n",
      "\tSeries.rolling(window=15,center=False).mean()\n"
     ]
    },
    {
     "data": {
      "image/png": "[encoded data removed]",
      "text/plain": [
       "<matplotlib.figure.Figure at 0x10a313150>"
      ]
     },
     "metadata": {},
     "output_type": "display_data"
    }
   ],
   "source": [
    "ds = 5 #downsample\n",
    "#xs2 = [x[::ds] for x in xs]\n",
    "#ys2 = [pd.rolling_mean(y,15)[::ds] for y in ys]\n",
    "for name,marker,color in zip(['adaptive-top','uncertain-top','adaptive-random',\n",
    "                              'random-empty','random-random'],['>','<','+','x','.','o'],\n",
    "                             ['red','green','black','blue','orange','purple']):\n",
    "    x = xs[name][::ds]\n",
    "    y = pd.rolling_mean(ys[name],15)[::ds]\n",
    "    print name,marker,color\n",
    "    plt.scatter(x,y,color=color,label=name,marker=marker,s=[15]*len(ys))\n",
    "plt.xlim([0,200])\n",
    "plt.ylim([0.0,1.0])\n",
    "plt.xlabel('labels requested')\n",
    "plt.ylabel('accuracy')\n",
    "plt.legend(bbox_to_anchor=(1.02, 0.66))\n",
    "plt.show()"
   ]
  },
  {
   "cell_type": "code",
   "execution_count": 385,
   "metadata": {
    "collapsed": false
   },
   "outputs": [
    {
     "data": {
      "text/plain": [
       "0.5325935144661026"
      ]
     },
     "execution_count": 385,
     "metadata": {},
     "output_type": "execute_result"
    }
   ],
   "source": [
    "import utils\n",
    "utils.add_noise(0.5,1.5*math.exp(-0.05*20))"
   ]
  },
  {
   "cell_type": "code",
   "execution_count": 32,
   "metadata": {
    "collapsed": true
   },
   "outputs": [],
   "source": [
    "results = pd.DataFrame(all_results[-1]['epoch_stats'])"
   ]
  },
  {
   "cell_type": "code",
   "execution_count": 33,
   "metadata": {
    "collapsed": true
   },
   "outputs": [
    {
     "data": {
      "text/plain": [
       "5       0.0\n",
       "11      1.0\n",
       "21      0.0\n",
       "27      0.0\n",
       "42      0.0\n",
       "51      0.0\n",
       "52      0.0\n",
       "59      0.0\n",
       "72      0.0\n",
       "102     1.0\n",
       "108     1.0\n",
       "112     0.0\n",
       "173     0.0\n",
       "185     0.0\n",
       "187     0.0\n",
       "200     1.0\n",
       "210     1.0\n",
       "211     0.0\n",
       "212     0.0\n",
       "215     1.0\n",
       "261     0.0\n",
       "273     1.0\n",
       "274     0.0\n",
       "283     0.0\n",
       "291     0.0\n",
       "292     0.0\n",
       "296     0.0\n",
       "301     1.0\n",
       "324     0.0\n",
       "333     1.0\n",
       "       ... \n",
       "1746    0.0\n",
       "1750    1.0\n",
       "1768    1.0\n",
       "1771    1.0\n",
       "1778    1.0\n",
       "1783    1.0\n",
       "1798    1.0\n",
       "1810    1.0\n",
       "1812    1.0\n",
       "1821    1.0\n",
       "1840    1.0\n",
       "1842    1.0\n",
       "1845    1.0\n",
       "1854    1.0\n",
       "1858    1.0\n",
       "1867    1.0\n",
       "1872    1.0\n",
       "1875    1.0\n",
       "1882    0.0\n",
       "1883    1.0\n",
       "1899    1.0\n",
       "1907    1.0\n",
       "1910    1.0\n",
       "1914    1.0\n",
       "1921    1.0\n",
       "1930    1.0\n",
       "1937    1.0\n",
       "1970    1.0\n",
       "1977    1.0\n",
       "1983    1.0\n",
       "Name: n_labeled_correct, dtype: float64"
      ]
     },
     "execution_count": 33,
     "metadata": {},
     "output_type": "execute_result"
    }
   ],
   "source": [
    "results[results['n_next_labeled']>0]['n_labeled_correct']"
   ]
  },
  {
   "cell_type": "code",
   "execution_count": 34,
   "metadata": {
    "collapsed": false
   },
   "outputs": [
    {
     "name": "stderr",
     "output_type": "stream",
     "text": [
      "/Users/melkherj/anaconda/lib/python2.7/site-packages/IPython/kernel/__main__.py:1: FutureWarning: pd.rolling_mean is deprecated for Series and will be removed in a future version, replace with \n",
      "\tSeries.rolling(window=15,center=False).mean()\n",
      "  if __name__ == '__main__':\n"
     ]
    },
    {
     "data": {
      "text/plain": [
       "208"
      ]
     },
     "execution_count": 34,
     "metadata": {},
     "output_type": "execute_result"
    }
   ],
   "source": [
    "len(pd.rolling_mean(results[results['n_next_labeled']>0]['n_labeled_correct'],15))"
   ]
  },
  {
   "cell_type": "code",
   "execution_count": 35,
   "metadata": {
    "collapsed": false
   },
   "outputs": [
    {
     "name": "stderr",
     "output_type": "stream",
     "text": [
      "/Users/melkherj/anaconda/lib/python2.7/site-packages/IPython/kernel/__main__.py:1: FutureWarning: pd.rolling_mean is deprecated for Series and will be removed in a future version, replace with \n",
      "\tSeries.rolling(window=15,center=False).mean()\n",
      "  if __name__ == '__main__':\n"
     ]
    },
    {
     "data": {
      "text/plain": [
       "(0.0, 1.0)"
      ]
     },
     "execution_count": 35,
     "metadata": {},
     "output_type": "execute_result"
    },
    {
     "data": {
      "image/png": "[encoded data removed]",
      "text/plain": [
       "<matplotlib.figure.Figure at 0x1033efc10>"
      ]
     },
     "metadata": {},
     "output_type": "display_data"
    }
   ],
   "source": [
    "plt.plot(range(208),pd.rolling_mean(results[results['n_next_labeled']>0]['n_labeled_correct'],15),color='black')\n",
    "plt.xlabel('labels')\n",
    "plt.ylabel('last 10 percent correct')\n",
    "plt.ylim([0.,1.0])\n",
    "#plt.ylabel('active score threshold')"
   ]
  },
  {
   "cell_type": "code",
   "execution_count": 37,
   "metadata": {
    "collapsed": false
   },
   "outputs": [
    {
     "name": "stderr",
     "output_type": "stream",
     "text": [
      "/Users/melkherj/anaconda/lib/python2.7/site-packages/IPython/kernel/__main__.py:1: FutureWarning: pd.rolling_mean is deprecated for Series and will be removed in a future version, replace with \n",
      "\tSeries.rolling(window=20,center=False).mean()\n",
      "  if __name__ == '__main__':\n"
     ]
    },
    {
     "data": {
      "text/plain": [
       "(0.0, 1.0)"
      ]
     },
     "execution_count": 37,
     "metadata": {},
     "output_type": "execute_result"
    },
    {
     "data": {
      "image/png": "[encoded data removed]",
      "text/plain": [
       "<matplotlib.figure.Figure at 0x1277ce1d0>"
      ]
     },
     "metadata": {},
     "output_type": "display_data"
    }
   ],
   "source": [
    "plt.plot(range(208),pd.rolling_mean(results[results['labeled_score']>0]['labeled_score'],20),color='black')\n",
    "plt.xlabel('labels')\n",
    "plt.ylabel('adaptive score threshold')\n",
    "plt.ylim([0.,1.0])\n",
    "#plt.ylabel('active score threshold')"
   ]
  },
  {
   "cell_type": "code",
   "execution_count": 44,
   "metadata": {
    "collapsed": false,
    "scrolled": false
   },
   "outputs": [
    {
     "name": "stdout",
     "output_type": "stream",
     "text": [
      "208\n",
      "random-top\n"
     ]
    },
    {
     "name": "stderr",
     "output_type": "stream",
     "text": [
      "/Users/melkherj/anaconda/lib/python2.7/site-packages/IPython/kernel/__main__.py:16: FutureWarning: pd.rolling_mean is deprecated for Series and will be removed in a future version, replace with \n",
      "\tSeries.rolling(window=10,center=False).mean()\n"
     ]
    },
    {
     "data": {
      "image/png": "[encoded data removed]",
      "text/plain": [
       "<matplotlib.figure.Figure at 0x1275dbb50>"
      ]
     },
     "metadata": {},
     "output_type": "display_data"
    },
    {
     "data": {
      "text/html": [
       "<ul><li>accuracy_epochs: 20</li><li>accuracy_gamma: 0.005</li><li>active_label_prob: 0.1</li><li>active_selector<ul><li>active_decay: 0.65</li><li>active_thresh: 0.5</li><li>default_n_ixs: 1</li><li><b>name</b>: random</li></ul></li><li>dataset<ul><li>categories: [0, 1, 2, 3, 4, 5, 6, 7, 8, 9]</li><li><b>name</b>: mnist</li></ul></li><li>epochs: 2000</li><li>frac_rescore: 0.1</li><li>githash: 79cfe78-dirty</li><li>initial_random_training: 0</li><li>minibatch_labeled: 40</li><li>minibatch_semisup: 40</li><li>n_accuracy: 1500</li><li>random_seed: 3</li><li>semisup_selector<ul><li>default_n_ixs: 1</li><li><b>name</b>: top</li></ul></li></ul>"
      ],
      "text/plain": [
       "<IPython.core.display.HTML object>"
      ]
     },
     "metadata": {},
     "output_type": "display_data"
    },
    {
     "data": {
      "image/png": "[encoded data removed]",
      "text/plain": [
       "<matplotlib.figure.Figure at 0x121e17a90>"
      ]
     },
     "metadata": {},
     "output_type": "display_data"
    },
    {
     "name": "stdout",
     "output_type": "stream",
     "text": [
      "212\n",
      "adaptive-random\n"
     ]
    },
    {
     "data": {
      "image/png": "[encoded data removed]",
      "text/plain": [
       "<matplotlib.figure.Figure at 0x10d003490>"
      ]
     },
     "metadata": {},
     "output_type": "display_data"
    },
    {
     "data": {
      "text/html": [
       "<ul><li>accuracy_epochs: 20</li><li>accuracy_gamma: 0.005</li><li>active_label_prob: 0.1</li><li>active_selector<ul><li>active_decay: 0.65</li><li>active_thresh: 0.5</li><li>default_n_ixs: 1</li><li><b>name</b>: adaptive</li></ul></li><li>dataset<ul><li>categories: [0, 1, 2, 3, 4, 5, 6, 7, 8, 9]</li><li><b>name</b>: mnist</li></ul></li><li>epochs: 2000</li><li>frac_rescore: 0.1</li><li>githash: 79cfe78-dirty</li><li>initial_random_training: 0</li><li>minibatch_labeled: 40</li><li>minibatch_semisup: 40</li><li>n_accuracy: 1500</li><li>random_seed: 3</li><li>semisup_selector<ul><li>default_n_ixs: 1</li><li><b>name</b>: random</li></ul></li></ul>"
      ],
      "text/plain": [
       "<IPython.core.display.HTML object>"
      ]
     },
     "metadata": {},
     "output_type": "display_data"
    },
    {
     "data": {
      "image/png": "[encoded data removed]",
      "text/plain": [
       "<matplotlib.figure.Figure at 0x10cffa890>"
      ]
     },
     "metadata": {},
     "output_type": "display_data"
    },
    {
     "name": "stdout",
     "output_type": "stream",
     "text": [
      "216\n",
      "adaptive-top\n"
     ]
    },
    {
     "data": {
      "image/png": "[encoded data removed]",
      "text/plain": [
       "<matplotlib.figure.Figure at 0x127b243d0>"
      ]
     },
     "metadata": {},
     "output_type": "display_data"
    },
    {
     "data": {
      "text/html": [
       "<ul><li>accuracy_epochs: 20</li><li>accuracy_gamma: 0.005</li><li>active_label_prob: 0.1</li><li>active_selector<ul><li>active_decay: 0.65</li><li>active_thresh: 0.3</li><li>default_n_ixs: 1</li><li><b>name</b>: adaptive</li></ul></li><li>dataset<ul><li>categories: [0, 1, 2, 3, 4, 5, 6, 7, 8, 9]</li><li><b>name</b>: mnist</li></ul></li><li>epochs: 2000</li><li>frac_rescore: 0.03</li><li>githash: 79cfe78-dirty</li><li>initial_random_training: 0</li><li>minibatch_labeled: 40</li><li>minibatch_semisup: 40</li><li>n_accuracy: 1500</li><li>random_seed: 3</li><li>semisup_selector<ul><li>default_n_ixs: 1</li><li><b>name</b>: top</li></ul></li></ul>"
      ],
      "text/plain": [
       "<IPython.core.display.HTML object>"
      ]
     },
     "metadata": {},
     "output_type": "display_data"
    },
    {
     "data": {
      "image/png": "[encoded data removed]",
      "text/plain": [
       "<matplotlib.figure.Figure at 0x127a32850>"
      ]
     },
     "metadata": {},
     "output_type": "display_data"
    },
    {
     "name": "stdout",
     "output_type": "stream",
     "text": [
      "216\n",
      "uncertain-top\n"
     ]
    },
    {
     "data": {
      "image/png": "[encoded data removed]",
      "text/plain": [
       "<matplotlib.figure.Figure at 0x1275e6990>"
      ]
     },
     "metadata": {},
     "output_type": "display_data"
    },
    {
     "data": {
      "text/html": [
       "<ul><li>accuracy_epochs: 20</li><li>accuracy_gamma: 0.005</li><li>active_label_prob: 0.1</li><li>active_selector<ul><li>active_decay: 0.65</li><li>active_thresh: 0.3</li><li>default_n_ixs: 1</li><li><b>name</b>: uncertain</li></ul></li><li>dataset<ul><li>categories: [0, 1, 2, 3, 4, 5, 6, 7, 8, 9]</li><li><b>name</b>: mnist</li></ul></li><li>epochs: 2000</li><li>frac_rescore: 0.03</li><li>githash: 79cfe78-dirty</li><li>initial_random_training: 0</li><li>minibatch_labeled: 40</li><li>minibatch_semisup: 40</li><li>n_accuracy: 1500</li><li>random_seed: 3</li><li>semisup_selector<ul><li>default_n_ixs: 1</li><li><b>name</b>: top</li></ul></li></ul>"
      ],
      "text/plain": [
       "<IPython.core.display.HTML object>"
      ]
     },
     "metadata": {},
     "output_type": "display_data"
    },
    {
     "data": {
      "image/png": "[encoded data removed]",
      "text/plain": [
       "<matplotlib.figure.Figure at 0x1277ce6d0>"
      ]
     },
     "metadata": {},
     "output_type": "display_data"
    },
    {
     "name": "stdout",
     "output_type": "stream",
     "text": [
      "202\n",
      "random-top\n"
     ]
    },
    {
     "data": {
      "image/png": "[encoded data removed]",
      "text/plain": [
       "<matplotlib.figure.Figure at 0x1276016d0>"
      ]
     },
     "metadata": {},
     "output_type": "display_data"
    },
    {
     "data": {
      "text/html": [
       "<ul><li>accuracy_epochs: 20</li><li>accuracy_gamma: 0.005</li><li>active_label_prob: 0.1</li><li>active_selector<ul><li>active_decay: 0.65</li><li>active_thresh: 0.3</li><li>default_n_ixs: 1</li><li><b>name</b>: random</li></ul></li><li>dataset<ul><li>categories: [0, 1, 2, 3, 4, 5, 6, 7, 8, 9]</li><li><b>name</b>: mnist</li></ul></li><li>epochs: 2000</li><li>frac_rescore: 0.03</li><li>githash: 79cfe78-dirty</li><li>initial_random_training: 0</li><li>minibatch_labeled: 40</li><li>minibatch_semisup: 40</li><li>n_accuracy: 1500</li><li>random_seed: 3</li><li>semisup_selector<ul><li>default_n_ixs: 1</li><li><b>name</b>: top</li></ul></li></ul>"
      ],
      "text/plain": [
       "<IPython.core.display.HTML object>"
      ]
     },
     "metadata": {},
     "output_type": "display_data"
    },
    {
     "data": {
      "image/png": "[encoded data removed]",
      "text/plain": [
       "<matplotlib.figure.Figure at 0x10d012a50>"
      ]
     },
     "metadata": {},
     "output_type": "display_data"
    },
    {
     "name": "stdout",
     "output_type": "stream",
     "text": [
      "202\n",
      "random-empty\n"
     ]
    },
    {
     "data": {
      "image/png": "[encoded data removed]",
      "text/plain": [
       "<matplotlib.figure.Figure at 0x10d0d1e10>"
      ]
     },
     "metadata": {},
     "output_type": "display_data"
    },
    {
     "data": {
      "text/html": [
       "<ul><li>accuracy_epochs: 20</li><li>accuracy_gamma: 0.005</li><li>active_label_prob: 0.1</li><li>active_selector<ul><li>active_decay: 0.65</li><li>active_thresh: 0.3</li><li>default_n_ixs: 1</li><li><b>name</b>: random</li></ul></li><li>dataset<ul><li>categories: [0, 1, 2, 3, 4, 5, 6, 7, 8, 9]</li><li><b>name</b>: mnist</li></ul></li><li>epochs: 2000</li><li>frac_rescore: 0.03</li><li>githash: 79cfe78-dirty</li><li>initial_random_training: 0</li><li>minibatch_labeled: 40</li><li>minibatch_semisup: 40</li><li>n_accuracy: 1500</li><li>random_seed: 3</li><li>semisup_selector<ul><li>default_n_ixs: 1</li><li><b>name</b>: empty</li></ul></li></ul>"
      ],
      "text/plain": [
       "<IPython.core.display.HTML object>"
      ]
     },
     "metadata": {},
     "output_type": "display_data"
    },
    {
     "data": {
      "image/png": "[encoded data removed]",
      "text/plain": [
       "<matplotlib.figure.Figure at 0x10d2be4d0>"
      ]
     },
     "metadata": {},
     "output_type": "display_data"
    },
    {
     "name": "stdout",
     "output_type": "stream",
     "text": [
      "206\n",
      "random-random\n"
     ]
    },
    {
     "data": {
      "image/png": "[encoded data removed]",
      "text/plain": [
       "<matplotlib.figure.Figure at 0x10d41c290>"
      ]
     },
     "metadata": {},
     "output_type": "display_data"
    },
    {
     "data": {
      "text/html": [
       "<ul><li>accuracy_epochs: 20</li><li>accuracy_gamma: 0.005</li><li>active_label_prob: 0.1</li><li>active_selector<ul><li>active_decay: 0.65</li><li>active_thresh: 0.3</li><li>default_n_ixs: 1</li><li><b>name</b>: random</li></ul></li><li>dataset<ul><li>categories: [0, 1, 2, 3, 4, 5, 6, 7, 8, 9]</li><li><b>name</b>: mnist</li></ul></li><li>epochs: 2000</li><li>frac_rescore: 0.03</li><li>githash: 79cfe78-dirty</li><li>initial_random_training: 0</li><li>minibatch_labeled: 40</li><li>minibatch_semisup: 40</li><li>n_accuracy: 1500</li><li>random_seed: 3</li><li>semisup_selector<ul><li>default_n_ixs: 1</li><li><b>name</b>: random</li></ul></li></ul>"
      ],
      "text/plain": [
       "<IPython.core.display.HTML object>"
      ]
     },
     "metadata": {},
     "output_type": "display_data"
    },
    {
     "data": {
      "image/png": "[encoded data removed]",
      "text/plain": [
       "<matplotlib.figure.Figure at 0x10d299650>"
      ]
     },
     "metadata": {},
     "output_type": "display_data"
    },
    {
     "name": "stdout",
     "output_type": "stream",
     "text": [
      "200\n",
      "uncertain-top\n"
     ]
    },
    {
     "data": {
      "image/png": "[encoded data removed]",
      "text/plain": [
       "<matplotlib.figure.Figure at 0x10d2dd610>"
      ]
     },
     "metadata": {},
     "output_type": "display_data"
    },
    {
     "data": {
      "text/html": [
       "<ul><li>accuracy_epochs: 20</li><li>accuracy_gamma: 0.005</li><li>active_label_prob: 0.1</li><li>active_selector<ul><li>active_decay: 0.65</li><li>active_thresh: 0.5</li><li>default_n_ixs: 1</li><li><b>name</b>: uncertain</li></ul></li><li>dataset<ul><li>categories: [0, 1, 2, 3, 4, 5, 6, 7, 8, 9]</li><li><b>name</b>: mnist</li></ul></li><li>epochs: 2000</li><li>frac_rescore: 0.1</li><li>githash: 79cfe78-dirty</li><li>initial_random_training: 0</li><li>minibatch_labeled: 40</li><li>minibatch_semisup: 40</li><li>n_accuracy: 600</li><li>random_seed: 0</li><li>semisup_selector<ul><li>default_n_ixs: 1</li><li><b>name</b>: top</li></ul></li></ul>"
      ],
      "text/plain": [
       "<IPython.core.display.HTML object>"
      ]
     },
     "metadata": {},
     "output_type": "display_data"
    },
    {
     "data": {
      "image/png": "[encoded data removed]",
      "text/plain": [
       "<matplotlib.figure.Figure at 0x10d44a210>"
      ]
     },
     "metadata": {},
     "output_type": "display_data"
    },
    {
     "name": "stdout",
     "output_type": "stream",
     "text": [
      "200\n",
      "adaptive-top\n"
     ]
    },
    {
     "data": {
      "image/png": "[encoded data removed]",
      "text/plain": [
       "<matplotlib.figure.Figure at 0x10a0df410>"
      ]
     },
     "metadata": {},
     "output_type": "display_data"
    },
    {
     "data": {
      "text/html": [
       "<ul><li>accuracy_epochs: 20</li><li>accuracy_gamma: 0.005</li><li>active_label_prob: 0.1</li><li>active_selector<ul><li>active_decay: 0.65</li><li>active_thresh: 0.5</li><li>default_n_ixs: 1</li><li><b>name</b>: adaptive</li></ul></li><li>dataset<ul><li>categories: [0, 1, 2, 3, 4, 5, 6, 7, 8, 9]</li><li><b>name</b>: mnist</li></ul></li><li>epochs: 2000</li><li>frac_rescore: 0.1</li><li>githash: 425b4a5-dirty</li><li>initial_random_training: 0</li><li>minibatch_labeled: 40</li><li>minibatch_semisup: 40</li><li>n_accuracy: 600</li><li>random_seed: 0</li><li>semisup_selector<ul><li>default_n_ixs: 1</li><li><b>name</b>: top</li></ul></li></ul>"
      ],
      "text/plain": [
       "<IPython.core.display.HTML object>"
      ]
     },
     "metadata": {},
     "output_type": "display_data"
    },
    {
     "data": {
      "image/png": "[encoded data removed]",
      "text/plain": [
       "<matplotlib.figure.Figure at 0x1033ef290>"
      ]
     },
     "metadata": {},
     "output_type": "display_data"
    }
   ],
   "source": [
    "i = 1\n",
    "xs = {}\n",
    "ys = {}\n",
    "for i in range(1,10):\n",
    "    results = all_results[-i]['epoch_stats']\n",
    "    conf = all_results[-i].copy()\n",
    "    del conf['epoch_stats']\n",
    "    results = pd.DataFrame(results)\n",
    "    print sum(results['n_next_labeled']>0)\n",
    "    name='%s-%s'%(conf['active_selector']['name'],conf['semisup_selector']['name'])\n",
    "    print name\n",
    "    lab = results[results['n_next_labeled']>0]\n",
    "    right_cutoff = 70\n",
    "    xs[name] = lab['n_labeled']\n",
    "    ys[name] = lab['accuracy']\n",
    "    plt.plot(lab['n_labeled'],pd.rolling_mean(lab['accuracy'],10)) #[:right_cutoff])\n",
    "    plt.xlim([0,200])\n",
    "    plt.ylim([0.0,1.0])\n",
    "    plt.show()\n",
    "    display(HTML(html_conf(conf,bolded=set(['name']))))\n",
    "\n",
    "\n",
    "    plt.plot(range(len(results)),(results['n_next_labeled']>0).rolling(window=100).mean())\n",
    "    plt.title('epoch vs. labels')\n",
    "    plt.show()"
   ]
  },
  {
   "cell_type": "code",
   "execution_count": 190,
   "metadata": {
    "collapsed": true
   },
   "outputs": [
    {
     "name": "stderr",
     "output_type": "stream",
     "text": [
      "/Users/melkherj/anaconda/lib/python2.7/site-packages/IPython/kernel/__main__.py:1: FutureWarning: pd.rolling_mean is deprecated for Series and will be removed in a future version, replace with \n",
      "\tSeries.rolling(window=5,center=False).mean()\n",
      "  if __name__ == '__main__':\n"
     ]
    },
    {
     "data": {
      "text/plain": [
       "<matplotlib.text.Text at 0x1237183d0>"
      ]
     },
     "execution_count": 190,
     "metadata": {},
     "output_type": "execute_result"
    },
    {
     "data": {
      "image/png": "[encoded data removed]",
      "text/plain": [
       "<matplotlib.figure.Figure at 0x103d8f8d0>"
      ]
     },
     "metadata": {},
     "output_type": "display_data"
    }
   ],
   "source": [
    "plt.plot(lab['n_labeled'],pd.rolling_mean(lab['accuracy'],5))\n",
    "plt.title('uncertain')"
   ]
  },
  {
   "cell_type": "code",
   "execution_count": 171,
   "metadata": {
    "collapsed": true
   },
   "outputs": [
    {
     "data": {
      "text/plain": [
       "[<matplotlib.lines.Line2D at 0x10c96c250>]"
      ]
     },
     "execution_count": 171,
     "metadata": {},
     "output_type": "execute_result"
    },
    {
     "data": {
      "image/png": "[encoded data removed]",
      "text/plain": [
       "<matplotlib.figure.Figure at 0x10a1b2750>"
      ]
     },
     "metadata": {},
     "output_type": "display_data"
    }
   ],
   "source": [
    "plt.plot(lab['n_labeled'],pd.rolling_mean(lab['accuracy'],5))"
   ]
  },
  {
   "cell_type": "code",
   "execution_count": 98,
   "metadata": {
    "collapsed": false
   },
   "outputs": [
    {
     "data": {
      "image/png": "[encoded data removed]",
      "text/plain": [
       "<matplotlib.figure.Figure at 0x103db45d0>"
      ]
     },
     "metadata": {},
     "output_type": "display_data"
    }
   ],
   "source": []
  },
  {
   "cell_type": "code",
   "execution_count": 56,
   "metadata": {
    "collapsed": false
   },
   "outputs": [],
   "source": [
    "def sts(results,n_labeled=100):\n",
    "    stats = pd.DataFrame(results['epoch_stats'])\n",
    "    a = stats[(stats['n_labeled']>=n_labeled-10)&(stats['n_labeled']<=n_labeled+10)]['accuracy'].mean()\n",
    "    return float(a)"
   ]
  },
  {
   "cell_type": "code",
   "execution_count": 88,
   "metadata": {
    "collapsed": false
   },
   "outputs": [
    {
     "data": {
      "text/plain": [
       "0.6023774497649249"
      ]
     },
     "execution_count": 88,
     "metadata": {},
     "output_type": "execute_result"
    }
   ],
   "source": [
    "acc(results)"
   ]
  },
  {
   "cell_type": "code",
   "execution_count": 101,
   "metadata": {
    "collapsed": true
   },
   "outputs": [
    {
     "data": {
      "text/plain": [
       "[u'minibatch_semisup',\n",
       " u'accuracy_gamma',\n",
       " u'random_seed',\n",
       " u'n_rescore',\n",
       " u'githash',\n",
       " u'minibatch_labeled',\n",
       " u'batch_size',\n",
       " u'selector',\n",
       " u'active_label_prob',\n",
       " u'train_size',\n",
       " u'epochs',\n",
       " u'n_accuracy',\n",
       " u'test_size',\n",
       " u'accuracy_epochs',\n",
       " u'epoch_stats',\n",
       " u'initial_random_training']"
      ]
     },
     "execution_count": 101,
     "metadata": {},
     "output_type": "execute_result"
    }
   ],
   "source": [
    "results.keys()"
   ]
  },
  {
   "cell_type": "code",
   "execution_count": 114,
   "metadata": {
    "collapsed": true
   },
   "outputs": [
    {
     "name": "stderr",
     "output_type": "stream",
     "text": [
      "/Users/melkherj/anaconda/lib/python2.7/site-packages/IPython/kernel/__main__.py:2: FutureWarning: sort(columns=....) is deprecated, use sort_values(by=.....)\n",
      "  from IPython.kernel.zmq import kernelapp as app\n"
     ]
    },
    {
     "data": {
      "text/html": [
       "<div>\n",
       "<table border=\"1\" class=\"dataframe\">\n",
       "  <thead>\n",
       "    <tr style=\"text-align: right;\">\n",
       "      <th></th>\n",
       "      <th>n_rescore</th>\n",
       "      <th>accuracy</th>\n",
       "    </tr>\n",
       "  </thead>\n",
       "  <tbody>\n",
       "    <tr>\n",
       "      <th>2</th>\n",
       "      <td>5</td>\n",
       "      <td>0.630000</td>\n",
       "    </tr>\n",
       "    <tr>\n",
       "      <th>3</th>\n",
       "      <td>5</td>\n",
       "      <td>0.747554</td>\n",
       "    </tr>\n",
       "    <tr>\n",
       "      <th>5</th>\n",
       "      <td>5</td>\n",
       "      <td>0.745481</td>\n",
       "    </tr>\n",
       "    <tr>\n",
       "      <th>8</th>\n",
       "      <td>5</td>\n",
       "      <td>0.683723</td>\n",
       "    </tr>\n",
       "    <tr>\n",
       "      <th>0</th>\n",
       "      <td>9</td>\n",
       "      <td>0.723098</td>\n",
       "    </tr>\n",
       "    <tr>\n",
       "      <th>4</th>\n",
       "      <td>12</td>\n",
       "      <td>0.644776</td>\n",
       "    </tr>\n",
       "    <tr>\n",
       "      <th>9</th>\n",
       "      <td>17</td>\n",
       "      <td>NaN</td>\n",
       "    </tr>\n",
       "    <tr>\n",
       "      <th>6</th>\n",
       "      <td>28</td>\n",
       "      <td>0.585981</td>\n",
       "    </tr>\n",
       "    <tr>\n",
       "      <th>1</th>\n",
       "      <td>30</td>\n",
       "      <td>0.467692</td>\n",
       "    </tr>\n",
       "    <tr>\n",
       "      <th>7</th>\n",
       "      <td>32</td>\n",
       "      <td>0.614308</td>\n",
       "    </tr>\n",
       "  </tbody>\n",
       "</table>\n",
       "</div>"
      ],
      "text/plain": [
       "   n_rescore  accuracy\n",
       "2          5  0.630000\n",
       "3          5  0.747554\n",
       "5          5  0.745481\n",
       "8          5  0.683723\n",
       "0          9  0.723098\n",
       "4         12  0.644776\n",
       "9         17       NaN\n",
       "6         28  0.585981\n",
       "1         30  0.467692\n",
       "7         32  0.614308"
      ]
     },
     "execution_count": 114,
     "metadata": {},
     "output_type": "execute_result"
    }
   ],
   "source": [
    "pd.DataFrame([(results['initial_random_training'],acc(results,n_labeled=90)) for results in all_results[-10:]],\n",
    "            columns=['n_rescore','accuracy']).sort('n_rescore')"
   ]
  },
  {
   "cell_type": "code",
   "execution_count": 136,
   "metadata": {
    "collapsed": false
   },
   "outputs": [
    {
     "data": {
      "text/plain": [
       "{u'accuracy': 0.11666666716337204,\n",
       " u'epoch': 0,\n",
       " u'exp_accuracy': 0.002333333343267441,\n",
       " u'labeled_score': None,\n",
       " u'n_labeled': 0,\n",
       " u'n_labeled_correct': None,\n",
       " u'n_next_labeled': 0,\n",
       " u'n_semisup': 30477,\n",
       " u'scorediff': 3.649894969592893e-11,\n",
       " u'seconds': 0.7030050754547119}"
      ]
     },
     "execution_count": 136,
     "metadata": {},
     "output_type": "execute_result"
    }
   ],
   "source": [
    "all_results[-1]['epoch_stats'][0]"
   ]
  },
  {
   "cell_type": "code",
   "execution_count": 165,
   "metadata": {
    "collapsed": false
   },
   "outputs": [],
   "source": [
    "results = pd.DataFrame(all_results[-i]['epoch_stats'])"
   ]
  },
  {
   "cell_type": "code",
   "execution_count": 172,
   "metadata": {
    "collapsed": true
   },
   "outputs": [
    {
     "data": {
      "text/html": [
       "<div>\n",
       "<table border=\"1\" class=\"dataframe\">\n",
       "  <thead>\n",
       "    <tr style=\"text-align: right;\">\n",
       "      <th></th>\n",
       "      <th>accuracy</th>\n",
       "      <th>epoch</th>\n",
       "      <th>exp_accuracy</th>\n",
       "      <th>labeled_score</th>\n",
       "      <th>n_labeled</th>\n",
       "      <th>n_labeled_correct</th>\n",
       "      <th>n_next_labeled</th>\n",
       "      <th>n_semisup</th>\n",
       "      <th>scorediff</th>\n",
       "      <th>seconds</th>\n",
       "    </tr>\n",
       "  </thead>\n",
       "  <tbody>\n",
       "    <tr>\n",
       "      <th>0</th>\n",
       "      <td>0.110000</td>\n",
       "      <td>0</td>\n",
       "      <td>0.002200</td>\n",
       "      <td>NaN</td>\n",
       "      <td>0</td>\n",
       "      <td>NaN</td>\n",
       "      <td>0</td>\n",
       "      <td>24882</td>\n",
       "      <td>3.649895e-11</td>\n",
       "      <td>0.666064</td>\n",
       "    </tr>\n",
       "    <tr>\n",
       "      <th>1</th>\n",
       "      <td>0.110000</td>\n",
       "      <td>1</td>\n",
       "      <td>0.004356</td>\n",
       "      <td>NaN</td>\n",
       "      <td>0</td>\n",
       "      <td>NaN</td>\n",
       "      <td>0</td>\n",
       "      <td>24882</td>\n",
       "      <td>6.338592e-02</td>\n",
       "      <td>0.275183</td>\n",
       "    </tr>\n",
       "    <tr>\n",
       "      <th>2</th>\n",
       "      <td>0.110000</td>\n",
       "      <td>2</td>\n",
       "      <td>0.006469</td>\n",
       "      <td>NaN</td>\n",
       "      <td>0</td>\n",
       "      <td>NaN</td>\n",
       "      <td>0</td>\n",
       "      <td>24827</td>\n",
       "      <td>5.342827e-02</td>\n",
       "      <td>0.246560</td>\n",
       "    </tr>\n",
       "    <tr>\n",
       "      <th>3</th>\n",
       "      <td>0.110000</td>\n",
       "      <td>3</td>\n",
       "      <td>0.008540</td>\n",
       "      <td>NaN</td>\n",
       "      <td>0</td>\n",
       "      <td>NaN</td>\n",
       "      <td>0</td>\n",
       "      <td>24782</td>\n",
       "      <td>1.990708e-02</td>\n",
       "      <td>0.246323</td>\n",
       "    </tr>\n",
       "    <tr>\n",
       "      <th>4</th>\n",
       "      <td>0.110000</td>\n",
       "      <td>4</td>\n",
       "      <td>0.010569</td>\n",
       "      <td>NaN</td>\n",
       "      <td>0</td>\n",
       "      <td>NaN</td>\n",
       "      <td>0</td>\n",
       "      <td>24767</td>\n",
       "      <td>1.262310e-02</td>\n",
       "      <td>0.249844</td>\n",
       "    </tr>\n",
       "    <tr>\n",
       "      <th>5</th>\n",
       "      <td>0.110000</td>\n",
       "      <td>5</td>\n",
       "      <td>0.012557</td>\n",
       "      <td>NaN</td>\n",
       "      <td>0</td>\n",
       "      <td>NaN</td>\n",
       "      <td>0</td>\n",
       "      <td>24776</td>\n",
       "      <td>2.223126e-02</td>\n",
       "      <td>0.242680</td>\n",
       "    </tr>\n",
       "    <tr>\n",
       "      <th>6</th>\n",
       "      <td>0.110000</td>\n",
       "      <td>6</td>\n",
       "      <td>0.014506</td>\n",
       "      <td>NaN</td>\n",
       "      <td>0</td>\n",
       "      <td>NaN</td>\n",
       "      <td>0</td>\n",
       "      <td>24792</td>\n",
       "      <td>2.598463e-02</td>\n",
       "      <td>0.241403</td>\n",
       "    </tr>\n",
       "    <tr>\n",
       "      <th>7</th>\n",
       "      <td>0.110000</td>\n",
       "      <td>7</td>\n",
       "      <td>0.016416</td>\n",
       "      <td>NaN</td>\n",
       "      <td>0</td>\n",
       "      <td>NaN</td>\n",
       "      <td>0</td>\n",
       "      <td>24793</td>\n",
       "      <td>3.080170e-02</td>\n",
       "      <td>0.247377</td>\n",
       "    </tr>\n",
       "    <tr>\n",
       "      <th>8</th>\n",
       "      <td>0.110000</td>\n",
       "      <td>8</td>\n",
       "      <td>0.018288</td>\n",
       "      <td>NaN</td>\n",
       "      <td>0</td>\n",
       "      <td>NaN</td>\n",
       "      <td>0</td>\n",
       "      <td>24805</td>\n",
       "      <td>2.206426e-02</td>\n",
       "      <td>0.241796</td>\n",
       "    </tr>\n",
       "    <tr>\n",
       "      <th>9</th>\n",
       "      <td>0.110000</td>\n",
       "      <td>9</td>\n",
       "      <td>0.020122</td>\n",
       "      <td>NaN</td>\n",
       "      <td>0</td>\n",
       "      <td>NaN</td>\n",
       "      <td>0</td>\n",
       "      <td>24816</td>\n",
       "      <td>1.693793e-02</td>\n",
       "      <td>0.244318</td>\n",
       "    </tr>\n",
       "    <tr>\n",
       "      <th>10</th>\n",
       "      <td>0.066667</td>\n",
       "      <td>10</td>\n",
       "      <td>0.021053</td>\n",
       "      <td>NaN</td>\n",
       "      <td>0</td>\n",
       "      <td>NaN</td>\n",
       "      <td>0</td>\n",
       "      <td>24840</td>\n",
       "      <td>1.828184e-02</td>\n",
       "      <td>0.471166</td>\n",
       "    </tr>\n",
       "    <tr>\n",
       "      <th>11</th>\n",
       "      <td>0.066667</td>\n",
       "      <td>11</td>\n",
       "      <td>0.021965</td>\n",
       "      <td>NaN</td>\n",
       "      <td>0</td>\n",
       "      <td>NaN</td>\n",
       "      <td>0</td>\n",
       "      <td>24870</td>\n",
       "      <td>1.587328e-02</td>\n",
       "      <td>0.250139</td>\n",
       "    </tr>\n",
       "    <tr>\n",
       "      <th>12</th>\n",
       "      <td>0.066667</td>\n",
       "      <td>12</td>\n",
       "      <td>0.022859</td>\n",
       "      <td>NaN</td>\n",
       "      <td>0</td>\n",
       "      <td>NaN</td>\n",
       "      <td>0</td>\n",
       "      <td>24908</td>\n",
       "      <td>1.728679e-02</td>\n",
       "      <td>0.240511</td>\n",
       "    </tr>\n",
       "    <tr>\n",
       "      <th>13</th>\n",
       "      <td>0.066667</td>\n",
       "      <td>13</td>\n",
       "      <td>0.023735</td>\n",
       "      <td>NaN</td>\n",
       "      <td>0</td>\n",
       "      <td>NaN</td>\n",
       "      <td>0</td>\n",
       "      <td>24946</td>\n",
       "      <td>1.784213e-02</td>\n",
       "      <td>0.244586</td>\n",
       "    </tr>\n",
       "    <tr>\n",
       "      <th>14</th>\n",
       "      <td>0.066667</td>\n",
       "      <td>14</td>\n",
       "      <td>0.024594</td>\n",
       "      <td>NaN</td>\n",
       "      <td>0</td>\n",
       "      <td>NaN</td>\n",
       "      <td>0</td>\n",
       "      <td>24976</td>\n",
       "      <td>1.821773e-02</td>\n",
       "      <td>0.248502</td>\n",
       "    </tr>\n",
       "    <tr>\n",
       "      <th>15</th>\n",
       "      <td>0.066667</td>\n",
       "      <td>15</td>\n",
       "      <td>0.025435</td>\n",
       "      <td>NaN</td>\n",
       "      <td>0</td>\n",
       "      <td>NaN</td>\n",
       "      <td>0</td>\n",
       "      <td>25019</td>\n",
       "      <td>1.489675e-02</td>\n",
       "      <td>0.246556</td>\n",
       "    </tr>\n",
       "    <tr>\n",
       "      <th>16</th>\n",
       "      <td>0.066667</td>\n",
       "      <td>16</td>\n",
       "      <td>0.026260</td>\n",
       "      <td>NaN</td>\n",
       "      <td>0</td>\n",
       "      <td>NaN</td>\n",
       "      <td>0</td>\n",
       "      <td>25046</td>\n",
       "      <td>2.552792e-02</td>\n",
       "      <td>0.246552</td>\n",
       "    </tr>\n",
       "    <tr>\n",
       "      <th>17</th>\n",
       "      <td>0.066667</td>\n",
       "      <td>17</td>\n",
       "      <td>0.027068</td>\n",
       "      <td>NaN</td>\n",
       "      <td>0</td>\n",
       "      <td>NaN</td>\n",
       "      <td>0</td>\n",
       "      <td>25071</td>\n",
       "      <td>2.697347e-02</td>\n",
       "      <td>0.242573</td>\n",
       "    </tr>\n",
       "    <tr>\n",
       "      <th>18</th>\n",
       "      <td>0.066667</td>\n",
       "      <td>18</td>\n",
       "      <td>0.027860</td>\n",
       "      <td>NaN</td>\n",
       "      <td>0</td>\n",
       "      <td>NaN</td>\n",
       "      <td>0</td>\n",
       "      <td>25086</td>\n",
       "      <td>3.622467e-02</td>\n",
       "      <td>0.244332</td>\n",
       "    </tr>\n",
       "    <tr>\n",
       "      <th>19</th>\n",
       "      <td>0.066667</td>\n",
       "      <td>19</td>\n",
       "      <td>0.028636</td>\n",
       "      <td>NaN</td>\n",
       "      <td>0</td>\n",
       "      <td>NaN</td>\n",
       "      <td>0</td>\n",
       "      <td>25096</td>\n",
       "      <td>3.646768e-02</td>\n",
       "      <td>0.246230</td>\n",
       "    </tr>\n",
       "    <tr>\n",
       "      <th>20</th>\n",
       "      <td>0.136667</td>\n",
       "      <td>20</td>\n",
       "      <td>0.030797</td>\n",
       "      <td>NaN</td>\n",
       "      <td>0</td>\n",
       "      <td>NaN</td>\n",
       "      <td>0</td>\n",
       "      <td>25106</td>\n",
       "      <td>5.389149e-02</td>\n",
       "      <td>0.465352</td>\n",
       "    </tr>\n",
       "    <tr>\n",
       "      <th>21</th>\n",
       "      <td>0.136667</td>\n",
       "      <td>21</td>\n",
       "      <td>0.032914</td>\n",
       "      <td>NaN</td>\n",
       "      <td>0</td>\n",
       "      <td>NaN</td>\n",
       "      <td>0</td>\n",
       "      <td>25109</td>\n",
       "      <td>5.342206e-02</td>\n",
       "      <td>0.249748</td>\n",
       "    </tr>\n",
       "    <tr>\n",
       "      <th>22</th>\n",
       "      <td>0.136667</td>\n",
       "      <td>22</td>\n",
       "      <td>0.034989</td>\n",
       "      <td>NaN</td>\n",
       "      <td>0</td>\n",
       "      <td>NaN</td>\n",
       "      <td>0</td>\n",
       "      <td>25112</td>\n",
       "      <td>5.295163e-02</td>\n",
       "      <td>0.245706</td>\n",
       "    </tr>\n",
       "    <tr>\n",
       "      <th>23</th>\n",
       "      <td>0.136667</td>\n",
       "      <td>23</td>\n",
       "      <td>0.037023</td>\n",
       "      <td>NaN</td>\n",
       "      <td>0</td>\n",
       "      <td>NaN</td>\n",
       "      <td>0</td>\n",
       "      <td>25145</td>\n",
       "      <td>6.870738e-02</td>\n",
       "      <td>0.243525</td>\n",
       "    </tr>\n",
       "    <tr>\n",
       "      <th>24</th>\n",
       "      <td>0.136667</td>\n",
       "      <td>24</td>\n",
       "      <td>0.039016</td>\n",
       "      <td>0.316470</td>\n",
       "      <td>1</td>\n",
       "      <td>0.0</td>\n",
       "      <td>1</td>\n",
       "      <td>25153</td>\n",
       "      <td>6.043443e-02</td>\n",
       "      <td>0.430142</td>\n",
       "    </tr>\n",
       "    <tr>\n",
       "      <th>25</th>\n",
       "      <td>0.136667</td>\n",
       "      <td>25</td>\n",
       "      <td>0.040969</td>\n",
       "      <td>NaN</td>\n",
       "      <td>1</td>\n",
       "      <td>NaN</td>\n",
       "      <td>0</td>\n",
       "      <td>25165</td>\n",
       "      <td>4.797085e-02</td>\n",
       "      <td>0.423108</td>\n",
       "    </tr>\n",
       "    <tr>\n",
       "      <th>26</th>\n",
       "      <td>0.136667</td>\n",
       "      <td>26</td>\n",
       "      <td>0.042883</td>\n",
       "      <td>NaN</td>\n",
       "      <td>1</td>\n",
       "      <td>NaN</td>\n",
       "      <td>0</td>\n",
       "      <td>25183</td>\n",
       "      <td>3.862090e-02</td>\n",
       "      <td>0.429454</td>\n",
       "    </tr>\n",
       "    <tr>\n",
       "      <th>27</th>\n",
       "      <td>0.136667</td>\n",
       "      <td>27</td>\n",
       "      <td>0.044758</td>\n",
       "      <td>NaN</td>\n",
       "      <td>1</td>\n",
       "      <td>NaN</td>\n",
       "      <td>0</td>\n",
       "      <td>25211</td>\n",
       "      <td>2.760245e-02</td>\n",
       "      <td>0.425394</td>\n",
       "    </tr>\n",
       "    <tr>\n",
       "      <th>28</th>\n",
       "      <td>0.136667</td>\n",
       "      <td>28</td>\n",
       "      <td>0.046597</td>\n",
       "      <td>0.439259</td>\n",
       "      <td>2</td>\n",
       "      <td>0.0</td>\n",
       "      <td>1</td>\n",
       "      <td>25240</td>\n",
       "      <td>2.664519e-02</td>\n",
       "      <td>0.430449</td>\n",
       "    </tr>\n",
       "    <tr>\n",
       "      <th>29</th>\n",
       "      <td>0.136667</td>\n",
       "      <td>29</td>\n",
       "      <td>0.048398</td>\n",
       "      <td>0.418727</td>\n",
       "      <td>3</td>\n",
       "      <td>0.0</td>\n",
       "      <td>1</td>\n",
       "      <td>25271</td>\n",
       "      <td>3.371850e-02</td>\n",
       "      <td>0.431864</td>\n",
       "    </tr>\n",
       "    <tr>\n",
       "      <th>...</th>\n",
       "      <td>...</td>\n",
       "      <td>...</td>\n",
       "      <td>...</td>\n",
       "      <td>...</td>\n",
       "      <td>...</td>\n",
       "      <td>...</td>\n",
       "      <td>...</td>\n",
       "      <td>...</td>\n",
       "      <td>...</td>\n",
       "      <td>...</td>\n",
       "    </tr>\n",
       "    <tr>\n",
       "      <th>1970</th>\n",
       "      <td>0.860000</td>\n",
       "      <td>1970</td>\n",
       "      <td>0.846538</td>\n",
       "      <td>NaN</td>\n",
       "      <td>184</td>\n",
       "      <td>NaN</td>\n",
       "      <td>0</td>\n",
       "      <td>33056</td>\n",
       "      <td>1.643560e-02</td>\n",
       "      <td>0.688527</td>\n",
       "    </tr>\n",
       "    <tr>\n",
       "      <th>1971</th>\n",
       "      <td>0.860000</td>\n",
       "      <td>1971</td>\n",
       "      <td>0.846808</td>\n",
       "      <td>NaN</td>\n",
       "      <td>184</td>\n",
       "      <td>NaN</td>\n",
       "      <td>0</td>\n",
       "      <td>33075</td>\n",
       "      <td>1.375581e-02</td>\n",
       "      <td>0.455263</td>\n",
       "    </tr>\n",
       "    <tr>\n",
       "      <th>1972</th>\n",
       "      <td>0.860000</td>\n",
       "      <td>1972</td>\n",
       "      <td>0.847072</td>\n",
       "      <td>NaN</td>\n",
       "      <td>184</td>\n",
       "      <td>NaN</td>\n",
       "      <td>0</td>\n",
       "      <td>33087</td>\n",
       "      <td>1.655137e-02</td>\n",
       "      <td>0.454298</td>\n",
       "    </tr>\n",
       "    <tr>\n",
       "      <th>1973</th>\n",
       "      <td>0.860000</td>\n",
       "      <td>1973</td>\n",
       "      <td>0.847330</td>\n",
       "      <td>NaN</td>\n",
       "      <td>184</td>\n",
       "      <td>NaN</td>\n",
       "      <td>0</td>\n",
       "      <td>33098</td>\n",
       "      <td>1.507456e-02</td>\n",
       "      <td>0.459163</td>\n",
       "    </tr>\n",
       "    <tr>\n",
       "      <th>1974</th>\n",
       "      <td>0.860000</td>\n",
       "      <td>1974</td>\n",
       "      <td>0.847583</td>\n",
       "      <td>NaN</td>\n",
       "      <td>184</td>\n",
       "      <td>NaN</td>\n",
       "      <td>0</td>\n",
       "      <td>33110</td>\n",
       "      <td>2.008868e-02</td>\n",
       "      <td>0.464622</td>\n",
       "    </tr>\n",
       "    <tr>\n",
       "      <th>1975</th>\n",
       "      <td>0.860000</td>\n",
       "      <td>1975</td>\n",
       "      <td>0.847832</td>\n",
       "      <td>NaN</td>\n",
       "      <td>184</td>\n",
       "      <td>NaN</td>\n",
       "      <td>0</td>\n",
       "      <td>33128</td>\n",
       "      <td>1.302184e-02</td>\n",
       "      <td>0.453626</td>\n",
       "    </tr>\n",
       "    <tr>\n",
       "      <th>1976</th>\n",
       "      <td>0.860000</td>\n",
       "      <td>1976</td>\n",
       "      <td>0.848075</td>\n",
       "      <td>NaN</td>\n",
       "      <td>184</td>\n",
       "      <td>NaN</td>\n",
       "      <td>0</td>\n",
       "      <td>33140</td>\n",
       "      <td>1.776421e-02</td>\n",
       "      <td>0.457925</td>\n",
       "    </tr>\n",
       "    <tr>\n",
       "      <th>1977</th>\n",
       "      <td>0.860000</td>\n",
       "      <td>1977</td>\n",
       "      <td>0.848314</td>\n",
       "      <td>0.624413</td>\n",
       "      <td>185</td>\n",
       "      <td>0.0</td>\n",
       "      <td>1</td>\n",
       "      <td>33154</td>\n",
       "      <td>1.552822e-02</td>\n",
       "      <td>0.458440</td>\n",
       "    </tr>\n",
       "    <tr>\n",
       "      <th>1978</th>\n",
       "      <td>0.860000</td>\n",
       "      <td>1978</td>\n",
       "      <td>0.848547</td>\n",
       "      <td>NaN</td>\n",
       "      <td>185</td>\n",
       "      <td>NaN</td>\n",
       "      <td>0</td>\n",
       "      <td>33168</td>\n",
       "      <td>1.819986e-02</td>\n",
       "      <td>0.460283</td>\n",
       "    </tr>\n",
       "    <tr>\n",
       "      <th>1979</th>\n",
       "      <td>0.860000</td>\n",
       "      <td>1979</td>\n",
       "      <td>0.848776</td>\n",
       "      <td>NaN</td>\n",
       "      <td>185</td>\n",
       "      <td>NaN</td>\n",
       "      <td>0</td>\n",
       "      <td>33179</td>\n",
       "      <td>1.558947e-02</td>\n",
       "      <td>0.455965</td>\n",
       "    </tr>\n",
       "    <tr>\n",
       "      <th>1980</th>\n",
       "      <td>0.843333</td>\n",
       "      <td>1980</td>\n",
       "      <td>0.848668</td>\n",
       "      <td>NaN</td>\n",
       "      <td>185</td>\n",
       "      <td>NaN</td>\n",
       "      <td>0</td>\n",
       "      <td>33192</td>\n",
       "      <td>2.297001e-02</td>\n",
       "      <td>0.677348</td>\n",
       "    </tr>\n",
       "    <tr>\n",
       "      <th>1981</th>\n",
       "      <td>0.843333</td>\n",
       "      <td>1981</td>\n",
       "      <td>0.848561</td>\n",
       "      <td>NaN</td>\n",
       "      <td>185</td>\n",
       "      <td>NaN</td>\n",
       "      <td>0</td>\n",
       "      <td>33210</td>\n",
       "      <td>1.596687e-02</td>\n",
       "      <td>0.459234</td>\n",
       "    </tr>\n",
       "    <tr>\n",
       "      <th>1982</th>\n",
       "      <td>0.843333</td>\n",
       "      <td>1982</td>\n",
       "      <td>0.848456</td>\n",
       "      <td>NaN</td>\n",
       "      <td>185</td>\n",
       "      <td>NaN</td>\n",
       "      <td>0</td>\n",
       "      <td>33230</td>\n",
       "      <td>1.295999e-02</td>\n",
       "      <td>0.458456</td>\n",
       "    </tr>\n",
       "    <tr>\n",
       "      <th>1983</th>\n",
       "      <td>0.843333</td>\n",
       "      <td>1983</td>\n",
       "      <td>0.848354</td>\n",
       "      <td>NaN</td>\n",
       "      <td>185</td>\n",
       "      <td>NaN</td>\n",
       "      <td>0</td>\n",
       "      <td>33246</td>\n",
       "      <td>1.533046e-02</td>\n",
       "      <td>0.454953</td>\n",
       "    </tr>\n",
       "    <tr>\n",
       "      <th>1984</th>\n",
       "      <td>0.843333</td>\n",
       "      <td>1984</td>\n",
       "      <td>0.848253</td>\n",
       "      <td>NaN</td>\n",
       "      <td>185</td>\n",
       "      <td>NaN</td>\n",
       "      <td>0</td>\n",
       "      <td>33258</td>\n",
       "      <td>1.839007e-02</td>\n",
       "      <td>0.465189</td>\n",
       "    </tr>\n",
       "    <tr>\n",
       "      <th>1985</th>\n",
       "      <td>0.843333</td>\n",
       "      <td>1985</td>\n",
       "      <td>0.848155</td>\n",
       "      <td>NaN</td>\n",
       "      <td>185</td>\n",
       "      <td>NaN</td>\n",
       "      <td>0</td>\n",
       "      <td>33272</td>\n",
       "      <td>1.650436e-02</td>\n",
       "      <td>0.465119</td>\n",
       "    </tr>\n",
       "    <tr>\n",
       "      <th>1986</th>\n",
       "      <td>0.843333</td>\n",
       "      <td>1986</td>\n",
       "      <td>0.848059</td>\n",
       "      <td>NaN</td>\n",
       "      <td>185</td>\n",
       "      <td>NaN</td>\n",
       "      <td>0</td>\n",
       "      <td>33291</td>\n",
       "      <td>2.388142e-02</td>\n",
       "      <td>0.454886</td>\n",
       "    </tr>\n",
       "    <tr>\n",
       "      <th>1987</th>\n",
       "      <td>0.843333</td>\n",
       "      <td>1987</td>\n",
       "      <td>0.847964</td>\n",
       "      <td>NaN</td>\n",
       "      <td>185</td>\n",
       "      <td>NaN</td>\n",
       "      <td>0</td>\n",
       "      <td>33298</td>\n",
       "      <td>1.908164e-02</td>\n",
       "      <td>0.454144</td>\n",
       "    </tr>\n",
       "    <tr>\n",
       "      <th>1988</th>\n",
       "      <td>0.843333</td>\n",
       "      <td>1988</td>\n",
       "      <td>0.847872</td>\n",
       "      <td>NaN</td>\n",
       "      <td>185</td>\n",
       "      <td>NaN</td>\n",
       "      <td>0</td>\n",
       "      <td>33310</td>\n",
       "      <td>2.245161e-02</td>\n",
       "      <td>0.457449</td>\n",
       "    </tr>\n",
       "    <tr>\n",
       "      <th>1989</th>\n",
       "      <td>0.843333</td>\n",
       "      <td>1989</td>\n",
       "      <td>0.847781</td>\n",
       "      <td>NaN</td>\n",
       "      <td>185</td>\n",
       "      <td>NaN</td>\n",
       "      <td>0</td>\n",
       "      <td>33331</td>\n",
       "      <td>1.721386e-02</td>\n",
       "      <td>0.456072</td>\n",
       "    </tr>\n",
       "    <tr>\n",
       "      <th>1990</th>\n",
       "      <td>0.850000</td>\n",
       "      <td>1990</td>\n",
       "      <td>0.847825</td>\n",
       "      <td>0.570020</td>\n",
       "      <td>186</td>\n",
       "      <td>0.0</td>\n",
       "      <td>1</td>\n",
       "      <td>33346</td>\n",
       "      <td>1.282417e-02</td>\n",
       "      <td>0.680124</td>\n",
       "    </tr>\n",
       "    <tr>\n",
       "      <th>1991</th>\n",
       "      <td>0.850000</td>\n",
       "      <td>1991</td>\n",
       "      <td>0.847869</td>\n",
       "      <td>NaN</td>\n",
       "      <td>186</td>\n",
       "      <td>NaN</td>\n",
       "      <td>0</td>\n",
       "      <td>33353</td>\n",
       "      <td>2.314632e-02</td>\n",
       "      <td>0.457925</td>\n",
       "    </tr>\n",
       "    <tr>\n",
       "      <th>1992</th>\n",
       "      <td>0.850000</td>\n",
       "      <td>1992</td>\n",
       "      <td>0.847911</td>\n",
       "      <td>0.378895</td>\n",
       "      <td>187</td>\n",
       "      <td>1.0</td>\n",
       "      <td>1</td>\n",
       "      <td>33369</td>\n",
       "      <td>1.973679e-02</td>\n",
       "      <td>0.455892</td>\n",
       "    </tr>\n",
       "    <tr>\n",
       "      <th>1993</th>\n",
       "      <td>0.850000</td>\n",
       "      <td>1993</td>\n",
       "      <td>0.847953</td>\n",
       "      <td>NaN</td>\n",
       "      <td>187</td>\n",
       "      <td>NaN</td>\n",
       "      <td>0</td>\n",
       "      <td>33380</td>\n",
       "      <td>1.531179e-02</td>\n",
       "      <td>0.460497</td>\n",
       "    </tr>\n",
       "    <tr>\n",
       "      <th>1994</th>\n",
       "      <td>0.850000</td>\n",
       "      <td>1994</td>\n",
       "      <td>0.847994</td>\n",
       "      <td>NaN</td>\n",
       "      <td>187</td>\n",
       "      <td>NaN</td>\n",
       "      <td>0</td>\n",
       "      <td>33389</td>\n",
       "      <td>2.178997e-02</td>\n",
       "      <td>0.468543</td>\n",
       "    </tr>\n",
       "    <tr>\n",
       "      <th>1995</th>\n",
       "      <td>0.850000</td>\n",
       "      <td>1995</td>\n",
       "      <td>0.848034</td>\n",
       "      <td>NaN</td>\n",
       "      <td>187</td>\n",
       "      <td>NaN</td>\n",
       "      <td>0</td>\n",
       "      <td>33401</td>\n",
       "      <td>1.674689e-02</td>\n",
       "      <td>0.455707</td>\n",
       "    </tr>\n",
       "    <tr>\n",
       "      <th>1996</th>\n",
       "      <td>0.850000</td>\n",
       "      <td>1996</td>\n",
       "      <td>0.848073</td>\n",
       "      <td>NaN</td>\n",
       "      <td>187</td>\n",
       "      <td>NaN</td>\n",
       "      <td>0</td>\n",
       "      <td>33414</td>\n",
       "      <td>1.979645e-02</td>\n",
       "      <td>0.463945</td>\n",
       "    </tr>\n",
       "    <tr>\n",
       "      <th>1997</th>\n",
       "      <td>0.850000</td>\n",
       "      <td>1997</td>\n",
       "      <td>0.848112</td>\n",
       "      <td>0.459401</td>\n",
       "      <td>188</td>\n",
       "      <td>1.0</td>\n",
       "      <td>1</td>\n",
       "      <td>33428</td>\n",
       "      <td>1.427125e-02</td>\n",
       "      <td>0.460779</td>\n",
       "    </tr>\n",
       "    <tr>\n",
       "      <th>1998</th>\n",
       "      <td>0.850000</td>\n",
       "      <td>1998</td>\n",
       "      <td>0.848150</td>\n",
       "      <td>NaN</td>\n",
       "      <td>188</td>\n",
       "      <td>NaN</td>\n",
       "      <td>0</td>\n",
       "      <td>33438</td>\n",
       "      <td>1.797509e-02</td>\n",
       "      <td>0.460431</td>\n",
       "    </tr>\n",
       "    <tr>\n",
       "      <th>1999</th>\n",
       "      <td>0.850000</td>\n",
       "      <td>1999</td>\n",
       "      <td>0.848187</td>\n",
       "      <td>NaN</td>\n",
       "      <td>188</td>\n",
       "      <td>NaN</td>\n",
       "      <td>0</td>\n",
       "      <td>33458</td>\n",
       "      <td>2.133135e-02</td>\n",
       "      <td>0.457838</td>\n",
       "    </tr>\n",
       "  </tbody>\n",
       "</table>\n",
       "<p>2000 rows × 10 columns</p>\n",
       "</div>"
      ],
      "text/plain": [
       "      accuracy  epoch  exp_accuracy  labeled_score  n_labeled  \\\n",
       "0     0.110000      0      0.002200            NaN          0   \n",
       "1     0.110000      1      0.004356            NaN          0   \n",
       "2     0.110000      2      0.006469            NaN          0   \n",
       "3     0.110000      3      0.008540            NaN          0   \n",
       "4     0.110000      4      0.010569            NaN          0   \n",
       "5     0.110000      5      0.012557            NaN          0   \n",
       "6     0.110000      6      0.014506            NaN          0   \n",
       "7     0.110000      7      0.016416            NaN          0   \n",
       "8     0.110000      8      0.018288            NaN          0   \n",
       "9     0.110000      9      0.020122            NaN          0   \n",
       "10    0.066667     10      0.021053            NaN          0   \n",
       "11    0.066667     11      0.021965            NaN          0   \n",
       "12    0.066667     12      0.022859            NaN          0   \n",
       "13    0.066667     13      0.023735            NaN          0   \n",
       "14    0.066667     14      0.024594            NaN          0   \n",
       "15    0.066667     15      0.025435            NaN          0   \n",
       "16    0.066667     16      0.026260            NaN          0   \n",
       "17    0.066667     17      0.027068            NaN          0   \n",
       "18    0.066667     18      0.027860            NaN          0   \n",
       "19    0.066667     19      0.028636            NaN          0   \n",
       "20    0.136667     20      0.030797            NaN          0   \n",
       "21    0.136667     21      0.032914            NaN          0   \n",
       "22    0.136667     22      0.034989            NaN          0   \n",
       "23    0.136667     23      0.037023            NaN          0   \n",
       "24    0.136667     24      0.039016       0.316470          1   \n",
       "25    0.136667     25      0.040969            NaN          1   \n",
       "26    0.136667     26      0.042883            NaN          1   \n",
       "27    0.136667     27      0.044758            NaN          1   \n",
       "28    0.136667     28      0.046597       0.439259          2   \n",
       "29    0.136667     29      0.048398       0.418727          3   \n",
       "...        ...    ...           ...            ...        ...   \n",
       "1970  0.860000   1970      0.846538            NaN        184   \n",
       "1971  0.860000   1971      0.846808            NaN        184   \n",
       "1972  0.860000   1972      0.847072            NaN        184   \n",
       "1973  0.860000   1973      0.847330            NaN        184   \n",
       "1974  0.860000   1974      0.847583            NaN        184   \n",
       "1975  0.860000   1975      0.847832            NaN        184   \n",
       "1976  0.860000   1976      0.848075            NaN        184   \n",
       "1977  0.860000   1977      0.848314       0.624413        185   \n",
       "1978  0.860000   1978      0.848547            NaN        185   \n",
       "1979  0.860000   1979      0.848776            NaN        185   \n",
       "1980  0.843333   1980      0.848668            NaN        185   \n",
       "1981  0.843333   1981      0.848561            NaN        185   \n",
       "1982  0.843333   1982      0.848456            NaN        185   \n",
       "1983  0.843333   1983      0.848354            NaN        185   \n",
       "1984  0.843333   1984      0.848253            NaN        185   \n",
       "1985  0.843333   1985      0.848155            NaN        185   \n",
       "1986  0.843333   1986      0.848059            NaN        185   \n",
       "1987  0.843333   1987      0.847964            NaN        185   \n",
       "1988  0.843333   1988      0.847872            NaN        185   \n",
       "1989  0.843333   1989      0.847781            NaN        185   \n",
       "1990  0.850000   1990      0.847825       0.570020        186   \n",
       "1991  0.850000   1991      0.847869            NaN        186   \n",
       "1992  0.850000   1992      0.847911       0.378895        187   \n",
       "1993  0.850000   1993      0.847953            NaN        187   \n",
       "1994  0.850000   1994      0.847994            NaN        187   \n",
       "1995  0.850000   1995      0.848034            NaN        187   \n",
       "1996  0.850000   1996      0.848073            NaN        187   \n",
       "1997  0.850000   1997      0.848112       0.459401        188   \n",
       "1998  0.850000   1998      0.848150            NaN        188   \n",
       "1999  0.850000   1999      0.848187            NaN        188   \n",
       "\n",
       "      n_labeled_correct  n_next_labeled  n_semisup     scorediff   seconds  \n",
       "0                   NaN               0      24882  3.649895e-11  0.666064  \n",
       "1                   NaN               0      24882  6.338592e-02  0.275183  \n",
       "2                   NaN               0      24827  5.342827e-02  0.246560  \n",
       "3                   NaN               0      24782  1.990708e-02  0.246323  \n",
       "4                   NaN               0      24767  1.262310e-02  0.249844  \n",
       "5                   NaN               0      24776  2.223126e-02  0.242680  \n",
       "6                   NaN               0      24792  2.598463e-02  0.241403  \n",
       "7                   NaN               0      24793  3.080170e-02  0.247377  \n",
       "8                   NaN               0      24805  2.206426e-02  0.241796  \n",
       "9                   NaN               0      24816  1.693793e-02  0.244318  \n",
       "10                  NaN               0      24840  1.828184e-02  0.471166  \n",
       "11                  NaN               0      24870  1.587328e-02  0.250139  \n",
       "12                  NaN               0      24908  1.728679e-02  0.240511  \n",
       "13                  NaN               0      24946  1.784213e-02  0.244586  \n",
       "14                  NaN               0      24976  1.821773e-02  0.248502  \n",
       "15                  NaN               0      25019  1.489675e-02  0.246556  \n",
       "16                  NaN               0      25046  2.552792e-02  0.246552  \n",
       "17                  NaN               0      25071  2.697347e-02  0.242573  \n",
       "18                  NaN               0      25086  3.622467e-02  0.244332  \n",
       "19                  NaN               0      25096  3.646768e-02  0.246230  \n",
       "20                  NaN               0      25106  5.389149e-02  0.465352  \n",
       "21                  NaN               0      25109  5.342206e-02  0.249748  \n",
       "22                  NaN               0      25112  5.295163e-02  0.245706  \n",
       "23                  NaN               0      25145  6.870738e-02  0.243525  \n",
       "24                  0.0               1      25153  6.043443e-02  0.430142  \n",
       "25                  NaN               0      25165  4.797085e-02  0.423108  \n",
       "26                  NaN               0      25183  3.862090e-02  0.429454  \n",
       "27                  NaN               0      25211  2.760245e-02  0.425394  \n",
       "28                  0.0               1      25240  2.664519e-02  0.430449  \n",
       "29                  0.0               1      25271  3.371850e-02  0.431864  \n",
       "...                 ...             ...        ...           ...       ...  \n",
       "1970                NaN               0      33056  1.643560e-02  0.688527  \n",
       "1971                NaN               0      33075  1.375581e-02  0.455263  \n",
       "1972                NaN               0      33087  1.655137e-02  0.454298  \n",
       "1973                NaN               0      33098  1.507456e-02  0.459163  \n",
       "1974                NaN               0      33110  2.008868e-02  0.464622  \n",
       "1975                NaN               0      33128  1.302184e-02  0.453626  \n",
       "1976                NaN               0      33140  1.776421e-02  0.457925  \n",
       "1977                0.0               1      33154  1.552822e-02  0.458440  \n",
       "1978                NaN               0      33168  1.819986e-02  0.460283  \n",
       "1979                NaN               0      33179  1.558947e-02  0.455965  \n",
       "1980                NaN               0      33192  2.297001e-02  0.677348  \n",
       "1981                NaN               0      33210  1.596687e-02  0.459234  \n",
       "1982                NaN               0      33230  1.295999e-02  0.458456  \n",
       "1983                NaN               0      33246  1.533046e-02  0.454953  \n",
       "1984                NaN               0      33258  1.839007e-02  0.465189  \n",
       "1985                NaN               0      33272  1.650436e-02  0.465119  \n",
       "1986                NaN               0      33291  2.388142e-02  0.454886  \n",
       "1987                NaN               0      33298  1.908164e-02  0.454144  \n",
       "1988                NaN               0      33310  2.245161e-02  0.457449  \n",
       "1989                NaN               0      33331  1.721386e-02  0.456072  \n",
       "1990                0.0               1      33346  1.282417e-02  0.680124  \n",
       "1991                NaN               0      33353  2.314632e-02  0.457925  \n",
       "1992                1.0               1      33369  1.973679e-02  0.455892  \n",
       "1993                NaN               0      33380  1.531179e-02  0.460497  \n",
       "1994                NaN               0      33389  2.178997e-02  0.468543  \n",
       "1995                NaN               0      33401  1.674689e-02  0.455707  \n",
       "1996                NaN               0      33414  1.979645e-02  0.463945  \n",
       "1997                1.0               1      33428  1.427125e-02  0.460779  \n",
       "1998                NaN               0      33438  1.797509e-02  0.460431  \n",
       "1999                NaN               0      33458  2.133135e-02  0.457838  \n",
       "\n",
       "[2000 rows x 10 columns]"
      ]
     },
     "execution_count": 172,
     "metadata": {},
     "output_type": "execute_result"
    }
   ],
   "source": [
    "results"
   ]
  },
  {
   "cell_type": "code",
   "execution_count": 170,
   "metadata": {
    "collapsed": true
   },
   "outputs": [],
   "source": [
    "c = results['n_labeled']\n",
    "c.is"
   ]
  },
  {
   "cell_type": "code",
   "execution_count": 178,
   "metadata": {
    "collapsed": true
   },
   "outputs": [
    {
     "name": "stderr",
     "output_type": "stream",
     "text": [
      "/Users/melkherj/anaconda/lib/python2.7/site-packages/IPython/kernel/__main__.py:1: FutureWarning: pd.rolling_mean is deprecated for Series and will be removed in a future version, replace with \n",
      "\tSeries.rolling(window=10,center=False).mean()\n",
      "  if __name__ == '__main__':\n"
     ]
    },
    {
     "data": {
      "text/plain": [
       "24      NaN\n",
       "28      NaN\n",
       "29      NaN\n",
       "34      NaN\n",
       "46      NaN\n",
       "58      NaN\n",
       "71      NaN\n",
       "80      NaN\n",
       "98      NaN\n",
       "106     0.0\n",
       "128     0.0\n",
       "132     0.0\n",
       "140     0.0\n",
       "152     0.0\n",
       "160     0.0\n",
       "162     0.0\n",
       "190     0.1\n",
       "193     0.1\n",
       "216     0.1\n",
       "217     0.2\n",
       "234     0.2\n",
       "241     0.2\n",
       "251     0.2\n",
       "258     0.2\n",
       "262     0.2\n",
       "269     0.2\n",
       "272     0.1\n",
       "277     0.1\n",
       "281     0.1\n",
       "308     0.0\n",
       "       ... \n",
       "1691    0.4\n",
       "1703    0.4\n",
       "1706    0.5\n",
       "1707    0.6\n",
       "1710    0.6\n",
       "1730    0.6\n",
       "1735    0.6\n",
       "1745    0.6\n",
       "1747    0.7\n",
       "1760    0.6\n",
       "1766    0.7\n",
       "1786    0.6\n",
       "1794    0.6\n",
       "1803    0.5\n",
       "1823    0.5\n",
       "1843    0.4\n",
       "1850    0.4\n",
       "1851    0.5\n",
       "1879    0.4\n",
       "1883    0.5\n",
       "1896    0.4\n",
       "1904    0.4\n",
       "1917    0.3\n",
       "1924    0.3\n",
       "1939    0.3\n",
       "1960    0.3\n",
       "1977    0.2\n",
       "1990    0.1\n",
       "1992    0.2\n",
       "1997    0.2\n",
       "Name: n_labeled_correct, dtype: float64"
      ]
     },
     "execution_count": 178,
     "metadata": {},
     "output_type": "execute_result"
    }
   ],
   "source": [
    "pd.rolling_mean(df['n_labeled_correct'],10)"
   ]
  },
  {
   "cell_type": "code",
   "execution_count": 189,
   "metadata": {
    "collapsed": true
   },
   "outputs": [
    {
     "data": {
      "text/plain": [
       "24      0.316470\n",
       "28      0.439259\n",
       "29      0.418727\n",
       "34      0.556392\n",
       "46      0.316470\n",
       "58      0.316470\n",
       "71      0.310890\n",
       "80      0.564663\n",
       "98      0.327709\n",
       "106     0.362058\n",
       "128     0.618516\n",
       "132     0.245179\n",
       "140     0.316470\n",
       "152     0.342272\n",
       "160     0.407331\n",
       "162     0.481297\n",
       "190     0.433380\n",
       "193     0.430298\n",
       "216     0.547198\n",
       "217     0.565018\n",
       "234     0.524199\n",
       "241     0.348871\n",
       "251     0.677471\n",
       "258     0.412978\n",
       "262     0.255301\n",
       "269     0.395476\n",
       "272     0.412522\n",
       "277     0.190913\n",
       "281     0.296694\n",
       "308     0.441468\n",
       "          ...   \n",
       "1691    0.344536\n",
       "1703    0.313440\n",
       "1706    0.601849\n",
       "1707    0.596348\n",
       "1710    0.292381\n",
       "1730    0.410322\n",
       "1735    0.437859\n",
       "1745    0.611461\n",
       "1747    0.554391\n",
       "1760    0.621177\n",
       "1766    0.384260\n",
       "1786    0.467250\n",
       "1794    0.662312\n",
       "1803    0.369595\n",
       "1823    0.263148\n",
       "1843    0.490753\n",
       "1850    0.386663\n",
       "1851    0.320199\n",
       "1879    0.571500\n",
       "1883    0.470465\n",
       "1896    0.190913\n",
       "1904    0.283979\n",
       "1917    0.536835\n",
       "1924    0.437009\n",
       "1939    0.514887\n",
       "1960    0.370207\n",
       "1977    0.624413\n",
       "1990    0.570020\n",
       "1992    0.378895\n",
       "1997    0.459401\n",
       "Name: labeled_score, dtype: float64"
      ]
     },
     "execution_count": 189,
     "metadata": {},
     "output_type": "execute_result"
    }
   ],
   "source": [
    "df['labeled_score']"
   ]
  },
  {
   "cell_type": "code",
   "execution_count": 95,
   "metadata": {
    "collapsed": false
   },
   "outputs": [
    {
     "data": {
      "image/png": "[encoded data removed]",
      "text/plain": [
       "<matplotlib.figure.Figure at 0x132a5e350>"
      ]
     },
     "metadata": {},
     "output_type": "display_data"
    }
   ],
   "source": [
    "plt.plot(range(len(results)),(results['n_next_labeled']>0).rolling(window=100).mean())\n",
    "plt.title('epoch vs. labels')\n",
    "plt.show()"
   ]
  },
  {
   "cell_type": "code",
   "execution_count": 93,
   "metadata": {
    "collapsed": false,
    "scrolled": false
   },
   "outputs": [
    {
     "data": {
      "image/png": "[encoded data removed]",
      "text/plain": [
       "<matplotlib.figure.Figure at 0x109ea7f10>"
      ]
     },
     "metadata": {},
     "output_type": "display_data"
    }
   ],
   "source": [
    "df = results[results['n_next_labeled']>0]\n",
    "plt.plot(df['n_labeled'],df['n_labeled_correct'].rolling(window=30).mean())\n",
    "plt.title('labels vs. correct labels')\n",
    "plt.show()"
   ]
  },
  {
   "cell_type": "code",
   "execution_count": 207,
   "metadata": {
    "collapsed": true
   },
   "outputs": [
    {
     "name": "stderr",
     "output_type": "stream",
     "text": [
      "/Users/melkherj/anaconda/lib/python2.7/site-packages/IPython/kernel/__main__.py:1: FutureWarning: pd.rolling_mean is deprecated for Series and will be removed in a future version, replace with \n",
      "\tSeries.rolling(window=30,center=False).mean()\n",
      "  if __name__ == '__main__':\n"
     ]
    },
    {
     "data": {
      "text/plain": [
       "0            NaN\n",
       "1            NaN\n",
       "2            NaN\n",
       "3            NaN\n",
       "4            NaN\n",
       "5            NaN\n",
       "6            NaN\n",
       "7            NaN\n",
       "8            NaN\n",
       "9            NaN\n",
       "10           NaN\n",
       "11           NaN\n",
       "12           NaN\n",
       "13           NaN\n",
       "14           NaN\n",
       "15           NaN\n",
       "16           NaN\n",
       "17           NaN\n",
       "18           NaN\n",
       "19           NaN\n",
       "20           NaN\n",
       "21           NaN\n",
       "22           NaN\n",
       "23           NaN\n",
       "24           NaN\n",
       "25           NaN\n",
       "26           NaN\n",
       "27           NaN\n",
       "28           NaN\n",
       "29      0.100000\n",
       "          ...   \n",
       "1970    0.033333\n",
       "1971    0.033333\n",
       "1972    0.033333\n",
       "1973    0.033333\n",
       "1974    0.033333\n",
       "1975    0.033333\n",
       "1976    0.033333\n",
       "1977    0.066667\n",
       "1978    0.066667\n",
       "1979    0.066667\n",
       "1980    0.066667\n",
       "1981    0.066667\n",
       "1982    0.066667\n",
       "1983    0.066667\n",
       "1984    0.066667\n",
       "1985    0.066667\n",
       "1986    0.066667\n",
       "1987    0.066667\n",
       "1988    0.066667\n",
       "1989    0.066667\n",
       "1990    0.066667\n",
       "1991    0.066667\n",
       "1992    0.066667\n",
       "1993    0.066667\n",
       "1994    0.066667\n",
       "1995    0.066667\n",
       "1996    0.066667\n",
       "1997    0.066667\n",
       "1998    0.066667\n",
       "1999    0.066667\n",
       "Name: n_labeled_correct, dtype: float64"
      ]
     },
     "execution_count": 207,
     "metadata": {},
     "output_type": "execute_result"
    }
   ],
   "source": [
    "pd.rolling_mean(results['n_labeled_correct']==0,30)"
   ]
  },
  {
   "cell_type": "code",
   "execution_count": 256,
   "metadata": {
    "collapsed": true
   },
   "outputs": [],
   "source": [
    "import random\n",
    "import scipy"
   ]
  },
  {
   "cell_type": "code",
   "execution_count": null,
   "metadata": {
    "collapsed": true
   },
   "outputs": [],
   "source": []
  },
  {
   "cell_type": "code",
   "execution_count": 259,
   "metadata": {
    "collapsed": true
   },
   "outputs": [
    {
     "data": {
      "text/plain": [
       "200     0.000000\n",
       "201     0.000000\n",
       "202     0.000000\n",
       "203     0.000000\n",
       "204     0.000000\n",
       "205     0.000000\n",
       "206     0.000000\n",
       "207     0.000000\n",
       "208     0.000000\n",
       "209     0.000000\n",
       "210     0.000000\n",
       "211     0.000000\n",
       "212     0.000000\n",
       "213     0.000000\n",
       "214     0.000000\n",
       "215     0.000000\n",
       "216     0.000000\n",
       "217     0.000000\n",
       "218     0.000000\n",
       "219     0.000000\n",
       "220     0.000000\n",
       "221     0.000000\n",
       "222     0.000000\n",
       "223     0.000000\n",
       "224     0.000000\n",
       "225     0.000000\n",
       "226     0.000000\n",
       "227     0.000000\n",
       "228     0.000000\n",
       "229     0.000000\n",
       "          ...   \n",
       "1970    0.001264\n",
       "1971    0.001264\n",
       "1972    0.001264\n",
       "1973    0.001264\n",
       "1974   -0.023736\n",
       "1975   -0.023736\n",
       "1976   -0.023736\n",
       "1977   -0.023736\n",
       "1978   -0.023736\n",
       "1979   -0.023736\n",
       "1980   -0.023736\n",
       "1981   -0.023736\n",
       "1982   -0.023736\n",
       "1983   -0.023736\n",
       "1984   -0.023736\n",
       "1985   -0.023736\n",
       "1986   -0.023736\n",
       "1987   -0.048736\n",
       "1988   -0.048736\n",
       "1989   -0.048736\n",
       "1990   -0.023736\n",
       "1991   -0.023736\n",
       "1992   -0.023736\n",
       "1993   -0.023736\n",
       "1994   -0.048736\n",
       "1995   -0.048736\n",
       "1996   -0.048736\n",
       "1997   -0.048736\n",
       "1998   -0.048736\n",
       "1999   -0.048736\n",
       "Name: n_next_labeled, dtype: float64"
      ]
     },
     "execution_count": 259,
     "metadata": {},
     "output_type": "execute_result"
    }
   ],
   "source": [
    "labeled2.fillna(0)"
   ]
  },
  {
   "cell_type": "code",
   "execution_count": 276,
   "metadata": {
    "collapsed": true
   },
   "outputs": [
    {
     "data": {
      "text/plain": [
       "89           NaN\n",
       "1631    0.010667\n",
       "906     0.023500\n",
       "532     0.028667\n",
       "297    -0.028333\n",
       "244     0.064167\n",
       "1253    0.043833\n",
       "908     0.019500\n",
       "783     0.023500\n",
       "521     0.033667\n",
       "74           NaN\n",
       "1122    0.013833\n",
       "639     0.000833\n",
       "555    -0.007333\n",
       "432     0.003167\n",
       "1004   -0.024583\n",
       "1320   -0.024583\n",
       "921     0.001333\n",
       "204          NaN\n",
       "378     0.023833\n",
       "624    -0.007917\n",
       "30           NaN\n",
       "1025    0.005833\n",
       "86           NaN\n",
       "1101    0.023000\n",
       "1543   -0.023167\n",
       "1244    0.032917\n",
       "214          NaN\n",
       "1715   -0.008833\n",
       "362    -0.015083\n",
       "          ...   \n",
       "1699    0.012500\n",
       "1056    0.019250\n",
       "1588    0.028000\n",
       "1035    0.022167\n",
       "850    -0.015750\n",
       "274     0.005833\n",
       "1080   -0.013083\n",
       "283    -0.019500\n",
       "804     0.021667\n",
       "125          NaN\n",
       "1215   -0.012167\n",
       "1024    0.005000\n",
       "1451   -0.002333\n",
       "1730    0.006083\n",
       "696     0.033000\n",
       "852    -0.003917\n",
       "245     0.063167\n",
       "1667    0.000333\n",
       "1116    0.015583\n",
       "416     0.029167\n",
       "575     0.012167\n",
       "512     0.038667\n",
       "176          NaN\n",
       "113          NaN\n",
       "1357    0.019833\n",
       "1593    0.033667\n",
       "1729    0.007500\n",
       "662     0.016167\n",
       "1647    0.002000\n",
       "712     0.033667\n",
       "Name: accuracy, dtype: float64"
      ]
     },
     "execution_count": 276,
     "metadata": {},
     "output_type": "execute_result"
    }
   ],
   "source": [
    "acc_deriv[40:][ixs]"
   ]
  },
  {
   "cell_type": "code",
   "execution_count": 280,
   "metadata": {
    "collapsed": false
   },
   "outputs": [
    {
     "data": {
      "text/plain": [
       "1760"
      ]
     },
     "execution_count": 280,
     "metadata": {},
     "output_type": "execute_result"
    }
   ],
   "source": [
    "len(labeled2[40:].dropna())"
   ]
  },
  {
   "cell_type": "code",
   "execution_count": 281,
   "metadata": {
    "collapsed": true
   },
   "outputs": [
    {
     "data": {
      "text/plain": [
       "89           NaN\n",
       "1631    0.010667\n",
       "906     0.023500\n",
       "532     0.028667\n",
       "297    -0.028333\n",
       "244     0.064167\n",
       "1253    0.043833\n",
       "908     0.019500\n",
       "783     0.023500\n",
       "521     0.033667\n",
       "74           NaN\n",
       "1122    0.013833\n",
       "639     0.000833\n",
       "555    -0.007333\n",
       "432     0.003167\n",
       "1004   -0.024583\n",
       "1320   -0.024583\n",
       "921     0.001333\n",
       "204          NaN\n",
       "378     0.023833\n",
       "624    -0.007917\n",
       "30           NaN\n",
       "1025    0.005833\n",
       "86           NaN\n",
       "1101    0.023000\n",
       "1543   -0.023167\n",
       "1244    0.032917\n",
       "214          NaN\n",
       "1715   -0.008833\n",
       "362    -0.015083\n",
       "          ...   \n",
       "1699    0.012500\n",
       "1056    0.019250\n",
       "1588    0.028000\n",
       "1035    0.022167\n",
       "850    -0.015750\n",
       "274     0.005833\n",
       "1080   -0.013083\n",
       "283    -0.019500\n",
       "804     0.021667\n",
       "125          NaN\n",
       "1215   -0.012167\n",
       "1024    0.005000\n",
       "1451   -0.002333\n",
       "1730    0.006083\n",
       "696     0.033000\n",
       "852    -0.003917\n",
       "245     0.063167\n",
       "1667    0.000333\n",
       "1116    0.015583\n",
       "416     0.029167\n",
       "575     0.012167\n",
       "512     0.038667\n",
       "176          NaN\n",
       "113          NaN\n",
       "1357    0.019833\n",
       "1593    0.033667\n",
       "1729    0.007500\n",
       "662     0.016167\n",
       "1647    0.002000\n",
       "712     0.033667\n",
       "Name: accuracy, dtype: float64"
      ]
     },
     "execution_count": 281,
     "metadata": {},
     "output_type": "execute_result"
    }
   ],
   "source": [
    "acc_deriv[40:][ixs]"
   ]
  },
  {
   "cell_type": "code",
   "execution_count": 294,
   "metadata": {
    "collapsed": true
   },
   "outputs": [
    {
     "data": {
      "text/plain": [
       "200          NaN\n",
       "201          NaN\n",
       "202          NaN\n",
       "203          NaN\n",
       "204          NaN\n",
       "205          NaN\n",
       "206          NaN\n",
       "207          NaN\n",
       "208          NaN\n",
       "209          NaN\n",
       "210          NaN\n",
       "211          NaN\n",
       "212          NaN\n",
       "213          NaN\n",
       "214          NaN\n",
       "215          NaN\n",
       "216          NaN\n",
       "217          NaN\n",
       "218          NaN\n",
       "219          NaN\n",
       "220          NaN\n",
       "221          NaN\n",
       "222          NaN\n",
       "223          NaN\n",
       "224          NaN\n",
       "225          NaN\n",
       "226          NaN\n",
       "227          NaN\n",
       "228          NaN\n",
       "229    -0.023736\n",
       "          ...   \n",
       "1970    0.001264\n",
       "1971    0.001264\n",
       "1972    0.001264\n",
       "1973   -0.023736\n",
       "1974   -0.023736\n",
       "1975   -0.023736\n",
       "1976   -0.023736\n",
       "1977   -0.023736\n",
       "1978   -0.023736\n",
       "1979   -0.023736\n",
       "1980   -0.023736\n",
       "1981   -0.023736\n",
       "1982   -0.023736\n",
       "1983   -0.023736\n",
       "1984   -0.023736\n",
       "1985   -0.023736\n",
       "1986   -0.048736\n",
       "1987   -0.048736\n",
       "1988   -0.048736\n",
       "1989   -0.023736\n",
       "1990   -0.023736\n",
       "1991   -0.023736\n",
       "1992   -0.023736\n",
       "1993   -0.048736\n",
       "1994   -0.048736\n",
       "1995   -0.048736\n",
       "1996   -0.048736\n",
       "1997   -0.048736\n",
       "1998   -0.048736\n",
       "1999   -0.048736\n",
       "Name: n_next_labeled, dtype: float64"
      ]
     },
     "execution_count": 294,
     "metadata": {},
     "output_type": "execute_result"
    }
   ],
   "source": [
    "labeled2"
   ]
  },
  {
   "cell_type": "code",
   "execution_count": 351,
   "metadata": {
    "collapsed": false
   },
   "outputs": [
    {
     "data": {
      "text/plain": [
       "53"
      ]
     },
     "execution_count": 351,
     "metadata": {},
     "output_type": "execute_result"
    }
   ],
   "source": [
    "sum(results['n_labeled_correct']>0)"
   ]
  },
  {
   "cell_type": "code",
   "execution_count": 357,
   "metadata": {
    "collapsed": false
   },
   "outputs": [
    {
     "data": {
      "text/plain": [
       "144"
      ]
     },
     "execution_count": 357,
     "metadata": {},
     "output_type": "execute_result"
    }
   ],
   "source": [
    "sum(flag)"
   ]
  },
  {
   "cell_type": "code",
   "execution_count": 411,
   "metadata": {
    "collapsed": true
   },
   "outputs": [
    {
     "data": {
      "text/html": [
       "<div>\n",
       "<table border=\"1\" class=\"dataframe\">\n",
       "  <thead>\n",
       "    <tr style=\"text-align: right;\">\n",
       "      <th></th>\n",
       "      <th>accuracy</th>\n",
       "      <th>epoch</th>\n",
       "      <th>exp_accuracy</th>\n",
       "      <th>labeled_score</th>\n",
       "      <th>n_labeled</th>\n",
       "      <th>n_labeled_correct</th>\n",
       "      <th>n_next_labeled</th>\n",
       "      <th>n_semisup</th>\n",
       "      <th>scorediff</th>\n",
       "      <th>seconds</th>\n",
       "      <th>flag</th>\n",
       "    </tr>\n",
       "  </thead>\n",
       "  <tbody>\n",
       "    <tr>\n",
       "      <th>0</th>\n",
       "      <td>0.110000</td>\n",
       "      <td>0</td>\n",
       "      <td>0.002200</td>\n",
       "      <td>NaN</td>\n",
       "      <td>0</td>\n",
       "      <td>NaN</td>\n",
       "      <td>0</td>\n",
       "      <td>24882</td>\n",
       "      <td>3.649895e-11</td>\n",
       "      <td>0.666064</td>\n",
       "      <td>0.0</td>\n",
       "    </tr>\n",
       "    <tr>\n",
       "      <th>1</th>\n",
       "      <td>0.110000</td>\n",
       "      <td>1</td>\n",
       "      <td>0.004356</td>\n",
       "      <td>NaN</td>\n",
       "      <td>0</td>\n",
       "      <td>NaN</td>\n",
       "      <td>0</td>\n",
       "      <td>24882</td>\n",
       "      <td>6.338592e-02</td>\n",
       "      <td>0.275183</td>\n",
       "      <td>0.0</td>\n",
       "    </tr>\n",
       "    <tr>\n",
       "      <th>2</th>\n",
       "      <td>0.110000</td>\n",
       "      <td>2</td>\n",
       "      <td>0.006469</td>\n",
       "      <td>NaN</td>\n",
       "      <td>0</td>\n",
       "      <td>NaN</td>\n",
       "      <td>0</td>\n",
       "      <td>24827</td>\n",
       "      <td>5.342827e-02</td>\n",
       "      <td>0.246560</td>\n",
       "      <td>0.0</td>\n",
       "    </tr>\n",
       "    <tr>\n",
       "      <th>3</th>\n",
       "      <td>0.110000</td>\n",
       "      <td>3</td>\n",
       "      <td>0.008540</td>\n",
       "      <td>NaN</td>\n",
       "      <td>0</td>\n",
       "      <td>NaN</td>\n",
       "      <td>0</td>\n",
       "      <td>24782</td>\n",
       "      <td>1.990708e-02</td>\n",
       "      <td>0.246323</td>\n",
       "      <td>0.0</td>\n",
       "    </tr>\n",
       "    <tr>\n",
       "      <th>4</th>\n",
       "      <td>0.110000</td>\n",
       "      <td>4</td>\n",
       "      <td>0.010569</td>\n",
       "      <td>NaN</td>\n",
       "      <td>0</td>\n",
       "      <td>NaN</td>\n",
       "      <td>0</td>\n",
       "      <td>24767</td>\n",
       "      <td>1.262310e-02</td>\n",
       "      <td>0.249844</td>\n",
       "      <td>0.0</td>\n",
       "    </tr>\n",
       "    <tr>\n",
       "      <th>5</th>\n",
       "      <td>0.110000</td>\n",
       "      <td>5</td>\n",
       "      <td>0.012557</td>\n",
       "      <td>NaN</td>\n",
       "      <td>0</td>\n",
       "      <td>NaN</td>\n",
       "      <td>0</td>\n",
       "      <td>24776</td>\n",
       "      <td>2.223126e-02</td>\n",
       "      <td>0.242680</td>\n",
       "      <td>0.0</td>\n",
       "    </tr>\n",
       "    <tr>\n",
       "      <th>6</th>\n",
       "      <td>0.110000</td>\n",
       "      <td>6</td>\n",
       "      <td>0.014506</td>\n",
       "      <td>NaN</td>\n",
       "      <td>0</td>\n",
       "      <td>NaN</td>\n",
       "      <td>0</td>\n",
       "      <td>24792</td>\n",
       "      <td>2.598463e-02</td>\n",
       "      <td>0.241403</td>\n",
       "      <td>0.0</td>\n",
       "    </tr>\n",
       "    <tr>\n",
       "      <th>7</th>\n",
       "      <td>0.110000</td>\n",
       "      <td>7</td>\n",
       "      <td>0.016416</td>\n",
       "      <td>NaN</td>\n",
       "      <td>0</td>\n",
       "      <td>NaN</td>\n",
       "      <td>0</td>\n",
       "      <td>24793</td>\n",
       "      <td>3.080170e-02</td>\n",
       "      <td>0.247377</td>\n",
       "      <td>0.0</td>\n",
       "    </tr>\n",
       "    <tr>\n",
       "      <th>8</th>\n",
       "      <td>0.110000</td>\n",
       "      <td>8</td>\n",
       "      <td>0.018288</td>\n",
       "      <td>NaN</td>\n",
       "      <td>0</td>\n",
       "      <td>NaN</td>\n",
       "      <td>0</td>\n",
       "      <td>24805</td>\n",
       "      <td>2.206426e-02</td>\n",
       "      <td>0.241796</td>\n",
       "      <td>0.0</td>\n",
       "    </tr>\n",
       "    <tr>\n",
       "      <th>9</th>\n",
       "      <td>0.110000</td>\n",
       "      <td>9</td>\n",
       "      <td>0.020122</td>\n",
       "      <td>NaN</td>\n",
       "      <td>0</td>\n",
       "      <td>NaN</td>\n",
       "      <td>0</td>\n",
       "      <td>24816</td>\n",
       "      <td>1.693793e-02</td>\n",
       "      <td>0.244318</td>\n",
       "      <td>0.0</td>\n",
       "    </tr>\n",
       "    <tr>\n",
       "      <th>10</th>\n",
       "      <td>0.066667</td>\n",
       "      <td>10</td>\n",
       "      <td>0.021053</td>\n",
       "      <td>NaN</td>\n",
       "      <td>0</td>\n",
       "      <td>NaN</td>\n",
       "      <td>0</td>\n",
       "      <td>24840</td>\n",
       "      <td>1.828184e-02</td>\n",
       "      <td>0.471166</td>\n",
       "      <td>0.0</td>\n",
       "    </tr>\n",
       "    <tr>\n",
       "      <th>11</th>\n",
       "      <td>0.066667</td>\n",
       "      <td>11</td>\n",
       "      <td>0.021965</td>\n",
       "      <td>NaN</td>\n",
       "      <td>0</td>\n",
       "      <td>NaN</td>\n",
       "      <td>0</td>\n",
       "      <td>24870</td>\n",
       "      <td>1.587328e-02</td>\n",
       "      <td>0.250139</td>\n",
       "      <td>0.0</td>\n",
       "    </tr>\n",
       "    <tr>\n",
       "      <th>12</th>\n",
       "      <td>0.066667</td>\n",
       "      <td>12</td>\n",
       "      <td>0.022859</td>\n",
       "      <td>NaN</td>\n",
       "      <td>0</td>\n",
       "      <td>NaN</td>\n",
       "      <td>0</td>\n",
       "      <td>24908</td>\n",
       "      <td>1.728679e-02</td>\n",
       "      <td>0.240511</td>\n",
       "      <td>0.0</td>\n",
       "    </tr>\n",
       "    <tr>\n",
       "      <th>13</th>\n",
       "      <td>0.066667</td>\n",
       "      <td>13</td>\n",
       "      <td>0.023735</td>\n",
       "      <td>NaN</td>\n",
       "      <td>0</td>\n",
       "      <td>NaN</td>\n",
       "      <td>0</td>\n",
       "      <td>24946</td>\n",
       "      <td>1.784213e-02</td>\n",
       "      <td>0.244586</td>\n",
       "      <td>0.0</td>\n",
       "    </tr>\n",
       "    <tr>\n",
       "      <th>14</th>\n",
       "      <td>0.066667</td>\n",
       "      <td>14</td>\n",
       "      <td>0.024594</td>\n",
       "      <td>NaN</td>\n",
       "      <td>0</td>\n",
       "      <td>NaN</td>\n",
       "      <td>0</td>\n",
       "      <td>24976</td>\n",
       "      <td>1.821773e-02</td>\n",
       "      <td>0.248502</td>\n",
       "      <td>0.0</td>\n",
       "    </tr>\n",
       "    <tr>\n",
       "      <th>15</th>\n",
       "      <td>0.066667</td>\n",
       "      <td>15</td>\n",
       "      <td>0.025435</td>\n",
       "      <td>NaN</td>\n",
       "      <td>0</td>\n",
       "      <td>NaN</td>\n",
       "      <td>0</td>\n",
       "      <td>25019</td>\n",
       "      <td>1.489675e-02</td>\n",
       "      <td>0.246556</td>\n",
       "      <td>0.0</td>\n",
       "    </tr>\n",
       "    <tr>\n",
       "      <th>16</th>\n",
       "      <td>0.066667</td>\n",
       "      <td>16</td>\n",
       "      <td>0.026260</td>\n",
       "      <td>NaN</td>\n",
       "      <td>0</td>\n",
       "      <td>NaN</td>\n",
       "      <td>0</td>\n",
       "      <td>25046</td>\n",
       "      <td>2.552792e-02</td>\n",
       "      <td>0.246552</td>\n",
       "      <td>0.0</td>\n",
       "    </tr>\n",
       "    <tr>\n",
       "      <th>17</th>\n",
       "      <td>0.066667</td>\n",
       "      <td>17</td>\n",
       "      <td>0.027068</td>\n",
       "      <td>NaN</td>\n",
       "      <td>0</td>\n",
       "      <td>NaN</td>\n",
       "      <td>0</td>\n",
       "      <td>25071</td>\n",
       "      <td>2.697347e-02</td>\n",
       "      <td>0.242573</td>\n",
       "      <td>0.0</td>\n",
       "    </tr>\n",
       "    <tr>\n",
       "      <th>18</th>\n",
       "      <td>0.066667</td>\n",
       "      <td>18</td>\n",
       "      <td>0.027860</td>\n",
       "      <td>NaN</td>\n",
       "      <td>0</td>\n",
       "      <td>NaN</td>\n",
       "      <td>0</td>\n",
       "      <td>25086</td>\n",
       "      <td>3.622467e-02</td>\n",
       "      <td>0.244332</td>\n",
       "      <td>0.0</td>\n",
       "    </tr>\n",
       "    <tr>\n",
       "      <th>19</th>\n",
       "      <td>0.066667</td>\n",
       "      <td>19</td>\n",
       "      <td>0.028636</td>\n",
       "      <td>NaN</td>\n",
       "      <td>0</td>\n",
       "      <td>NaN</td>\n",
       "      <td>0</td>\n",
       "      <td>25096</td>\n",
       "      <td>3.646768e-02</td>\n",
       "      <td>0.246230</td>\n",
       "      <td>0.0</td>\n",
       "    </tr>\n",
       "    <tr>\n",
       "      <th>20</th>\n",
       "      <td>0.136667</td>\n",
       "      <td>20</td>\n",
       "      <td>0.030797</td>\n",
       "      <td>NaN</td>\n",
       "      <td>0</td>\n",
       "      <td>NaN</td>\n",
       "      <td>0</td>\n",
       "      <td>25106</td>\n",
       "      <td>5.389149e-02</td>\n",
       "      <td>0.465352</td>\n",
       "      <td>0.0</td>\n",
       "    </tr>\n",
       "    <tr>\n",
       "      <th>21</th>\n",
       "      <td>0.136667</td>\n",
       "      <td>21</td>\n",
       "      <td>0.032914</td>\n",
       "      <td>NaN</td>\n",
       "      <td>0</td>\n",
       "      <td>NaN</td>\n",
       "      <td>0</td>\n",
       "      <td>25109</td>\n",
       "      <td>5.342206e-02</td>\n",
       "      <td>0.249748</td>\n",
       "      <td>0.0</td>\n",
       "    </tr>\n",
       "    <tr>\n",
       "      <th>22</th>\n",
       "      <td>0.136667</td>\n",
       "      <td>22</td>\n",
       "      <td>0.034989</td>\n",
       "      <td>NaN</td>\n",
       "      <td>0</td>\n",
       "      <td>NaN</td>\n",
       "      <td>0</td>\n",
       "      <td>25112</td>\n",
       "      <td>5.295163e-02</td>\n",
       "      <td>0.245706</td>\n",
       "      <td>0.0</td>\n",
       "    </tr>\n",
       "    <tr>\n",
       "      <th>23</th>\n",
       "      <td>0.136667</td>\n",
       "      <td>23</td>\n",
       "      <td>0.037023</td>\n",
       "      <td>NaN</td>\n",
       "      <td>0</td>\n",
       "      <td>NaN</td>\n",
       "      <td>0</td>\n",
       "      <td>25145</td>\n",
       "      <td>6.870738e-02</td>\n",
       "      <td>0.243525</td>\n",
       "      <td>0.0</td>\n",
       "    </tr>\n",
       "    <tr>\n",
       "      <th>24</th>\n",
       "      <td>0.136667</td>\n",
       "      <td>24</td>\n",
       "      <td>0.039016</td>\n",
       "      <td>0.316470</td>\n",
       "      <td>1</td>\n",
       "      <td>0.0</td>\n",
       "      <td>1</td>\n",
       "      <td>25153</td>\n",
       "      <td>6.043443e-02</td>\n",
       "      <td>0.430142</td>\n",
       "      <td>0.0</td>\n",
       "    </tr>\n",
       "    <tr>\n",
       "      <th>25</th>\n",
       "      <td>0.136667</td>\n",
       "      <td>25</td>\n",
       "      <td>0.040969</td>\n",
       "      <td>NaN</td>\n",
       "      <td>1</td>\n",
       "      <td>NaN</td>\n",
       "      <td>0</td>\n",
       "      <td>25165</td>\n",
       "      <td>4.797085e-02</td>\n",
       "      <td>0.423108</td>\n",
       "      <td>0.0</td>\n",
       "    </tr>\n",
       "    <tr>\n",
       "      <th>26</th>\n",
       "      <td>0.136667</td>\n",
       "      <td>26</td>\n",
       "      <td>0.042883</td>\n",
       "      <td>NaN</td>\n",
       "      <td>1</td>\n",
       "      <td>NaN</td>\n",
       "      <td>0</td>\n",
       "      <td>25183</td>\n",
       "      <td>3.862090e-02</td>\n",
       "      <td>0.429454</td>\n",
       "      <td>0.0</td>\n",
       "    </tr>\n",
       "    <tr>\n",
       "      <th>27</th>\n",
       "      <td>0.136667</td>\n",
       "      <td>27</td>\n",
       "      <td>0.044758</td>\n",
       "      <td>NaN</td>\n",
       "      <td>1</td>\n",
       "      <td>NaN</td>\n",
       "      <td>0</td>\n",
       "      <td>25211</td>\n",
       "      <td>2.760245e-02</td>\n",
       "      <td>0.425394</td>\n",
       "      <td>0.0</td>\n",
       "    </tr>\n",
       "    <tr>\n",
       "      <th>28</th>\n",
       "      <td>0.136667</td>\n",
       "      <td>28</td>\n",
       "      <td>0.046597</td>\n",
       "      <td>0.439259</td>\n",
       "      <td>2</td>\n",
       "      <td>0.0</td>\n",
       "      <td>1</td>\n",
       "      <td>25240</td>\n",
       "      <td>2.664519e-02</td>\n",
       "      <td>0.430449</td>\n",
       "      <td>0.0</td>\n",
       "    </tr>\n",
       "    <tr>\n",
       "      <th>29</th>\n",
       "      <td>0.136667</td>\n",
       "      <td>29</td>\n",
       "      <td>0.048398</td>\n",
       "      <td>0.418727</td>\n",
       "      <td>3</td>\n",
       "      <td>0.0</td>\n",
       "      <td>1</td>\n",
       "      <td>25271</td>\n",
       "      <td>3.371850e-02</td>\n",
       "      <td>0.431864</td>\n",
       "      <td>0.0</td>\n",
       "    </tr>\n",
       "    <tr>\n",
       "      <th>...</th>\n",
       "      <td>...</td>\n",
       "      <td>...</td>\n",
       "      <td>...</td>\n",
       "      <td>...</td>\n",
       "      <td>...</td>\n",
       "      <td>...</td>\n",
       "      <td>...</td>\n",
       "      <td>...</td>\n",
       "      <td>...</td>\n",
       "      <td>...</td>\n",
       "      <td>...</td>\n",
       "    </tr>\n",
       "    <tr>\n",
       "      <th>1970</th>\n",
       "      <td>0.860000</td>\n",
       "      <td>1970</td>\n",
       "      <td>0.846538</td>\n",
       "      <td>NaN</td>\n",
       "      <td>184</td>\n",
       "      <td>NaN</td>\n",
       "      <td>0</td>\n",
       "      <td>33056</td>\n",
       "      <td>1.643560e-02</td>\n",
       "      <td>0.688527</td>\n",
       "      <td>0.0</td>\n",
       "    </tr>\n",
       "    <tr>\n",
       "      <th>1971</th>\n",
       "      <td>0.860000</td>\n",
       "      <td>1971</td>\n",
       "      <td>0.846808</td>\n",
       "      <td>NaN</td>\n",
       "      <td>184</td>\n",
       "      <td>NaN</td>\n",
       "      <td>0</td>\n",
       "      <td>33075</td>\n",
       "      <td>1.375581e-02</td>\n",
       "      <td>0.455263</td>\n",
       "      <td>0.0</td>\n",
       "    </tr>\n",
       "    <tr>\n",
       "      <th>1972</th>\n",
       "      <td>0.860000</td>\n",
       "      <td>1972</td>\n",
       "      <td>0.847072</td>\n",
       "      <td>NaN</td>\n",
       "      <td>184</td>\n",
       "      <td>NaN</td>\n",
       "      <td>0</td>\n",
       "      <td>33087</td>\n",
       "      <td>1.655137e-02</td>\n",
       "      <td>0.454298</td>\n",
       "      <td>0.0</td>\n",
       "    </tr>\n",
       "    <tr>\n",
       "      <th>1973</th>\n",
       "      <td>0.860000</td>\n",
       "      <td>1973</td>\n",
       "      <td>0.847330</td>\n",
       "      <td>NaN</td>\n",
       "      <td>184</td>\n",
       "      <td>NaN</td>\n",
       "      <td>0</td>\n",
       "      <td>33098</td>\n",
       "      <td>1.507456e-02</td>\n",
       "      <td>0.459163</td>\n",
       "      <td>0.0</td>\n",
       "    </tr>\n",
       "    <tr>\n",
       "      <th>1974</th>\n",
       "      <td>0.860000</td>\n",
       "      <td>1974</td>\n",
       "      <td>0.847583</td>\n",
       "      <td>NaN</td>\n",
       "      <td>184</td>\n",
       "      <td>NaN</td>\n",
       "      <td>0</td>\n",
       "      <td>33110</td>\n",
       "      <td>2.008868e-02</td>\n",
       "      <td>0.464622</td>\n",
       "      <td>0.0</td>\n",
       "    </tr>\n",
       "    <tr>\n",
       "      <th>1975</th>\n",
       "      <td>0.860000</td>\n",
       "      <td>1975</td>\n",
       "      <td>0.847832</td>\n",
       "      <td>NaN</td>\n",
       "      <td>184</td>\n",
       "      <td>NaN</td>\n",
       "      <td>0</td>\n",
       "      <td>33128</td>\n",
       "      <td>1.302184e-02</td>\n",
       "      <td>0.453626</td>\n",
       "      <td>0.0</td>\n",
       "    </tr>\n",
       "    <tr>\n",
       "      <th>1976</th>\n",
       "      <td>0.860000</td>\n",
       "      <td>1976</td>\n",
       "      <td>0.848075</td>\n",
       "      <td>NaN</td>\n",
       "      <td>184</td>\n",
       "      <td>NaN</td>\n",
       "      <td>0</td>\n",
       "      <td>33140</td>\n",
       "      <td>1.776421e-02</td>\n",
       "      <td>0.457925</td>\n",
       "      <td>0.0</td>\n",
       "    </tr>\n",
       "    <tr>\n",
       "      <th>1977</th>\n",
       "      <td>0.860000</td>\n",
       "      <td>1977</td>\n",
       "      <td>0.848314</td>\n",
       "      <td>0.624413</td>\n",
       "      <td>185</td>\n",
       "      <td>0.0</td>\n",
       "      <td>1</td>\n",
       "      <td>33154</td>\n",
       "      <td>1.552822e-02</td>\n",
       "      <td>0.458440</td>\n",
       "      <td>1.0</td>\n",
       "    </tr>\n",
       "    <tr>\n",
       "      <th>1978</th>\n",
       "      <td>0.860000</td>\n",
       "      <td>1978</td>\n",
       "      <td>0.848547</td>\n",
       "      <td>NaN</td>\n",
       "      <td>185</td>\n",
       "      <td>NaN</td>\n",
       "      <td>0</td>\n",
       "      <td>33168</td>\n",
       "      <td>1.819986e-02</td>\n",
       "      <td>0.460283</td>\n",
       "      <td>0.0</td>\n",
       "    </tr>\n",
       "    <tr>\n",
       "      <th>1979</th>\n",
       "      <td>0.860000</td>\n",
       "      <td>1979</td>\n",
       "      <td>0.848776</td>\n",
       "      <td>NaN</td>\n",
       "      <td>185</td>\n",
       "      <td>NaN</td>\n",
       "      <td>0</td>\n",
       "      <td>33179</td>\n",
       "      <td>1.558947e-02</td>\n",
       "      <td>0.455965</td>\n",
       "      <td>0.0</td>\n",
       "    </tr>\n",
       "    <tr>\n",
       "      <th>1980</th>\n",
       "      <td>0.843333</td>\n",
       "      <td>1980</td>\n",
       "      <td>0.848668</td>\n",
       "      <td>NaN</td>\n",
       "      <td>185</td>\n",
       "      <td>NaN</td>\n",
       "      <td>0</td>\n",
       "      <td>33192</td>\n",
       "      <td>2.297001e-02</td>\n",
       "      <td>0.677348</td>\n",
       "      <td>0.0</td>\n",
       "    </tr>\n",
       "    <tr>\n",
       "      <th>1981</th>\n",
       "      <td>0.843333</td>\n",
       "      <td>1981</td>\n",
       "      <td>0.848561</td>\n",
       "      <td>NaN</td>\n",
       "      <td>185</td>\n",
       "      <td>NaN</td>\n",
       "      <td>0</td>\n",
       "      <td>33210</td>\n",
       "      <td>1.596687e-02</td>\n",
       "      <td>0.459234</td>\n",
       "      <td>0.0</td>\n",
       "    </tr>\n",
       "    <tr>\n",
       "      <th>1982</th>\n",
       "      <td>0.843333</td>\n",
       "      <td>1982</td>\n",
       "      <td>0.848456</td>\n",
       "      <td>NaN</td>\n",
       "      <td>185</td>\n",
       "      <td>NaN</td>\n",
       "      <td>0</td>\n",
       "      <td>33230</td>\n",
       "      <td>1.295999e-02</td>\n",
       "      <td>0.458456</td>\n",
       "      <td>0.0</td>\n",
       "    </tr>\n",
       "    <tr>\n",
       "      <th>1983</th>\n",
       "      <td>0.843333</td>\n",
       "      <td>1983</td>\n",
       "      <td>0.848354</td>\n",
       "      <td>NaN</td>\n",
       "      <td>185</td>\n",
       "      <td>NaN</td>\n",
       "      <td>0</td>\n",
       "      <td>33246</td>\n",
       "      <td>1.533046e-02</td>\n",
       "      <td>0.454953</td>\n",
       "      <td>0.0</td>\n",
       "    </tr>\n",
       "    <tr>\n",
       "      <th>1984</th>\n",
       "      <td>0.843333</td>\n",
       "      <td>1984</td>\n",
       "      <td>0.848253</td>\n",
       "      <td>NaN</td>\n",
       "      <td>185</td>\n",
       "      <td>NaN</td>\n",
       "      <td>0</td>\n",
       "      <td>33258</td>\n",
       "      <td>1.839007e-02</td>\n",
       "      <td>0.465189</td>\n",
       "      <td>0.0</td>\n",
       "    </tr>\n",
       "    <tr>\n",
       "      <th>1985</th>\n",
       "      <td>0.843333</td>\n",
       "      <td>1985</td>\n",
       "      <td>0.848155</td>\n",
       "      <td>NaN</td>\n",
       "      <td>185</td>\n",
       "      <td>NaN</td>\n",
       "      <td>0</td>\n",
       "      <td>33272</td>\n",
       "      <td>1.650436e-02</td>\n",
       "      <td>0.465119</td>\n",
       "      <td>0.0</td>\n",
       "    </tr>\n",
       "    <tr>\n",
       "      <th>1986</th>\n",
       "      <td>0.843333</td>\n",
       "      <td>1986</td>\n",
       "      <td>0.848059</td>\n",
       "      <td>NaN</td>\n",
       "      <td>185</td>\n",
       "      <td>NaN</td>\n",
       "      <td>0</td>\n",
       "      <td>33291</td>\n",
       "      <td>2.388142e-02</td>\n",
       "      <td>0.454886</td>\n",
       "      <td>0.0</td>\n",
       "    </tr>\n",
       "    <tr>\n",
       "      <th>1987</th>\n",
       "      <td>0.843333</td>\n",
       "      <td>1987</td>\n",
       "      <td>0.847964</td>\n",
       "      <td>NaN</td>\n",
       "      <td>185</td>\n",
       "      <td>NaN</td>\n",
       "      <td>0</td>\n",
       "      <td>33298</td>\n",
       "      <td>1.908164e-02</td>\n",
       "      <td>0.454144</td>\n",
       "      <td>0.0</td>\n",
       "    </tr>\n",
       "    <tr>\n",
       "      <th>1988</th>\n",
       "      <td>0.843333</td>\n",
       "      <td>1988</td>\n",
       "      <td>0.847872</td>\n",
       "      <td>NaN</td>\n",
       "      <td>185</td>\n",
       "      <td>NaN</td>\n",
       "      <td>0</td>\n",
       "      <td>33310</td>\n",
       "      <td>2.245161e-02</td>\n",
       "      <td>0.457449</td>\n",
       "      <td>0.0</td>\n",
       "    </tr>\n",
       "    <tr>\n",
       "      <th>1989</th>\n",
       "      <td>0.843333</td>\n",
       "      <td>1989</td>\n",
       "      <td>0.847781</td>\n",
       "      <td>NaN</td>\n",
       "      <td>185</td>\n",
       "      <td>NaN</td>\n",
       "      <td>0</td>\n",
       "      <td>33331</td>\n",
       "      <td>1.721386e-02</td>\n",
       "      <td>0.456072</td>\n",
       "      <td>0.0</td>\n",
       "    </tr>\n",
       "    <tr>\n",
       "      <th>1990</th>\n",
       "      <td>0.850000</td>\n",
       "      <td>1990</td>\n",
       "      <td>0.847825</td>\n",
       "      <td>0.570020</td>\n",
       "      <td>186</td>\n",
       "      <td>0.0</td>\n",
       "      <td>1</td>\n",
       "      <td>33346</td>\n",
       "      <td>1.282417e-02</td>\n",
       "      <td>0.680124</td>\n",
       "      <td>0.0</td>\n",
       "    </tr>\n",
       "    <tr>\n",
       "      <th>1991</th>\n",
       "      <td>0.850000</td>\n",
       "      <td>1991</td>\n",
       "      <td>0.847869</td>\n",
       "      <td>NaN</td>\n",
       "      <td>186</td>\n",
       "      <td>NaN</td>\n",
       "      <td>0</td>\n",
       "      <td>33353</td>\n",
       "      <td>2.314632e-02</td>\n",
       "      <td>0.457925</td>\n",
       "      <td>0.0</td>\n",
       "    </tr>\n",
       "    <tr>\n",
       "      <th>1992</th>\n",
       "      <td>0.850000</td>\n",
       "      <td>1992</td>\n",
       "      <td>0.847911</td>\n",
       "      <td>0.378895</td>\n",
       "      <td>187</td>\n",
       "      <td>1.0</td>\n",
       "      <td>1</td>\n",
       "      <td>33369</td>\n",
       "      <td>1.973679e-02</td>\n",
       "      <td>0.455892</td>\n",
       "      <td>1.0</td>\n",
       "    </tr>\n",
       "    <tr>\n",
       "      <th>1993</th>\n",
       "      <td>0.850000</td>\n",
       "      <td>1993</td>\n",
       "      <td>0.847953</td>\n",
       "      <td>NaN</td>\n",
       "      <td>187</td>\n",
       "      <td>NaN</td>\n",
       "      <td>0</td>\n",
       "      <td>33380</td>\n",
       "      <td>1.531179e-02</td>\n",
       "      <td>0.460497</td>\n",
       "      <td>0.0</td>\n",
       "    </tr>\n",
       "    <tr>\n",
       "      <th>1994</th>\n",
       "      <td>0.850000</td>\n",
       "      <td>1994</td>\n",
       "      <td>0.847994</td>\n",
       "      <td>NaN</td>\n",
       "      <td>187</td>\n",
       "      <td>NaN</td>\n",
       "      <td>0</td>\n",
       "      <td>33389</td>\n",
       "      <td>2.178997e-02</td>\n",
       "      <td>0.468543</td>\n",
       "      <td>0.0</td>\n",
       "    </tr>\n",
       "    <tr>\n",
       "      <th>1995</th>\n",
       "      <td>0.850000</td>\n",
       "      <td>1995</td>\n",
       "      <td>0.848034</td>\n",
       "      <td>NaN</td>\n",
       "      <td>187</td>\n",
       "      <td>NaN</td>\n",
       "      <td>0</td>\n",
       "      <td>33401</td>\n",
       "      <td>1.674689e-02</td>\n",
       "      <td>0.455707</td>\n",
       "      <td>0.0</td>\n",
       "    </tr>\n",
       "    <tr>\n",
       "      <th>1996</th>\n",
       "      <td>0.850000</td>\n",
       "      <td>1996</td>\n",
       "      <td>0.848073</td>\n",
       "      <td>NaN</td>\n",
       "      <td>187</td>\n",
       "      <td>NaN</td>\n",
       "      <td>0</td>\n",
       "      <td>33414</td>\n",
       "      <td>1.979645e-02</td>\n",
       "      <td>0.463945</td>\n",
       "      <td>0.0</td>\n",
       "    </tr>\n",
       "    <tr>\n",
       "      <th>1997</th>\n",
       "      <td>0.850000</td>\n",
       "      <td>1997</td>\n",
       "      <td>0.848112</td>\n",
       "      <td>0.459401</td>\n",
       "      <td>188</td>\n",
       "      <td>1.0</td>\n",
       "      <td>1</td>\n",
       "      <td>33428</td>\n",
       "      <td>1.427125e-02</td>\n",
       "      <td>0.460779</td>\n",
       "      <td>0.0</td>\n",
       "    </tr>\n",
       "    <tr>\n",
       "      <th>1998</th>\n",
       "      <td>0.850000</td>\n",
       "      <td>1998</td>\n",
       "      <td>0.848150</td>\n",
       "      <td>NaN</td>\n",
       "      <td>188</td>\n",
       "      <td>NaN</td>\n",
       "      <td>0</td>\n",
       "      <td>33438</td>\n",
       "      <td>1.797509e-02</td>\n",
       "      <td>0.460431</td>\n",
       "      <td>0.0</td>\n",
       "    </tr>\n",
       "    <tr>\n",
       "      <th>1999</th>\n",
       "      <td>0.850000</td>\n",
       "      <td>1999</td>\n",
       "      <td>0.848187</td>\n",
       "      <td>NaN</td>\n",
       "      <td>188</td>\n",
       "      <td>NaN</td>\n",
       "      <td>0</td>\n",
       "      <td>33458</td>\n",
       "      <td>2.133135e-02</td>\n",
       "      <td>0.457838</td>\n",
       "      <td>0.0</td>\n",
       "    </tr>\n",
       "  </tbody>\n",
       "</table>\n",
       "<p>2000 rows × 11 columns</p>\n",
       "</div>"
      ],
      "text/plain": [
       "      accuracy  epoch  exp_accuracy  labeled_score  n_labeled  \\\n",
       "0     0.110000      0      0.002200            NaN          0   \n",
       "1     0.110000      1      0.004356            NaN          0   \n",
       "2     0.110000      2      0.006469            NaN          0   \n",
       "3     0.110000      3      0.008540            NaN          0   \n",
       "4     0.110000      4      0.010569            NaN          0   \n",
       "5     0.110000      5      0.012557            NaN          0   \n",
       "6     0.110000      6      0.014506            NaN          0   \n",
       "7     0.110000      7      0.016416            NaN          0   \n",
       "8     0.110000      8      0.018288            NaN          0   \n",
       "9     0.110000      9      0.020122            NaN          0   \n",
       "10    0.066667     10      0.021053            NaN          0   \n",
       "11    0.066667     11      0.021965            NaN          0   \n",
       "12    0.066667     12      0.022859            NaN          0   \n",
       "13    0.066667     13      0.023735            NaN          0   \n",
       "14    0.066667     14      0.024594            NaN          0   \n",
       "15    0.066667     15      0.025435            NaN          0   \n",
       "16    0.066667     16      0.026260            NaN          0   \n",
       "17    0.066667     17      0.027068            NaN          0   \n",
       "18    0.066667     18      0.027860            NaN          0   \n",
       "19    0.066667     19      0.028636            NaN          0   \n",
       "20    0.136667     20      0.030797            NaN          0   \n",
       "21    0.136667     21      0.032914            NaN          0   \n",
       "22    0.136667     22      0.034989            NaN          0   \n",
       "23    0.136667     23      0.037023            NaN          0   \n",
       "24    0.136667     24      0.039016       0.316470          1   \n",
       "25    0.136667     25      0.040969            NaN          1   \n",
       "26    0.136667     26      0.042883            NaN          1   \n",
       "27    0.136667     27      0.044758            NaN          1   \n",
       "28    0.136667     28      0.046597       0.439259          2   \n",
       "29    0.136667     29      0.048398       0.418727          3   \n",
       "...        ...    ...           ...            ...        ...   \n",
       "1970  0.860000   1970      0.846538            NaN        184   \n",
       "1971  0.860000   1971      0.846808            NaN        184   \n",
       "1972  0.860000   1972      0.847072            NaN        184   \n",
       "1973  0.860000   1973      0.847330            NaN        184   \n",
       "1974  0.860000   1974      0.847583            NaN        184   \n",
       "1975  0.860000   1975      0.847832            NaN        184   \n",
       "1976  0.860000   1976      0.848075            NaN        184   \n",
       "1977  0.860000   1977      0.848314       0.624413        185   \n",
       "1978  0.860000   1978      0.848547            NaN        185   \n",
       "1979  0.860000   1979      0.848776            NaN        185   \n",
       "1980  0.843333   1980      0.848668            NaN        185   \n",
       "1981  0.843333   1981      0.848561            NaN        185   \n",
       "1982  0.843333   1982      0.848456            NaN        185   \n",
       "1983  0.843333   1983      0.848354            NaN        185   \n",
       "1984  0.843333   1984      0.848253            NaN        185   \n",
       "1985  0.843333   1985      0.848155            NaN        185   \n",
       "1986  0.843333   1986      0.848059            NaN        185   \n",
       "1987  0.843333   1987      0.847964            NaN        185   \n",
       "1988  0.843333   1988      0.847872            NaN        185   \n",
       "1989  0.843333   1989      0.847781            NaN        185   \n",
       "1990  0.850000   1990      0.847825       0.570020        186   \n",
       "1991  0.850000   1991      0.847869            NaN        186   \n",
       "1992  0.850000   1992      0.847911       0.378895        187   \n",
       "1993  0.850000   1993      0.847953            NaN        187   \n",
       "1994  0.850000   1994      0.847994            NaN        187   \n",
       "1995  0.850000   1995      0.848034            NaN        187   \n",
       "1996  0.850000   1996      0.848073            NaN        187   \n",
       "1997  0.850000   1997      0.848112       0.459401        188   \n",
       "1998  0.850000   1998      0.848150            NaN        188   \n",
       "1999  0.850000   1999      0.848187            NaN        188   \n",
       "\n",
       "      n_labeled_correct  n_next_labeled  n_semisup     scorediff   seconds  \\\n",
       "0                   NaN               0      24882  3.649895e-11  0.666064   \n",
       "1                   NaN               0      24882  6.338592e-02  0.275183   \n",
       "2                   NaN               0      24827  5.342827e-02  0.246560   \n",
       "3                   NaN               0      24782  1.990708e-02  0.246323   \n",
       "4                   NaN               0      24767  1.262310e-02  0.249844   \n",
       "5                   NaN               0      24776  2.223126e-02  0.242680   \n",
       "6                   NaN               0      24792  2.598463e-02  0.241403   \n",
       "7                   NaN               0      24793  3.080170e-02  0.247377   \n",
       "8                   NaN               0      24805  2.206426e-02  0.241796   \n",
       "9                   NaN               0      24816  1.693793e-02  0.244318   \n",
       "10                  NaN               0      24840  1.828184e-02  0.471166   \n",
       "11                  NaN               0      24870  1.587328e-02  0.250139   \n",
       "12                  NaN               0      24908  1.728679e-02  0.240511   \n",
       "13                  NaN               0      24946  1.784213e-02  0.244586   \n",
       "14                  NaN               0      24976  1.821773e-02  0.248502   \n",
       "15                  NaN               0      25019  1.489675e-02  0.246556   \n",
       "16                  NaN               0      25046  2.552792e-02  0.246552   \n",
       "17                  NaN               0      25071  2.697347e-02  0.242573   \n",
       "18                  NaN               0      25086  3.622467e-02  0.244332   \n",
       "19                  NaN               0      25096  3.646768e-02  0.246230   \n",
       "20                  NaN               0      25106  5.389149e-02  0.465352   \n",
       "21                  NaN               0      25109  5.342206e-02  0.249748   \n",
       "22                  NaN               0      25112  5.295163e-02  0.245706   \n",
       "23                  NaN               0      25145  6.870738e-02  0.243525   \n",
       "24                  0.0               1      25153  6.043443e-02  0.430142   \n",
       "25                  NaN               0      25165  4.797085e-02  0.423108   \n",
       "26                  NaN               0      25183  3.862090e-02  0.429454   \n",
       "27                  NaN               0      25211  2.760245e-02  0.425394   \n",
       "28                  0.0               1      25240  2.664519e-02  0.430449   \n",
       "29                  0.0               1      25271  3.371850e-02  0.431864   \n",
       "...                 ...             ...        ...           ...       ...   \n",
       "1970                NaN               0      33056  1.643560e-02  0.688527   \n",
       "1971                NaN               0      33075  1.375581e-02  0.455263   \n",
       "1972                NaN               0      33087  1.655137e-02  0.454298   \n",
       "1973                NaN               0      33098  1.507456e-02  0.459163   \n",
       "1974                NaN               0      33110  2.008868e-02  0.464622   \n",
       "1975                NaN               0      33128  1.302184e-02  0.453626   \n",
       "1976                NaN               0      33140  1.776421e-02  0.457925   \n",
       "1977                0.0               1      33154  1.552822e-02  0.458440   \n",
       "1978                NaN               0      33168  1.819986e-02  0.460283   \n",
       "1979                NaN               0      33179  1.558947e-02  0.455965   \n",
       "1980                NaN               0      33192  2.297001e-02  0.677348   \n",
       "1981                NaN               0      33210  1.596687e-02  0.459234   \n",
       "1982                NaN               0      33230  1.295999e-02  0.458456   \n",
       "1983                NaN               0      33246  1.533046e-02  0.454953   \n",
       "1984                NaN               0      33258  1.839007e-02  0.465189   \n",
       "1985                NaN               0      33272  1.650436e-02  0.465119   \n",
       "1986                NaN               0      33291  2.388142e-02  0.454886   \n",
       "1987                NaN               0      33298  1.908164e-02  0.454144   \n",
       "1988                NaN               0      33310  2.245161e-02  0.457449   \n",
       "1989                NaN               0      33331  1.721386e-02  0.456072   \n",
       "1990                0.0               1      33346  1.282417e-02  0.680124   \n",
       "1991                NaN               0      33353  2.314632e-02  0.457925   \n",
       "1992                1.0               1      33369  1.973679e-02  0.455892   \n",
       "1993                NaN               0      33380  1.531179e-02  0.460497   \n",
       "1994                NaN               0      33389  2.178997e-02  0.468543   \n",
       "1995                NaN               0      33401  1.674689e-02  0.455707   \n",
       "1996                NaN               0      33414  1.979645e-02  0.463945   \n",
       "1997                1.0               1      33428  1.427125e-02  0.460779   \n",
       "1998                NaN               0      33438  1.797509e-02  0.460431   \n",
       "1999                NaN               0      33458  2.133135e-02  0.457838   \n",
       "\n",
       "      flag  \n",
       "0      0.0  \n",
       "1      0.0  \n",
       "2      0.0  \n",
       "3      0.0  \n",
       "4      0.0  \n",
       "5      0.0  \n",
       "6      0.0  \n",
       "7      0.0  \n",
       "8      0.0  \n",
       "9      0.0  \n",
       "10     0.0  \n",
       "11     0.0  \n",
       "12     0.0  \n",
       "13     0.0  \n",
       "14     0.0  \n",
       "15     0.0  \n",
       "16     0.0  \n",
       "17     0.0  \n",
       "18     0.0  \n",
       "19     0.0  \n",
       "20     0.0  \n",
       "21     0.0  \n",
       "22     0.0  \n",
       "23     0.0  \n",
       "24     0.0  \n",
       "25     0.0  \n",
       "26     0.0  \n",
       "27     0.0  \n",
       "28     0.0  \n",
       "29     0.0  \n",
       "...    ...  \n",
       "1970   0.0  \n",
       "1971   0.0  \n",
       "1972   0.0  \n",
       "1973   0.0  \n",
       "1974   0.0  \n",
       "1975   0.0  \n",
       "1976   0.0  \n",
       "1977   1.0  \n",
       "1978   0.0  \n",
       "1979   0.0  \n",
       "1980   0.0  \n",
       "1981   0.0  \n",
       "1982   0.0  \n",
       "1983   0.0  \n",
       "1984   0.0  \n",
       "1985   0.0  \n",
       "1986   0.0  \n",
       "1987   0.0  \n",
       "1988   0.0  \n",
       "1989   0.0  \n",
       "1990   0.0  \n",
       "1991   0.0  \n",
       "1992   1.0  \n",
       "1993   0.0  \n",
       "1994   0.0  \n",
       "1995   0.0  \n",
       "1996   0.0  \n",
       "1997   0.0  \n",
       "1998   0.0  \n",
       "1999   0.0  \n",
       "\n",
       "[2000 rows x 11 columns]"
      ]
     },
     "execution_count": 411,
     "metadata": {},
     "output_type": "execute_result"
    }
   ],
   "source": [
    "results"
   ]
  },
  {
   "cell_type": "code",
   "execution_count": 569,
   "metadata": {
    "collapsed": false
   },
   "outputs": [
    {
     "data": {
      "text/plain": [
       "197"
      ]
     },
     "execution_count": 569,
     "metadata": {},
     "output_type": "execute_result"
    }
   ],
   "source": [
    "sum((results['n_labeled_correct']>=0))"
   ]
  },
  {
   "cell_type": "code",
   "execution_count": 1034,
   "metadata": {
    "collapsed": false
   },
   "outputs": [
    {
     "name": "stderr",
     "output_type": "stream",
     "text": [
      "/Users/melkherj/anaconda/lib/python2.7/site-packages/IPython/kernel/__main__.py:1: FutureWarning: pd.rolling_mean is deprecated for Series and will be removed in a future version, replace with \n",
      "\tSeries.rolling(window=20,center=False).mean()\n",
      "  if __name__ == '__main__':\n"
     ]
    },
    {
     "data": {
      "text/plain": [
       "[<matplotlib.lines.Line2D at 0x131abca90>]"
      ]
     },
     "execution_count": 1034,
     "metadata": {},
     "output_type": "execute_result"
    },
    {
     "data": {
      "image/png": "[encoded data removed]",
      "text/plain": [
       "<matplotlib.figure.Figure at 0x11e6f85d0>"
      ]
     },
     "metadata": {},
     "output_type": "display_data"
    }
   ],
   "source": [
    "plt.plot(pd.rolling_mean(results[results['n_labeled_correct']>=0]['n_labeled_correct'],20)[20:])"
   ]
  },
  {
   "cell_type": "code",
   "execution_count": 1028,
   "metadata": {
    "collapsed": false
   },
   "outputs": [
    {
     "data": {
      "text/plain": [
       "40.0"
      ]
     },
     "execution_count": 1028,
     "metadata": {},
     "output_type": "execute_result"
    }
   ],
   "source": [
    "#&(results['labeled_score']>0.5)\n",
    "flag = random.sample(np.nonzero((results['n_labeled_correct']>=0))[0],40)\n",
    "results['flag'] = 0.0\n",
    "results.loc[flag,'flag'] = 1.0\n",
    "sum(results['flag'])"
   ]
  },
  {
   "cell_type": "code",
   "execution_count": 568,
   "metadata": {
    "collapsed": false
   },
   "outputs": [
    {
     "data": {
      "text/plain": [
       "[<matplotlib.lines.Line2D at 0x12be49d50>]"
      ]
     },
     "execution_count": 568,
     "metadata": {},
     "output_type": "execute_result"
    },
    {
     "data": {
      "image/png": "[encoded data removed]",
      "text/plain": [
       "<matplotlib.figure.Figure at 0x12bd2ee10>"
      ]
     },
     "metadata": {},
     "output_type": "display_data"
    }
   ],
   "source": [
    "plt.plot(labeled2)"
   ]
  },
  {
   "cell_type": "code",
   "execution_count": 563,
   "metadata": {
    "collapsed": false
   },
   "outputs": [
    {
     "data": {
      "text/plain": [
       "[<matplotlib.lines.Line2D at 0x12ba1c7d0>]"
      ]
     },
     "execution_count": 563,
     "metadata": {},
     "output_type": "execute_result"
    },
    {
     "data": {
      "image/png": "[encoded data removed]",
      "text/plain": [
       "<matplotlib.figure.Figure at 0x12b12dbd0>"
      ]
     },
     "metadata": {},
     "output_type": "display_data"
    }
   ],
   "source": [
    "plt.plot(labeled2)"
   ]
  },
  {
   "cell_type": "code",
   "execution_count": 559,
   "metadata": {
    "collapsed": false
   },
   "outputs": [
    {
     "data": {
      "text/plain": [
       "[<matplotlib.lines.Line2D at 0x12b655950>]"
      ]
     },
     "execution_count": 559,
     "metadata": {},
     "output_type": "execute_result"
    },
    {
     "data": {
      "image/png": "[encoded data removed]",
      "text/plain": [
       "<matplotlib.figure.Figure at 0x12ab76750>"
      ]
     },
     "metadata": {},
     "output_type": "display_data"
    }
   ],
   "source": [
    "plt.plot(labeled2)"
   ]
  },
  {
   "cell_type": "code",
   "execution_count": 574,
   "metadata": {
    "collapsed": false
   },
   "outputs": [
    {
     "data": {
      "text/plain": [
       "[<matplotlib.lines.Line2D at 0x12c270cd0>]"
      ]
     },
     "execution_count": 574,
     "metadata": {},
     "output_type": "execute_result"
    },
    {
     "data": {
      "image/png": "[encoded data removed]",
      "text/plain": [
       "<matplotlib.figure.Figure at 0x12c2c2650>"
      ]
     },
     "metadata": {},
     "output_type": "display_data"
    }
   ],
   "source": [
    "plt.plot(acc_deriv)"
   ]
  },
  {
   "cell_type": "code",
   "execution_count": 1029,
   "metadata": {
    "collapsed": false
   },
   "outputs": [
    {
     "name": "stderr",
     "output_type": "stream",
     "text": [
      "/Users/melkherj/anaconda/lib/python2.7/site-packages/IPython/kernel/__main__.py:2: FutureWarning: pd.rolling_mean is deprecated for Series and will be removed in a future version, replace with \n",
      "\tSeries.rolling(window=100,center=False).mean()\n",
      "  from IPython.kernel.zmq import kernelapp as app\n",
      "/Users/melkherj/anaconda/lib/python2.7/site-packages/IPython/kernel/__main__.py:3: FutureWarning: pd.rolling_mean is deprecated for Series and will be removed in a future version, replace with \n",
      "\tSeries.rolling(window=40,center=False).mean()\n",
      "  app.launch_new_instance()\n"
     ]
    }
   ],
   "source": [
    "interv = range(200,len(results['accuracy']))\n",
    "acc = pd.rolling_mean(results['accuracy'],100)[interv]\n",
    "labeled = pd.rolling_mean(results['flag'],40)[interv]\n",
    "acc_deriv = acc.diff(periods=100)\n",
    "#plt.plot()\n",
    "#plt.plot(+0.5)\n",
    "#plt.vlines(np.nonzero()[0],0,1,colors='red')"
   ]
  },
  {
   "cell_type": "code",
   "execution_count": 1030,
   "metadata": {
    "collapsed": false
   },
   "outputs": [
    {
     "name": "stdout",
     "output_type": "stream",
     "text": [
      "79 (-0.19358532626522076, 0.00074911764685509823)\n"
     ]
    },
    {
     "data": {
      "text/plain": [
       "<matplotlib.collections.PathCollection at 0x131a4a110>"
      ]
     },
     "execution_count": 1030,
     "metadata": {},
     "output_type": "execute_result"
    },
    {
     "data": {
      "image/png": "[encoded data removed]",
      "text/plain": [
       "<matplotlib.figure.Figure at 0x12ba36150>"
      ]
     },
     "metadata": {},
     "output_type": "display_data"
    }
   ],
   "source": [
    "ixs = random.sample(range(len(acc)-100),300)\n",
    "labeled2 = (labeled-labeled.mean()).shift(periods=47)\n",
    "print shift,scipy.stats.pearsonr(acc_deriv[100:].values[ixs],labeled2[100:].values[ixs])\n",
    "plt.scatter(acc_deriv[100:].values[ixs],labeled2[100:].values[ixs])"
   ]
  },
  {
   "cell_type": "code",
   "execution_count": 529,
   "metadata": {
    "collapsed": false
   },
   "outputs": [
    {
     "data": {
      "text/plain": [
       "[<matplotlib.lines.Line2D at 0x12a421a50>]"
      ]
     },
     "execution_count": 529,
     "metadata": {},
     "output_type": "execute_result"
    },
    {
     "data": {
      "image/png": "[encoded data removed]",
      "text/plain": [
       "<matplotlib.figure.Figure at 0x1270ac290>"
      ]
     },
     "metadata": {},
     "output_type": "display_data"
    }
   ],
   "source": [
    "plt.plot(labeled2[40:1500].shift(60),color='red')\n",
    "#plt.plot(labeled2[40:1000],color='purple')\n",
    "plt.plot(acc_deriv[40:1500])"
   ]
  },
  {
   "cell_type": "code",
   "execution_count": 270,
   "metadata": {
    "collapsed": true
   },
   "outputs": [
    {
     "data": {
      "text/plain": [
       "[<matplotlib.lines.Line2D at 0x119f88590>]"
      ]
     },
     "execution_count": 270,
     "metadata": {},
     "output_type": "execute_result"
    },
    {
     "data": {
      "image/png": "[encoded data removed]",
      "text/plain": [
       "<matplotlib.figure.Figure at 0x1190eb9d0>"
      ]
     },
     "metadata": {},
     "output_type": "display_data"
    }
   ],
   "source": [
    "#plt.plot(acc)\n",
    "plt.plot(acc_deriv)\n",
    "plt.plot(labeled-labeled.mean())\n",
    "#plt.plot([0.6]*len(acc))"
   ]
  },
  {
   "cell_type": "code",
   "execution_count": 344,
   "metadata": {
    "collapsed": true
   },
   "outputs": [
    {
     "data": {
      "text/html": [
       "<div>\n",
       "<table border=\"1\" class=\"dataframe\">\n",
       "  <thead>\n",
       "    <tr style=\"text-align: right;\">\n",
       "      <th></th>\n",
       "      <th>accuracy</th>\n",
       "      <th>epoch</th>\n",
       "      <th>exp_accuracy</th>\n",
       "      <th>labeled_score</th>\n",
       "      <th>n_labeled</th>\n",
       "      <th>n_labeled_correct</th>\n",
       "      <th>n_next_labeled</th>\n",
       "      <th>n_semisup</th>\n",
       "      <th>scorediff</th>\n",
       "      <th>seconds</th>\n",
       "    </tr>\n",
       "  </thead>\n",
       "  <tbody>\n",
       "    <tr>\n",
       "      <th>0</th>\n",
       "      <td>0.110000</td>\n",
       "      <td>0</td>\n",
       "      <td>0.002200</td>\n",
       "      <td>NaN</td>\n",
       "      <td>0</td>\n",
       "      <td>NaN</td>\n",
       "      <td>0</td>\n",
       "      <td>24882</td>\n",
       "      <td>3.649895e-11</td>\n",
       "      <td>0.666064</td>\n",
       "    </tr>\n",
       "    <tr>\n",
       "      <th>1</th>\n",
       "      <td>0.110000</td>\n",
       "      <td>1</td>\n",
       "      <td>0.004356</td>\n",
       "      <td>NaN</td>\n",
       "      <td>0</td>\n",
       "      <td>NaN</td>\n",
       "      <td>0</td>\n",
       "      <td>24882</td>\n",
       "      <td>6.338592e-02</td>\n",
       "      <td>0.275183</td>\n",
       "    </tr>\n",
       "    <tr>\n",
       "      <th>2</th>\n",
       "      <td>0.110000</td>\n",
       "      <td>2</td>\n",
       "      <td>0.006469</td>\n",
       "      <td>NaN</td>\n",
       "      <td>0</td>\n",
       "      <td>NaN</td>\n",
       "      <td>0</td>\n",
       "      <td>24827</td>\n",
       "      <td>5.342827e-02</td>\n",
       "      <td>0.246560</td>\n",
       "    </tr>\n",
       "    <tr>\n",
       "      <th>3</th>\n",
       "      <td>0.110000</td>\n",
       "      <td>3</td>\n",
       "      <td>0.008540</td>\n",
       "      <td>NaN</td>\n",
       "      <td>0</td>\n",
       "      <td>NaN</td>\n",
       "      <td>0</td>\n",
       "      <td>24782</td>\n",
       "      <td>1.990708e-02</td>\n",
       "      <td>0.246323</td>\n",
       "    </tr>\n",
       "    <tr>\n",
       "      <th>4</th>\n",
       "      <td>0.110000</td>\n",
       "      <td>4</td>\n",
       "      <td>0.010569</td>\n",
       "      <td>NaN</td>\n",
       "      <td>0</td>\n",
       "      <td>NaN</td>\n",
       "      <td>0</td>\n",
       "      <td>24767</td>\n",
       "      <td>1.262310e-02</td>\n",
       "      <td>0.249844</td>\n",
       "    </tr>\n",
       "    <tr>\n",
       "      <th>5</th>\n",
       "      <td>0.110000</td>\n",
       "      <td>5</td>\n",
       "      <td>0.012557</td>\n",
       "      <td>NaN</td>\n",
       "      <td>0</td>\n",
       "      <td>NaN</td>\n",
       "      <td>0</td>\n",
       "      <td>24776</td>\n",
       "      <td>2.223126e-02</td>\n",
       "      <td>0.242680</td>\n",
       "    </tr>\n",
       "    <tr>\n",
       "      <th>6</th>\n",
       "      <td>0.110000</td>\n",
       "      <td>6</td>\n",
       "      <td>0.014506</td>\n",
       "      <td>NaN</td>\n",
       "      <td>0</td>\n",
       "      <td>NaN</td>\n",
       "      <td>0</td>\n",
       "      <td>24792</td>\n",
       "      <td>2.598463e-02</td>\n",
       "      <td>0.241403</td>\n",
       "    </tr>\n",
       "    <tr>\n",
       "      <th>7</th>\n",
       "      <td>0.110000</td>\n",
       "      <td>7</td>\n",
       "      <td>0.016416</td>\n",
       "      <td>NaN</td>\n",
       "      <td>0</td>\n",
       "      <td>NaN</td>\n",
       "      <td>0</td>\n",
       "      <td>24793</td>\n",
       "      <td>3.080170e-02</td>\n",
       "      <td>0.247377</td>\n",
       "    </tr>\n",
       "    <tr>\n",
       "      <th>8</th>\n",
       "      <td>0.110000</td>\n",
       "      <td>8</td>\n",
       "      <td>0.018288</td>\n",
       "      <td>NaN</td>\n",
       "      <td>0</td>\n",
       "      <td>NaN</td>\n",
       "      <td>0</td>\n",
       "      <td>24805</td>\n",
       "      <td>2.206426e-02</td>\n",
       "      <td>0.241796</td>\n",
       "    </tr>\n",
       "    <tr>\n",
       "      <th>9</th>\n",
       "      <td>0.110000</td>\n",
       "      <td>9</td>\n",
       "      <td>0.020122</td>\n",
       "      <td>NaN</td>\n",
       "      <td>0</td>\n",
       "      <td>NaN</td>\n",
       "      <td>0</td>\n",
       "      <td>24816</td>\n",
       "      <td>1.693793e-02</td>\n",
       "      <td>0.244318</td>\n",
       "    </tr>\n",
       "    <tr>\n",
       "      <th>10</th>\n",
       "      <td>0.066667</td>\n",
       "      <td>10</td>\n",
       "      <td>0.021053</td>\n",
       "      <td>NaN</td>\n",
       "      <td>0</td>\n",
       "      <td>NaN</td>\n",
       "      <td>0</td>\n",
       "      <td>24840</td>\n",
       "      <td>1.828184e-02</td>\n",
       "      <td>0.471166</td>\n",
       "    </tr>\n",
       "    <tr>\n",
       "      <th>11</th>\n",
       "      <td>0.066667</td>\n",
       "      <td>11</td>\n",
       "      <td>0.021965</td>\n",
       "      <td>NaN</td>\n",
       "      <td>0</td>\n",
       "      <td>NaN</td>\n",
       "      <td>0</td>\n",
       "      <td>24870</td>\n",
       "      <td>1.587328e-02</td>\n",
       "      <td>0.250139</td>\n",
       "    </tr>\n",
       "    <tr>\n",
       "      <th>12</th>\n",
       "      <td>0.066667</td>\n",
       "      <td>12</td>\n",
       "      <td>0.022859</td>\n",
       "      <td>NaN</td>\n",
       "      <td>0</td>\n",
       "      <td>NaN</td>\n",
       "      <td>0</td>\n",
       "      <td>24908</td>\n",
       "      <td>1.728679e-02</td>\n",
       "      <td>0.240511</td>\n",
       "    </tr>\n",
       "    <tr>\n",
       "      <th>13</th>\n",
       "      <td>0.066667</td>\n",
       "      <td>13</td>\n",
       "      <td>0.023735</td>\n",
       "      <td>NaN</td>\n",
       "      <td>0</td>\n",
       "      <td>NaN</td>\n",
       "      <td>0</td>\n",
       "      <td>24946</td>\n",
       "      <td>1.784213e-02</td>\n",
       "      <td>0.244586</td>\n",
       "    </tr>\n",
       "    <tr>\n",
       "      <th>14</th>\n",
       "      <td>0.066667</td>\n",
       "      <td>14</td>\n",
       "      <td>0.024594</td>\n",
       "      <td>NaN</td>\n",
       "      <td>0</td>\n",
       "      <td>NaN</td>\n",
       "      <td>0</td>\n",
       "      <td>24976</td>\n",
       "      <td>1.821773e-02</td>\n",
       "      <td>0.248502</td>\n",
       "    </tr>\n",
       "    <tr>\n",
       "      <th>15</th>\n",
       "      <td>0.066667</td>\n",
       "      <td>15</td>\n",
       "      <td>0.025435</td>\n",
       "      <td>NaN</td>\n",
       "      <td>0</td>\n",
       "      <td>NaN</td>\n",
       "      <td>0</td>\n",
       "      <td>25019</td>\n",
       "      <td>1.489675e-02</td>\n",
       "      <td>0.246556</td>\n",
       "    </tr>\n",
       "    <tr>\n",
       "      <th>16</th>\n",
       "      <td>0.066667</td>\n",
       "      <td>16</td>\n",
       "      <td>0.026260</td>\n",
       "      <td>NaN</td>\n",
       "      <td>0</td>\n",
       "      <td>NaN</td>\n",
       "      <td>0</td>\n",
       "      <td>25046</td>\n",
       "      <td>2.552792e-02</td>\n",
       "      <td>0.246552</td>\n",
       "    </tr>\n",
       "    <tr>\n",
       "      <th>17</th>\n",
       "      <td>0.066667</td>\n",
       "      <td>17</td>\n",
       "      <td>0.027068</td>\n",
       "      <td>NaN</td>\n",
       "      <td>0</td>\n",
       "      <td>NaN</td>\n",
       "      <td>0</td>\n",
       "      <td>25071</td>\n",
       "      <td>2.697347e-02</td>\n",
       "      <td>0.242573</td>\n",
       "    </tr>\n",
       "    <tr>\n",
       "      <th>18</th>\n",
       "      <td>0.066667</td>\n",
       "      <td>18</td>\n",
       "      <td>0.027860</td>\n",
       "      <td>NaN</td>\n",
       "      <td>0</td>\n",
       "      <td>NaN</td>\n",
       "      <td>0</td>\n",
       "      <td>25086</td>\n",
       "      <td>3.622467e-02</td>\n",
       "      <td>0.244332</td>\n",
       "    </tr>\n",
       "    <tr>\n",
       "      <th>19</th>\n",
       "      <td>0.066667</td>\n",
       "      <td>19</td>\n",
       "      <td>0.028636</td>\n",
       "      <td>NaN</td>\n",
       "      <td>0</td>\n",
       "      <td>NaN</td>\n",
       "      <td>0</td>\n",
       "      <td>25096</td>\n",
       "      <td>3.646768e-02</td>\n",
       "      <td>0.246230</td>\n",
       "    </tr>\n",
       "    <tr>\n",
       "      <th>20</th>\n",
       "      <td>0.136667</td>\n",
       "      <td>20</td>\n",
       "      <td>0.030797</td>\n",
       "      <td>NaN</td>\n",
       "      <td>0</td>\n",
       "      <td>NaN</td>\n",
       "      <td>0</td>\n",
       "      <td>25106</td>\n",
       "      <td>5.389149e-02</td>\n",
       "      <td>0.465352</td>\n",
       "    </tr>\n",
       "    <tr>\n",
       "      <th>21</th>\n",
       "      <td>0.136667</td>\n",
       "      <td>21</td>\n",
       "      <td>0.032914</td>\n",
       "      <td>NaN</td>\n",
       "      <td>0</td>\n",
       "      <td>NaN</td>\n",
       "      <td>0</td>\n",
       "      <td>25109</td>\n",
       "      <td>5.342206e-02</td>\n",
       "      <td>0.249748</td>\n",
       "    </tr>\n",
       "    <tr>\n",
       "      <th>22</th>\n",
       "      <td>0.136667</td>\n",
       "      <td>22</td>\n",
       "      <td>0.034989</td>\n",
       "      <td>NaN</td>\n",
       "      <td>0</td>\n",
       "      <td>NaN</td>\n",
       "      <td>0</td>\n",
       "      <td>25112</td>\n",
       "      <td>5.295163e-02</td>\n",
       "      <td>0.245706</td>\n",
       "    </tr>\n",
       "    <tr>\n",
       "      <th>23</th>\n",
       "      <td>0.136667</td>\n",
       "      <td>23</td>\n",
       "      <td>0.037023</td>\n",
       "      <td>NaN</td>\n",
       "      <td>0</td>\n",
       "      <td>NaN</td>\n",
       "      <td>0</td>\n",
       "      <td>25145</td>\n",
       "      <td>6.870738e-02</td>\n",
       "      <td>0.243525</td>\n",
       "    </tr>\n",
       "    <tr>\n",
       "      <th>24</th>\n",
       "      <td>0.136667</td>\n",
       "      <td>24</td>\n",
       "      <td>0.039016</td>\n",
       "      <td>0.316470</td>\n",
       "      <td>1</td>\n",
       "      <td>0.0</td>\n",
       "      <td>1</td>\n",
       "      <td>25153</td>\n",
       "      <td>6.043443e-02</td>\n",
       "      <td>0.430142</td>\n",
       "    </tr>\n",
       "    <tr>\n",
       "      <th>25</th>\n",
       "      <td>0.136667</td>\n",
       "      <td>25</td>\n",
       "      <td>0.040969</td>\n",
       "      <td>NaN</td>\n",
       "      <td>1</td>\n",
       "      <td>NaN</td>\n",
       "      <td>0</td>\n",
       "      <td>25165</td>\n",
       "      <td>4.797085e-02</td>\n",
       "      <td>0.423108</td>\n",
       "    </tr>\n",
       "    <tr>\n",
       "      <th>26</th>\n",
       "      <td>0.136667</td>\n",
       "      <td>26</td>\n",
       "      <td>0.042883</td>\n",
       "      <td>NaN</td>\n",
       "      <td>1</td>\n",
       "      <td>NaN</td>\n",
       "      <td>0</td>\n",
       "      <td>25183</td>\n",
       "      <td>3.862090e-02</td>\n",
       "      <td>0.429454</td>\n",
       "    </tr>\n",
       "    <tr>\n",
       "      <th>27</th>\n",
       "      <td>0.136667</td>\n",
       "      <td>27</td>\n",
       "      <td>0.044758</td>\n",
       "      <td>NaN</td>\n",
       "      <td>1</td>\n",
       "      <td>NaN</td>\n",
       "      <td>0</td>\n",
       "      <td>25211</td>\n",
       "      <td>2.760245e-02</td>\n",
       "      <td>0.425394</td>\n",
       "    </tr>\n",
       "    <tr>\n",
       "      <th>28</th>\n",
       "      <td>0.136667</td>\n",
       "      <td>28</td>\n",
       "      <td>0.046597</td>\n",
       "      <td>0.439259</td>\n",
       "      <td>2</td>\n",
       "      <td>0.0</td>\n",
       "      <td>1</td>\n",
       "      <td>25240</td>\n",
       "      <td>2.664519e-02</td>\n",
       "      <td>0.430449</td>\n",
       "    </tr>\n",
       "    <tr>\n",
       "      <th>29</th>\n",
       "      <td>0.136667</td>\n",
       "      <td>29</td>\n",
       "      <td>0.048398</td>\n",
       "      <td>0.418727</td>\n",
       "      <td>3</td>\n",
       "      <td>0.0</td>\n",
       "      <td>1</td>\n",
       "      <td>25271</td>\n",
       "      <td>3.371850e-02</td>\n",
       "      <td>0.431864</td>\n",
       "    </tr>\n",
       "    <tr>\n",
       "      <th>...</th>\n",
       "      <td>...</td>\n",
       "      <td>...</td>\n",
       "      <td>...</td>\n",
       "      <td>...</td>\n",
       "      <td>...</td>\n",
       "      <td>...</td>\n",
       "      <td>...</td>\n",
       "      <td>...</td>\n",
       "      <td>...</td>\n",
       "      <td>...</td>\n",
       "    </tr>\n",
       "    <tr>\n",
       "      <th>1970</th>\n",
       "      <td>0.860000</td>\n",
       "      <td>1970</td>\n",
       "      <td>0.846538</td>\n",
       "      <td>NaN</td>\n",
       "      <td>184</td>\n",
       "      <td>NaN</td>\n",
       "      <td>0</td>\n",
       "      <td>33056</td>\n",
       "      <td>1.643560e-02</td>\n",
       "      <td>0.688527</td>\n",
       "    </tr>\n",
       "    <tr>\n",
       "      <th>1971</th>\n",
       "      <td>0.860000</td>\n",
       "      <td>1971</td>\n",
       "      <td>0.846808</td>\n",
       "      <td>NaN</td>\n",
       "      <td>184</td>\n",
       "      <td>NaN</td>\n",
       "      <td>0</td>\n",
       "      <td>33075</td>\n",
       "      <td>1.375581e-02</td>\n",
       "      <td>0.455263</td>\n",
       "    </tr>\n",
       "    <tr>\n",
       "      <th>1972</th>\n",
       "      <td>0.860000</td>\n",
       "      <td>1972</td>\n",
       "      <td>0.847072</td>\n",
       "      <td>NaN</td>\n",
       "      <td>184</td>\n",
       "      <td>NaN</td>\n",
       "      <td>0</td>\n",
       "      <td>33087</td>\n",
       "      <td>1.655137e-02</td>\n",
       "      <td>0.454298</td>\n",
       "    </tr>\n",
       "    <tr>\n",
       "      <th>1973</th>\n",
       "      <td>0.860000</td>\n",
       "      <td>1973</td>\n",
       "      <td>0.847330</td>\n",
       "      <td>NaN</td>\n",
       "      <td>184</td>\n",
       "      <td>NaN</td>\n",
       "      <td>0</td>\n",
       "      <td>33098</td>\n",
       "      <td>1.507456e-02</td>\n",
       "      <td>0.459163</td>\n",
       "    </tr>\n",
       "    <tr>\n",
       "      <th>1974</th>\n",
       "      <td>0.860000</td>\n",
       "      <td>1974</td>\n",
       "      <td>0.847583</td>\n",
       "      <td>NaN</td>\n",
       "      <td>184</td>\n",
       "      <td>NaN</td>\n",
       "      <td>0</td>\n",
       "      <td>33110</td>\n",
       "      <td>2.008868e-02</td>\n",
       "      <td>0.464622</td>\n",
       "    </tr>\n",
       "    <tr>\n",
       "      <th>1975</th>\n",
       "      <td>0.860000</td>\n",
       "      <td>1975</td>\n",
       "      <td>0.847832</td>\n",
       "      <td>NaN</td>\n",
       "      <td>184</td>\n",
       "      <td>NaN</td>\n",
       "      <td>0</td>\n",
       "      <td>33128</td>\n",
       "      <td>1.302184e-02</td>\n",
       "      <td>0.453626</td>\n",
       "    </tr>\n",
       "    <tr>\n",
       "      <th>1976</th>\n",
       "      <td>0.860000</td>\n",
       "      <td>1976</td>\n",
       "      <td>0.848075</td>\n",
       "      <td>NaN</td>\n",
       "      <td>184</td>\n",
       "      <td>NaN</td>\n",
       "      <td>0</td>\n",
       "      <td>33140</td>\n",
       "      <td>1.776421e-02</td>\n",
       "      <td>0.457925</td>\n",
       "    </tr>\n",
       "    <tr>\n",
       "      <th>1977</th>\n",
       "      <td>0.860000</td>\n",
       "      <td>1977</td>\n",
       "      <td>0.848314</td>\n",
       "      <td>0.624413</td>\n",
       "      <td>185</td>\n",
       "      <td>0.0</td>\n",
       "      <td>1</td>\n",
       "      <td>33154</td>\n",
       "      <td>1.552822e-02</td>\n",
       "      <td>0.458440</td>\n",
       "    </tr>\n",
       "    <tr>\n",
       "      <th>1978</th>\n",
       "      <td>0.860000</td>\n",
       "      <td>1978</td>\n",
       "      <td>0.848547</td>\n",
       "      <td>NaN</td>\n",
       "      <td>185</td>\n",
       "      <td>NaN</td>\n",
       "      <td>0</td>\n",
       "      <td>33168</td>\n",
       "      <td>1.819986e-02</td>\n",
       "      <td>0.460283</td>\n",
       "    </tr>\n",
       "    <tr>\n",
       "      <th>1979</th>\n",
       "      <td>0.860000</td>\n",
       "      <td>1979</td>\n",
       "      <td>0.848776</td>\n",
       "      <td>NaN</td>\n",
       "      <td>185</td>\n",
       "      <td>NaN</td>\n",
       "      <td>0</td>\n",
       "      <td>33179</td>\n",
       "      <td>1.558947e-02</td>\n",
       "      <td>0.455965</td>\n",
       "    </tr>\n",
       "    <tr>\n",
       "      <th>1980</th>\n",
       "      <td>0.843333</td>\n",
       "      <td>1980</td>\n",
       "      <td>0.848668</td>\n",
       "      <td>NaN</td>\n",
       "      <td>185</td>\n",
       "      <td>NaN</td>\n",
       "      <td>0</td>\n",
       "      <td>33192</td>\n",
       "      <td>2.297001e-02</td>\n",
       "      <td>0.677348</td>\n",
       "    </tr>\n",
       "    <tr>\n",
       "      <th>1981</th>\n",
       "      <td>0.843333</td>\n",
       "      <td>1981</td>\n",
       "      <td>0.848561</td>\n",
       "      <td>NaN</td>\n",
       "      <td>185</td>\n",
       "      <td>NaN</td>\n",
       "      <td>0</td>\n",
       "      <td>33210</td>\n",
       "      <td>1.596687e-02</td>\n",
       "      <td>0.459234</td>\n",
       "    </tr>\n",
       "    <tr>\n",
       "      <th>1982</th>\n",
       "      <td>0.843333</td>\n",
       "      <td>1982</td>\n",
       "      <td>0.848456</td>\n",
       "      <td>NaN</td>\n",
       "      <td>185</td>\n",
       "      <td>NaN</td>\n",
       "      <td>0</td>\n",
       "      <td>33230</td>\n",
       "      <td>1.295999e-02</td>\n",
       "      <td>0.458456</td>\n",
       "    </tr>\n",
       "    <tr>\n",
       "      <th>1983</th>\n",
       "      <td>0.843333</td>\n",
       "      <td>1983</td>\n",
       "      <td>0.848354</td>\n",
       "      <td>NaN</td>\n",
       "      <td>185</td>\n",
       "      <td>NaN</td>\n",
       "      <td>0</td>\n",
       "      <td>33246</td>\n",
       "      <td>1.533046e-02</td>\n",
       "      <td>0.454953</td>\n",
       "    </tr>\n",
       "    <tr>\n",
       "      <th>1984</th>\n",
       "      <td>0.843333</td>\n",
       "      <td>1984</td>\n",
       "      <td>0.848253</td>\n",
       "      <td>NaN</td>\n",
       "      <td>185</td>\n",
       "      <td>NaN</td>\n",
       "      <td>0</td>\n",
       "      <td>33258</td>\n",
       "      <td>1.839007e-02</td>\n",
       "      <td>0.465189</td>\n",
       "    </tr>\n",
       "    <tr>\n",
       "      <th>1985</th>\n",
       "      <td>0.843333</td>\n",
       "      <td>1985</td>\n",
       "      <td>0.848155</td>\n",
       "      <td>NaN</td>\n",
       "      <td>185</td>\n",
       "      <td>NaN</td>\n",
       "      <td>0</td>\n",
       "      <td>33272</td>\n",
       "      <td>1.650436e-02</td>\n",
       "      <td>0.465119</td>\n",
       "    </tr>\n",
       "    <tr>\n",
       "      <th>1986</th>\n",
       "      <td>0.843333</td>\n",
       "      <td>1986</td>\n",
       "      <td>0.848059</td>\n",
       "      <td>NaN</td>\n",
       "      <td>185</td>\n",
       "      <td>NaN</td>\n",
       "      <td>0</td>\n",
       "      <td>33291</td>\n",
       "      <td>2.388142e-02</td>\n",
       "      <td>0.454886</td>\n",
       "    </tr>\n",
       "    <tr>\n",
       "      <th>1987</th>\n",
       "      <td>0.843333</td>\n",
       "      <td>1987</td>\n",
       "      <td>0.847964</td>\n",
       "      <td>NaN</td>\n",
       "      <td>185</td>\n",
       "      <td>NaN</td>\n",
       "      <td>0</td>\n",
       "      <td>33298</td>\n",
       "      <td>1.908164e-02</td>\n",
       "      <td>0.454144</td>\n",
       "    </tr>\n",
       "    <tr>\n",
       "      <th>1988</th>\n",
       "      <td>0.843333</td>\n",
       "      <td>1988</td>\n",
       "      <td>0.847872</td>\n",
       "      <td>NaN</td>\n",
       "      <td>185</td>\n",
       "      <td>NaN</td>\n",
       "      <td>0</td>\n",
       "      <td>33310</td>\n",
       "      <td>2.245161e-02</td>\n",
       "      <td>0.457449</td>\n",
       "    </tr>\n",
       "    <tr>\n",
       "      <th>1989</th>\n",
       "      <td>0.843333</td>\n",
       "      <td>1989</td>\n",
       "      <td>0.847781</td>\n",
       "      <td>NaN</td>\n",
       "      <td>185</td>\n",
       "      <td>NaN</td>\n",
       "      <td>0</td>\n",
       "      <td>33331</td>\n",
       "      <td>1.721386e-02</td>\n",
       "      <td>0.456072</td>\n",
       "    </tr>\n",
       "    <tr>\n",
       "      <th>1990</th>\n",
       "      <td>0.850000</td>\n",
       "      <td>1990</td>\n",
       "      <td>0.847825</td>\n",
       "      <td>0.570020</td>\n",
       "      <td>186</td>\n",
       "      <td>0.0</td>\n",
       "      <td>1</td>\n",
       "      <td>33346</td>\n",
       "      <td>1.282417e-02</td>\n",
       "      <td>0.680124</td>\n",
       "    </tr>\n",
       "    <tr>\n",
       "      <th>1991</th>\n",
       "      <td>0.850000</td>\n",
       "      <td>1991</td>\n",
       "      <td>0.847869</td>\n",
       "      <td>NaN</td>\n",
       "      <td>186</td>\n",
       "      <td>NaN</td>\n",
       "      <td>0</td>\n",
       "      <td>33353</td>\n",
       "      <td>2.314632e-02</td>\n",
       "      <td>0.457925</td>\n",
       "    </tr>\n",
       "    <tr>\n",
       "      <th>1992</th>\n",
       "      <td>0.850000</td>\n",
       "      <td>1992</td>\n",
       "      <td>0.847911</td>\n",
       "      <td>0.378895</td>\n",
       "      <td>187</td>\n",
       "      <td>1.0</td>\n",
       "      <td>1</td>\n",
       "      <td>33369</td>\n",
       "      <td>1.973679e-02</td>\n",
       "      <td>0.455892</td>\n",
       "    </tr>\n",
       "    <tr>\n",
       "      <th>1993</th>\n",
       "      <td>0.850000</td>\n",
       "      <td>1993</td>\n",
       "      <td>0.847953</td>\n",
       "      <td>NaN</td>\n",
       "      <td>187</td>\n",
       "      <td>NaN</td>\n",
       "      <td>0</td>\n",
       "      <td>33380</td>\n",
       "      <td>1.531179e-02</td>\n",
       "      <td>0.460497</td>\n",
       "    </tr>\n",
       "    <tr>\n",
       "      <th>1994</th>\n",
       "      <td>0.850000</td>\n",
       "      <td>1994</td>\n",
       "      <td>0.847994</td>\n",
       "      <td>NaN</td>\n",
       "      <td>187</td>\n",
       "      <td>NaN</td>\n",
       "      <td>0</td>\n",
       "      <td>33389</td>\n",
       "      <td>2.178997e-02</td>\n",
       "      <td>0.468543</td>\n",
       "    </tr>\n",
       "    <tr>\n",
       "      <th>1995</th>\n",
       "      <td>0.850000</td>\n",
       "      <td>1995</td>\n",
       "      <td>0.848034</td>\n",
       "      <td>NaN</td>\n",
       "      <td>187</td>\n",
       "      <td>NaN</td>\n",
       "      <td>0</td>\n",
       "      <td>33401</td>\n",
       "      <td>1.674689e-02</td>\n",
       "      <td>0.455707</td>\n",
       "    </tr>\n",
       "    <tr>\n",
       "      <th>1996</th>\n",
       "      <td>0.850000</td>\n",
       "      <td>1996</td>\n",
       "      <td>0.848073</td>\n",
       "      <td>NaN</td>\n",
       "      <td>187</td>\n",
       "      <td>NaN</td>\n",
       "      <td>0</td>\n",
       "      <td>33414</td>\n",
       "      <td>1.979645e-02</td>\n",
       "      <td>0.463945</td>\n",
       "    </tr>\n",
       "    <tr>\n",
       "      <th>1997</th>\n",
       "      <td>0.850000</td>\n",
       "      <td>1997</td>\n",
       "      <td>0.848112</td>\n",
       "      <td>0.459401</td>\n",
       "      <td>188</td>\n",
       "      <td>1.0</td>\n",
       "      <td>1</td>\n",
       "      <td>33428</td>\n",
       "      <td>1.427125e-02</td>\n",
       "      <td>0.460779</td>\n",
       "    </tr>\n",
       "    <tr>\n",
       "      <th>1998</th>\n",
       "      <td>0.850000</td>\n",
       "      <td>1998</td>\n",
       "      <td>0.848150</td>\n",
       "      <td>NaN</td>\n",
       "      <td>188</td>\n",
       "      <td>NaN</td>\n",
       "      <td>0</td>\n",
       "      <td>33438</td>\n",
       "      <td>1.797509e-02</td>\n",
       "      <td>0.460431</td>\n",
       "    </tr>\n",
       "    <tr>\n",
       "      <th>1999</th>\n",
       "      <td>0.850000</td>\n",
       "      <td>1999</td>\n",
       "      <td>0.848187</td>\n",
       "      <td>NaN</td>\n",
       "      <td>188</td>\n",
       "      <td>NaN</td>\n",
       "      <td>0</td>\n",
       "      <td>33458</td>\n",
       "      <td>2.133135e-02</td>\n",
       "      <td>0.457838</td>\n",
       "    </tr>\n",
       "  </tbody>\n",
       "</table>\n",
       "<p>2000 rows × 10 columns</p>\n",
       "</div>"
      ],
      "text/plain": [
       "      accuracy  epoch  exp_accuracy  labeled_score  n_labeled  \\\n",
       "0     0.110000      0      0.002200            NaN          0   \n",
       "1     0.110000      1      0.004356            NaN          0   \n",
       "2     0.110000      2      0.006469            NaN          0   \n",
       "3     0.110000      3      0.008540            NaN          0   \n",
       "4     0.110000      4      0.010569            NaN          0   \n",
       "5     0.110000      5      0.012557            NaN          0   \n",
       "6     0.110000      6      0.014506            NaN          0   \n",
       "7     0.110000      7      0.016416            NaN          0   \n",
       "8     0.110000      8      0.018288            NaN          0   \n",
       "9     0.110000      9      0.020122            NaN          0   \n",
       "10    0.066667     10      0.021053            NaN          0   \n",
       "11    0.066667     11      0.021965            NaN          0   \n",
       "12    0.066667     12      0.022859            NaN          0   \n",
       "13    0.066667     13      0.023735            NaN          0   \n",
       "14    0.066667     14      0.024594            NaN          0   \n",
       "15    0.066667     15      0.025435            NaN          0   \n",
       "16    0.066667     16      0.026260            NaN          0   \n",
       "17    0.066667     17      0.027068            NaN          0   \n",
       "18    0.066667     18      0.027860            NaN          0   \n",
       "19    0.066667     19      0.028636            NaN          0   \n",
       "20    0.136667     20      0.030797            NaN          0   \n",
       "21    0.136667     21      0.032914            NaN          0   \n",
       "22    0.136667     22      0.034989            NaN          0   \n",
       "23    0.136667     23      0.037023            NaN          0   \n",
       "24    0.136667     24      0.039016       0.316470          1   \n",
       "25    0.136667     25      0.040969            NaN          1   \n",
       "26    0.136667     26      0.042883            NaN          1   \n",
       "27    0.136667     27      0.044758            NaN          1   \n",
       "28    0.136667     28      0.046597       0.439259          2   \n",
       "29    0.136667     29      0.048398       0.418727          3   \n",
       "...        ...    ...           ...            ...        ...   \n",
       "1970  0.860000   1970      0.846538            NaN        184   \n",
       "1971  0.860000   1971      0.846808            NaN        184   \n",
       "1972  0.860000   1972      0.847072            NaN        184   \n",
       "1973  0.860000   1973      0.847330            NaN        184   \n",
       "1974  0.860000   1974      0.847583            NaN        184   \n",
       "1975  0.860000   1975      0.847832            NaN        184   \n",
       "1976  0.860000   1976      0.848075            NaN        184   \n",
       "1977  0.860000   1977      0.848314       0.624413        185   \n",
       "1978  0.860000   1978      0.848547            NaN        185   \n",
       "1979  0.860000   1979      0.848776            NaN        185   \n",
       "1980  0.843333   1980      0.848668            NaN        185   \n",
       "1981  0.843333   1981      0.848561            NaN        185   \n",
       "1982  0.843333   1982      0.848456            NaN        185   \n",
       "1983  0.843333   1983      0.848354            NaN        185   \n",
       "1984  0.843333   1984      0.848253            NaN        185   \n",
       "1985  0.843333   1985      0.848155            NaN        185   \n",
       "1986  0.843333   1986      0.848059            NaN        185   \n",
       "1987  0.843333   1987      0.847964            NaN        185   \n",
       "1988  0.843333   1988      0.847872            NaN        185   \n",
       "1989  0.843333   1989      0.847781            NaN        185   \n",
       "1990  0.850000   1990      0.847825       0.570020        186   \n",
       "1991  0.850000   1991      0.847869            NaN        186   \n",
       "1992  0.850000   1992      0.847911       0.378895        187   \n",
       "1993  0.850000   1993      0.847953            NaN        187   \n",
       "1994  0.850000   1994      0.847994            NaN        187   \n",
       "1995  0.850000   1995      0.848034            NaN        187   \n",
       "1996  0.850000   1996      0.848073            NaN        187   \n",
       "1997  0.850000   1997      0.848112       0.459401        188   \n",
       "1998  0.850000   1998      0.848150            NaN        188   \n",
       "1999  0.850000   1999      0.848187            NaN        188   \n",
       "\n",
       "      n_labeled_correct  n_next_labeled  n_semisup     scorediff   seconds  \n",
       "0                   NaN               0      24882  3.649895e-11  0.666064  \n",
       "1                   NaN               0      24882  6.338592e-02  0.275183  \n",
       "2                   NaN               0      24827  5.342827e-02  0.246560  \n",
       "3                   NaN               0      24782  1.990708e-02  0.246323  \n",
       "4                   NaN               0      24767  1.262310e-02  0.249844  \n",
       "5                   NaN               0      24776  2.223126e-02  0.242680  \n",
       "6                   NaN               0      24792  2.598463e-02  0.241403  \n",
       "7                   NaN               0      24793  3.080170e-02  0.247377  \n",
       "8                   NaN               0      24805  2.206426e-02  0.241796  \n",
       "9                   NaN               0      24816  1.693793e-02  0.244318  \n",
       "10                  NaN               0      24840  1.828184e-02  0.471166  \n",
       "11                  NaN               0      24870  1.587328e-02  0.250139  \n",
       "12                  NaN               0      24908  1.728679e-02  0.240511  \n",
       "13                  NaN               0      24946  1.784213e-02  0.244586  \n",
       "14                  NaN               0      24976  1.821773e-02  0.248502  \n",
       "15                  NaN               0      25019  1.489675e-02  0.246556  \n",
       "16                  NaN               0      25046  2.552792e-02  0.246552  \n",
       "17                  NaN               0      25071  2.697347e-02  0.242573  \n",
       "18                  NaN               0      25086  3.622467e-02  0.244332  \n",
       "19                  NaN               0      25096  3.646768e-02  0.246230  \n",
       "20                  NaN               0      25106  5.389149e-02  0.465352  \n",
       "21                  NaN               0      25109  5.342206e-02  0.249748  \n",
       "22                  NaN               0      25112  5.295163e-02  0.245706  \n",
       "23                  NaN               0      25145  6.870738e-02  0.243525  \n",
       "24                  0.0               1      25153  6.043443e-02  0.430142  \n",
       "25                  NaN               0      25165  4.797085e-02  0.423108  \n",
       "26                  NaN               0      25183  3.862090e-02  0.429454  \n",
       "27                  NaN               0      25211  2.760245e-02  0.425394  \n",
       "28                  0.0               1      25240  2.664519e-02  0.430449  \n",
       "29                  0.0               1      25271  3.371850e-02  0.431864  \n",
       "...                 ...             ...        ...           ...       ...  \n",
       "1970                NaN               0      33056  1.643560e-02  0.688527  \n",
       "1971                NaN               0      33075  1.375581e-02  0.455263  \n",
       "1972                NaN               0      33087  1.655137e-02  0.454298  \n",
       "1973                NaN               0      33098  1.507456e-02  0.459163  \n",
       "1974                NaN               0      33110  2.008868e-02  0.464622  \n",
       "1975                NaN               0      33128  1.302184e-02  0.453626  \n",
       "1976                NaN               0      33140  1.776421e-02  0.457925  \n",
       "1977                0.0               1      33154  1.552822e-02  0.458440  \n",
       "1978                NaN               0      33168  1.819986e-02  0.460283  \n",
       "1979                NaN               0      33179  1.558947e-02  0.455965  \n",
       "1980                NaN               0      33192  2.297001e-02  0.677348  \n",
       "1981                NaN               0      33210  1.596687e-02  0.459234  \n",
       "1982                NaN               0      33230  1.295999e-02  0.458456  \n",
       "1983                NaN               0      33246  1.533046e-02  0.454953  \n",
       "1984                NaN               0      33258  1.839007e-02  0.465189  \n",
       "1985                NaN               0      33272  1.650436e-02  0.465119  \n",
       "1986                NaN               0      33291  2.388142e-02  0.454886  \n",
       "1987                NaN               0      33298  1.908164e-02  0.454144  \n",
       "1988                NaN               0      33310  2.245161e-02  0.457449  \n",
       "1989                NaN               0      33331  1.721386e-02  0.456072  \n",
       "1990                0.0               1      33346  1.282417e-02  0.680124  \n",
       "1991                NaN               0      33353  2.314632e-02  0.457925  \n",
       "1992                1.0               1      33369  1.973679e-02  0.455892  \n",
       "1993                NaN               0      33380  1.531179e-02  0.460497  \n",
       "1994                NaN               0      33389  2.178997e-02  0.468543  \n",
       "1995                NaN               0      33401  1.674689e-02  0.455707  \n",
       "1996                NaN               0      33414  1.979645e-02  0.463945  \n",
       "1997                1.0               1      33428  1.427125e-02  0.460779  \n",
       "1998                NaN               0      33438  1.797509e-02  0.460431  \n",
       "1999                NaN               0      33458  2.133135e-02  0.457838  \n",
       "\n",
       "[2000 rows x 10 columns]"
      ]
     },
     "execution_count": 344,
     "metadata": {},
     "output_type": "execute_result"
    }
   ],
   "source": [
    "results"
   ]
  },
  {
   "cell_type": "code",
   "execution_count": 190,
   "metadata": {
    "collapsed": false
   },
   "outputs": [
    {
     "data": {
      "text/plain": [
       "[<matplotlib.lines.Line2D at 0x115a85fd0>]"
      ]
     },
     "execution_count": 190,
     "metadata": {},
     "output_type": "execute_result"
    },
    {
     "data": {
      "image/png": "[encoded data removed]",
      "text/plain": [
       "<matplotlib.figure.Figure at 0x1155609d0>"
      ]
     },
     "metadata": {},
     "output_type": "display_data"
    }
   ],
   "source": [
    "plt.plot(df['n_labeled'],df['labeled_score'])"
   ]
  },
  {
   "cell_type": "code",
   "execution_count": 182,
   "metadata": {
    "collapsed": false
   },
   "outputs": [
    {
     "data": {
      "text/plain": [
       "[<matplotlib.lines.Line2D at 0x11691cc90>]"
      ]
     },
     "execution_count": 182,
     "metadata": {},
     "output_type": "execute_result"
    },
    {
     "data": {
      "image/png": "[encoded data removed]",
      "text/plain": [
       "<matplotlib.figure.Figure at 0x10a9a3550>"
      ]
     },
     "metadata": {},
     "output_type": "display_data"
    }
   ],
   "source": [
    "plt.plot(df['n_labeled'],df['accuracy'])"
   ]
  },
  {
   "cell_type": "code",
   "execution_count": 587,
   "metadata": {
    "collapsed": false
   },
   "outputs": [
    {
     "data": {
      "text/plain": [
       "u'50eac5e'"
      ]
     },
     "execution_count": 587,
     "metadata": {},
     "output_type": "execute_result"
    }
   ],
   "source": [
    "all_results[-3]['githash']"
   ]
  },
  {
   "cell_type": "code",
   "execution_count": null,
   "metadata": {
    "collapsed": true
   },
   "outputs": [],
   "source": [
    "1. - 1./(((self.n_pos+self.n_neg)+10.)**0.4)"
   ]
  },
  {
   "cell_type": "code",
   "execution_count": 633,
   "metadata": {
    "collapsed": true
   },
   "outputs": [],
   "source": [
    "from utils import sigmoid,logodds"
   ]
  },
  {
   "cell_type": "code",
   "execution_count": 639,
   "metadata": {
    "collapsed": false
   },
   "outputs": [
    {
     "data": {
      "text/plain": [
       "0.9791084544732513"
      ]
     },
     "execution_count": 639,
     "metadata": {},
     "output_type": "execute_result"
    }
   ],
   "source": [
    "sigmoid(logodds(0.7)+3.0)"
   ]
  },
  {
   "cell_type": "code",
   "execution_count": 632,
   "metadata": {
    "collapsed": false
   },
   "outputs": [
    {
     "data": {
      "text/plain": [
       "[<matplotlib.lines.Line2D at 0x1418b2390>]"
      ]
     },
     "execution_count": 632,
     "metadata": {},
     "output_type": "execute_result"
    },
    {
     "data": {
      "image/png": "[encoded data removed]",
      "text/plain": [
       "<matplotlib.figure.Figure at 0x12d7c6950>"
      ]
     },
     "metadata": {},
     "output_type": "display_data"
    }
   ],
   "source": [
    "plt.plot(1.-1./(np.arange(300)+10)**0.5)"
   ]
  },
  {
   "cell_type": "code",
   "execution_count": null,
   "metadata": {
    "collapsed": true
   },
   "outputs": [],
   "source": [
    "from utils import "
   ]
  },
  {
   "cell_type": "code",
   "execution_count": null,
   "metadata": {
    "collapsed": true
   },
   "outputs": [],
   "source": [
    "1. - 1./(((self.n_pos+self.n_neg)+10.)**0.4)"
   ]
  },
  {
   "cell_type": "code",
   "execution_count": 648,
   "metadata": {
    "collapsed": true
   },
   "outputs": [],
   "source": [
    "import math\n",
    "def adjust(thresh,n_pos,n_neg,p=0.5,gamma=0.2,lower=0.001,upper=0.999):\n",
    "    ''' thresh is current score threshold\n",
    "        ratio is ratio of negatives seen so far to positives '''\n",
    "    ratio = float(n_pos)/n_neg*(1-p)/p\n",
    "    thresh = sigmoid(logodds(thresh)-gamma*math.log(ratio))\n",
    "    return max(min(thresh,upper),lower)"
   ]
  },
  {
   "cell_type": "code",
   "execution_count": 652,
   "metadata": {
    "collapsed": false
   },
   "outputs": [],
   "source": [
    "from utils import add_noise"
   ]
  },
  {
   "cell_type": "code",
   "execution_count": 863,
   "metadata": {
    "collapsed": false
   },
   "outputs": [
    {
     "name": "stdout",
     "output_type": "stream",
     "text": [
      "0.0\n"
     ]
    },
    {
     "data": {
      "text/plain": [
       "0.5"
      ]
     },
     "execution_count": 863,
     "metadata": {},
     "output_type": "execute_result"
    }
   ],
   "source": [
    "add_noise(0.5)"
   ]
  },
  {
   "cell_type": "code",
   "execution_count": null,
   "metadata": {
    "collapsed": true
   },
   "outputs": [],
   "source": [
    "a = 0.99\n",
    "np.random.choice(p=[],100)"
   ]
  },
  {
   "cell_type": "code",
   "execution_count": 1018,
   "metadata": {
    "collapsed": true
   },
   "outputs": [],
   "source": [
    "def add_noise(thresh,variance=1.0):\n",
    "    return sigmoid(logodds(thresh)+variance*float(np.random.randn()))"
   ]
  },
  {
   "cell_type": "code",
   "execution_count": 1019,
   "metadata": {
    "collapsed": true
   },
   "outputs": [
    {
     "data": {
      "text/plain": [
       "(array([  1.00000000e+00,   0.00000000e+00,   0.00000000e+00,\n",
       "          0.00000000e+00,   0.00000000e+00,   0.00000000e+00,\n",
       "          0.00000000e+00,   1.00000000e+00,   0.00000000e+00,\n",
       "          0.00000000e+00,   0.00000000e+00,   2.00000000e+00,\n",
       "          0.00000000e+00,   0.00000000e+00,   0.00000000e+00,\n",
       "          1.00000000e+00,   1.00000000e+00,   2.00000000e+00,\n",
       "          1.00000000e+00,   4.00000000e+00,   7.00000000e+00,\n",
       "          3.00000000e+00,   4.00000000e+00,   8.00000000e+00,\n",
       "          1.20000000e+01,   1.20000000e+01,   1.80000000e+01,\n",
       "          2.00000000e+01,   2.40000000e+01,   4.60000000e+01,\n",
       "          6.30000000e+01,   9.80000000e+01,   1.19000000e+02,\n",
       "          1.72000000e+02,   2.51000000e+02,   4.14000000e+02,\n",
       "          6.90000000e+02,   1.35800000e+03,   2.70100000e+03,\n",
       "          3.96700000e+03]),\n",
       " array([ 0.69562481,  0.70322885,  0.71083288,  0.71843691,  0.72604094,\n",
       "         0.73364497,  0.741249  ,  0.74885304,  0.75645707,  0.7640611 ,\n",
       "         0.77166513,  0.77926916,  0.78687319,  0.79447723,  0.80208126,\n",
       "         0.80968529,  0.81728932,  0.82489335,  0.83249738,  0.84010141,\n",
       "         0.84770545,  0.85530948,  0.86291351,  0.87051754,  0.87812157,\n",
       "         0.8857256 ,  0.89332964,  0.90093367,  0.9085377 ,  0.91614173,\n",
       "         0.92374576,  0.93134979,  0.93895382,  0.94655786,  0.95416189,\n",
       "         0.96176592,  0.96936995,  0.97697398,  0.98457801,  0.99218205,\n",
       "         0.99978608]),\n",
       " <a list of 40 Patch objects>)"
      ]
     },
     "execution_count": 1019,
     "metadata": {},
     "output_type": "execute_result"
    },
    {
     "data": {
      "image/png": "[encoded data removed]",
      "text/plain": [
       "<matplotlib.figure.Figure at 0x1305a5f90>"
      ]
     },
     "metadata": {},
     "output_type": "display_data"
    }
   ],
   "source": [
    "plt.hist([add_noise(0.99) for _ in range(10000)],bins=40)"
   ]
  },
  {
   "cell_type": "code",
   "execution_count": 715,
   "metadata": {
    "collapsed": true
   },
   "outputs": [],
   "source": [
    "from utils import add_noise"
   ]
  },
  {
   "cell_type": "code",
   "execution_count": null,
   "metadata": {
    "collapsed": true
   },
   "outputs": [],
   "source": []
  },
  {
   "cell_type": "markdown",
   "metadata": {},
   "source": [
    "Assumptions:\n",
    "- p-accuracy changes over time\n",
    "- \n",
    "\n",
    "Goal for semi-supervised:\n",
    "- optimally \"spend\" semisupervised in T trials.  Let's say 100?\n",
    "- "
   ]
  },
  {
   "cell_type": "code",
   "execution_count": 790,
   "metadata": {
    "collapsed": false
   },
   "outputs": [
    {
     "data": {
      "text/plain": [
       "0.6730510822953778"
      ]
     },
     "execution_count": 790,
     "metadata": {},
     "output_type": "execute_result"
    }
   ],
   "source": [
    "add_noise(0.7,1.0)"
   ]
  },
  {
   "cell_type": "code",
   "execution_count": null,
   "metadata": {
    "collapsed": true
   },
   "outputs": [],
   "source": [
    "ps = 1. - 1./((k+10.)**0.4)\n",
    "plt.plot()\n",
    "plt.plot()"
   ]
  },
  {
   "cell_type": "code",
   "execution_count": 792,
   "metadata": {
    "collapsed": false
   },
   "outputs": [
    {
     "data": {
      "text/plain": [
       "0.7310585786300049"
      ]
     },
     "execution_count": 792,
     "metadata": {},
     "output_type": "execute_result"
    }
   ],
   "source": [
    "sigmoid(logodds(0.5)+1.0)"
   ]
  },
  {
   "cell_type": "markdown",
   "metadata": {},
   "source": [
    "Optimizing projected quality of labels:\n",
    "- "
   ]
  },
  {
   "cell_type": "code",
   "execution_count": 825,
   "metadata": {
    "collapsed": false
   },
   "outputs": [
    {
     "data": {
      "text/plain": [
       "0.47332272112821766"
      ]
     },
     "execution_count": 825,
     "metadata": {},
     "output_type": "execute_result"
    }
   ],
   "source": [
    "add_noise(0.5,0.4)"
   ]
  },
  {
   "cell_type": "code",
   "execution_count": null,
   "metadata": {
    "collapsed": true
   },
   "outputs": [],
   "source": [
    "compare this simple method to random?\n",
    "\n",
    "\"active learning is hard\"\n",
    "- we don't know what prior is?"
   ]
  },
  {
   "cell_type": "code",
   "execution_count": null,
   "metadata": {
    "collapsed": true
   },
   "outputs": [],
   "source": [
    "p_active = 1. - 1./((k+10.)**0.5)\n",
    "p_semisup = sigmoid(logodds(p_active)+0.5)"
   ]
  },
  {
   "cell_type": "markdown",
   "metadata": {},
   "source": [
    "Ranking selection for active semi-supervised learning\n",
    "\n",
    "Assume a prior T= #labels\n",
    "our goal is optimize perf in this paradigm\n",
    "\n",
    "\n",
    "\n",
    "Theorem:\n",
    "- Assuming \n",
    "\n",
    "Justification for simply quantile-ranking?\n",
    "- "
   ]
  },
  {
   "cell_type": "code",
   "execution_count": 1020,
   "metadata": {
    "collapsed": false
   },
   "outputs": [
    {
     "data": {
      "text/plain": [
       "0.027080502011022103"
      ]
     },
     "execution_count": 1020,
     "metadata": {},
     "output_type": "execute_result"
    }
   ],
   "source": [
    "1/100.*math.log(15)"
   ]
  },
  {
   "cell_type": "code",
   "execution_count": 21,
   "metadata": {
    "collapsed": true
   },
   "outputs": [],
   "source": [
    "import tensorflow as tf"
   ]
  },
  {
   "cell_type": "code",
   "execution_count": 23,
   "metadata": {
    "collapsed": false
   },
   "outputs": [
    {
     "data": {
      "text/plain": [
       "0.8807970779778823"
      ]
     },
     "execution_count": 23,
     "metadata": {},
     "output_type": "execute_result"
    }
   ],
   "source": [
    "from utils import *\n",
    "sigmoid(logodds(0.5)+2.0)"
   ]
  },
  {
   "cell_type": "code",
   "execution_count": 1021,
   "metadata": {
    "collapsed": false
   },
   "outputs": [
    {
     "data": {
      "text/plain": [
       "0.10080826910962463"
      ]
     },
     "execution_count": 1021,
     "metadata": {},
     "output_type": "execute_result"
    }
   ],
   "source": [
    "1.5*math.exp(-0.027*100)"
   ]
  },
  {
   "cell_type": "code",
   "execution_count": 24,
   "metadata": {
    "collapsed": false
   },
   "outputs": [
    {
     "data": {
      "text/plain": [
       "2.1972245773362196"
      ]
     },
     "execution_count": 24,
     "metadata": {},
     "output_type": "execute_result"
    }
   ],
   "source": [
    "utils.logodds(0.9)"
   ]
  },
  {
   "cell_type": "code",
   "execution_count": 28,
   "metadata": {
    "collapsed": true
   },
   "outputs": [],
   "source": [
    "f0 = 0.1\n",
    "fb = 0.9\n",
    "b = 100.\n",
    "l0 = math.log(1./(1-f0))\n",
    "lb = math.log(1./(1-fb))\n",
    "alpha = (lb-l0)/b\n",
    "beta = l0/alpha"
   ]
  },
  {
   "cell_type": "code",
   "execution_count": 27,
   "metadata": {
    "collapsed": false
   },
   "outputs": [
    {
     "data": {
      "text/plain": [
       "(0.021972245773362195, 4.795163714469232)"
      ]
     },
     "execution_count": 27,
     "metadata": {},
     "output_type": "execute_result"
    }
   ],
   "source": [
    "alpha,beta"
   ]
  },
  {
   "cell_type": "code",
   "execution_count": 20,
   "metadata": {
    "collapsed": false
   },
   "outputs": [
    {
     "data": {
      "text/plain": [
       "0.0101069204986282"
      ]
     },
     "execution_count": 20,
     "metadata": {},
     "output_type": "execute_result"
    }
   ],
   "source": [
    "import math\n",
    "1.5*math.exp(-0.05*100)"
   ]
  },
  {
   "cell_type": "code",
   "execution_count": 29,
   "metadata": {
    "collapsed": false
   },
   "outputs": [
    {
     "data": {
      "text/plain": [
       "2.1972245773362196"
      ]
     },
     "execution_count": 29,
     "metadata": {},
     "output_type": "execute_result"
    }
   ],
   "source": [
    "logodds(0.9)"
   ]
  },
  {
   "cell_type": "code",
   "execution_count": 25,
   "metadata": {
    "collapsed": false
   },
   "outputs": [
    {
     "ename": "NameError",
     "evalue": "name 'alpha' is not defined",
     "output_type": "error",
     "traceback": [
      "\u001b[0;31m---------------------------------------------------------------------------\u001b[0m",
      "\u001b[0;31mNameError\u001b[0m                                 Traceback (most recent call last)",
      "\u001b[0;32m<ipython-input-25-f25c24f48ea5>\u001b[0m in \u001b[0;36m<module>\u001b[0;34m()\u001b[0m\n\u001b[1;32m      1\u001b[0m \u001b[0mk\u001b[0m \u001b[0;34m=\u001b[0m \u001b[0mnp\u001b[0m\u001b[0;34m.\u001b[0m\u001b[0marange\u001b[0m\u001b[0;34m(\u001b[0m\u001b[0;36m500\u001b[0m\u001b[0;34m)\u001b[0m\u001b[0;34m\u001b[0m\u001b[0m\n\u001b[0;32m----> 2\u001b[0;31m \u001b[0mps_active\u001b[0m \u001b[0;34m=\u001b[0m \u001b[0;36m0.99\u001b[0m\u001b[0;34m-\u001b[0m\u001b[0mnp\u001b[0m\u001b[0;34m.\u001b[0m\u001b[0mexp\u001b[0m\u001b[0;34m(\u001b[0m\u001b[0;34m-\u001b[0m\u001b[0malpha\u001b[0m\u001b[0;34m*\u001b[0m\u001b[0;34m(\u001b[0m\u001b[0mk\u001b[0m\u001b[0;34m+\u001b[0m\u001b[0;36m5\u001b[0m\u001b[0;34m+\u001b[0m\u001b[0mbeta\u001b[0m\u001b[0;34m)\u001b[0m\u001b[0;34m)\u001b[0m\u001b[0;34m\u001b[0m\u001b[0m\n\u001b[0m\u001b[1;32m      3\u001b[0m \u001b[0mps_semi\u001b[0m \u001b[0;34m=\u001b[0m \u001b[0;36m0.99\u001b[0m\u001b[0;34m-\u001b[0m\u001b[0mnp\u001b[0m\u001b[0;34m.\u001b[0m\u001b[0mexp\u001b[0m\u001b[0;34m(\u001b[0m\u001b[0;34m-\u001b[0m\u001b[0malpha\u001b[0m\u001b[0;34m*\u001b[0m\u001b[0;34m(\u001b[0m\u001b[0mk\u001b[0m\u001b[0;34m+\u001b[0m\u001b[0;36m50\u001b[0m\u001b[0;34m+\u001b[0m\u001b[0mbeta\u001b[0m\u001b[0;34m)\u001b[0m\u001b[0;34m)\u001b[0m \u001b[0;31m# 1. - 1./((k+10.)**0.5)\u001b[0m\u001b[0;34m\u001b[0m\u001b[0m\n\u001b[1;32m      4\u001b[0m \u001b[0;31m#ps_semi = [sigmoid(logodds(x)+0.5) for x in ps_active]\u001b[0m\u001b[0;34m\u001b[0m\u001b[0;34m\u001b[0m\u001b[0m\n\u001b[1;32m      5\u001b[0m \u001b[0mplt\u001b[0m\u001b[0;34m.\u001b[0m\u001b[0mplot\u001b[0m\u001b[0;34m(\u001b[0m\u001b[0mps_active\u001b[0m\u001b[0;34m)\u001b[0m\u001b[0;34m\u001b[0m\u001b[0m\n",
      "\u001b[0;31mNameError\u001b[0m: name 'alpha' is not defined"
     ]
    }
   ],
   "source": [
    "k = np.arange(500)\n",
    "ps_active = 0.99-np.exp(-alpha*(k+5+beta))\n",
    "ps_semi = 0.99-np.exp(-alpha*(k+50+beta)) # 1. - 1./((k+10.)**0.5)\n",
    "#ps_semi = [sigmoid(logodds(x)+0.5) for x in ps_active]\n",
    "plt.plot(ps_active)\n",
    "plt.plot(ps_semi)"
   ]
  },
  {
   "cell_type": "code",
   "execution_count": 644,
   "metadata": {
    "collapsed": true
   },
   "outputs": [
    {
     "data": {
      "text/plain": [
       "5       0.425806\n",
       "28      0.916396\n",
       "33      0.991628\n",
       "48      0.999230\n",
       "51      0.999334\n",
       "61      0.998572\n",
       "63      0.998993\n",
       "69      0.999287\n",
       "71      0.999103\n",
       "73      0.998932\n",
       "88      0.998491\n",
       "130     0.998824\n",
       "133     0.998514\n",
       "137     0.999336\n",
       "141     0.999393\n",
       "142     0.998165\n",
       "163     0.998938\n",
       "168     0.999099\n",
       "173     0.999395\n",
       "178     0.999068\n",
       "183     0.999007\n",
       "188     0.998853\n",
       "196     0.999019\n",
       "198     0.998720\n",
       "218     0.998806\n",
       "231     0.999215\n",
       "232     0.998818\n",
       "239     0.998938\n",
       "245     0.999252\n",
       "255     0.998652\n",
       "          ...   \n",
       "1651    0.956350\n",
       "1659    0.964086\n",
       "1693    0.848622\n",
       "1716    0.679739\n",
       "1719    0.642521\n",
       "1721    0.525230\n",
       "1724    0.449891\n",
       "1731    0.632347\n",
       "1738    0.398423\n",
       "1739    0.380264\n",
       "1746    0.309181\n",
       "1751    0.312936\n",
       "1752    0.516382\n",
       "1764    0.175825\n",
       "1805    0.175825\n",
       "1840    0.175825\n",
       "1852    0.175825\n",
       "1859    0.175825\n",
       "1866    0.175825\n",
       "1874    0.175825\n",
       "1901    0.175825\n",
       "1934    0.175825\n",
       "1946    0.175825\n",
       "1950    0.175825\n",
       "1959    0.175825\n",
       "1963    0.175825\n",
       "1967    0.175825\n",
       "1974    0.175825\n",
       "1976    0.175825\n",
       "1999    0.175825\n",
       "Name: labeled_score, dtype: float64"
      ]
     },
     "execution_count": 644,
     "metadata": {},
     "output_type": "execute_result"
    }
   ],
   "source": [
    "results[results['n_next_labeled']>0]['labeled_score']"
   ]
  },
  {
   "cell_type": "code",
   "execution_count": 46,
   "metadata": {
    "collapsed": true
   },
   "outputs": [],
   "source": [
    "from sklearn.linear_model import LinearRegression"
   ]
  },
  {
   "cell_type": "code",
   "execution_count": 115,
   "metadata": {
    "collapsed": false
   },
   "outputs": [
    {
     "data": {
      "text/plain": [
       "(1000,)"
      ]
     },
     "execution_count": 115,
     "metadata": {},
     "output_type": "execute_result"
    }
   ],
   "source": [
    "results['n_labeled'].values.shape"
   ]
  },
  {
   "cell_type": "code",
   "execution_count": 118,
   "metadata": {
    "collapsed": true
   },
   "outputs": [],
   "source": [
    "x = results['n_labeled'].values\n",
    "y = results['accuracy'].values"
   ]
  },
  {
   "cell_type": "code",
   "execution_count": 124,
   "metadata": {
    "collapsed": true
   },
   "outputs": [
    {
     "name": "stderr",
     "output_type": "stream",
     "text": [
      "/Users/melkherj/anaconda/lib/python2.7/site-packages/IPython/kernel/__main__.py:2: FutureWarning: pd.rolling_mean is deprecated for Series and will be removed in a future version, replace with \n",
      "\tSeries.rolling(window=10,center=False).mean()\n",
      "  from IPython.kernel.zmq import kernelapp as app\n"
     ]
    },
    {
     "data": {
      "text/plain": [
       "0        NaN\n",
       "1        NaN\n",
       "2        NaN\n",
       "3        NaN\n",
       "4        NaN\n",
       "5        NaN\n",
       "6        NaN\n",
       "7        NaN\n",
       "8        NaN\n",
       "9      0.040\n",
       "10     0.047\n",
       "11     0.054\n",
       "12     0.061\n",
       "13     0.068\n",
       "14     0.075\n",
       "15     0.082\n",
       "16     0.089\n",
       "17     0.096\n",
       "18     0.103\n",
       "19     0.110\n",
       "20     0.124\n",
       "21     0.138\n",
       "22     0.152\n",
       "23     0.166\n",
       "24     0.180\n",
       "25     0.194\n",
       "26     0.208\n",
       "27     0.222\n",
       "28     0.236\n",
       "29     0.250\n",
       "       ...  \n",
       "970    0.627\n",
       "971    0.624\n",
       "972    0.621\n",
       "973    0.618\n",
       "974    0.615\n",
       "975    0.612\n",
       "976    0.609\n",
       "977    0.606\n",
       "978    0.603\n",
       "979    0.600\n",
       "980    0.597\n",
       "981    0.594\n",
       "982    0.591\n",
       "983    0.588\n",
       "984    0.585\n",
       "985    0.582\n",
       "986    0.579\n",
       "987    0.576\n",
       "988    0.573\n",
       "989    0.570\n",
       "990    0.571\n",
       "991    0.572\n",
       "992    0.573\n",
       "993    0.574\n",
       "994    0.575\n",
       "995    0.576\n",
       "996    0.577\n",
       "997    0.578\n",
       "998    0.579\n",
       "999    0.580\n",
       "Name: accuracy, dtype: float64"
      ]
     },
     "execution_count": 124,
     "metadata": {},
     "output_type": "execute_result"
    }
   ],
   "source": [
    "import pandas as pd\n"
   ]
  },
  {
   "cell_type": "code",
   "execution_count": 119,
   "metadata": {
    "collapsed": true
   },
   "outputs": [
    {
     "ename": "ValueError",
     "evalue": "Found arrays with inconsistent numbers of samples: [   1 1000]",
     "output_type": "error",
     "traceback": [
      "\u001b[0;31m---------------------------------------------------------------------------\u001b[0m",
      "\u001b[0;31mValueError\u001b[0m                                Traceback (most recent call last)",
      "\u001b[0;32m<ipython-input-119-f2eec9a86d3c>\u001b[0m in \u001b[0;36m<module>\u001b[0;34m()\u001b[0m\n\u001b[0;32m----> 1\u001b[0;31m \u001b[0mLinearRegression\u001b[0m\u001b[0;34m(\u001b[0m\u001b[0;34m)\u001b[0m\u001b[0;34m.\u001b[0m\u001b[0mfit\u001b[0m\u001b[0;34m(\u001b[0m\u001b[0mx\u001b[0m\u001b[0;34m,\u001b[0m\u001b[0my\u001b[0m\u001b[0;34m)\u001b[0m \u001b[0;31m#.predict(results['n_labeled'].values)\u001b[0m\u001b[0;34m\u001b[0m\u001b[0m\n\u001b[0m",
      "\u001b[0;32m/Users/melkherj/anaconda/lib/python2.7/site-packages/sklearn/linear_model/base.pyc\u001b[0m in \u001b[0;36mfit\u001b[0;34m(self, X, y, n_jobs)\u001b[0m\n\u001b[1;32m    374\u001b[0m             \u001b[0mn_jobs_\u001b[0m \u001b[0;34m=\u001b[0m \u001b[0mself\u001b[0m\u001b[0;34m.\u001b[0m\u001b[0mn_jobs\u001b[0m\u001b[0;34m\u001b[0m\u001b[0m\n\u001b[1;32m    375\u001b[0m         X, y = check_X_y(X, y, accept_sparse=['csr', 'csc', 'coo'],\n\u001b[0;32m--> 376\u001b[0;31m                          y_numeric=True, multi_output=True)\n\u001b[0m\u001b[1;32m    377\u001b[0m \u001b[0;34m\u001b[0m\u001b[0m\n\u001b[1;32m    378\u001b[0m         X, y, X_mean, y_mean, X_std = self._center_data(\n",
      "\u001b[0;32m/Users/melkherj/anaconda/lib/python2.7/site-packages/sklearn/utils/validation.pyc\u001b[0m in \u001b[0;36mcheck_X_y\u001b[0;34m(X, y, accept_sparse, dtype, order, copy, force_all_finite, ensure_2d, allow_nd, multi_output, ensure_min_samples, ensure_min_features, y_numeric)\u001b[0m\n\u001b[1;32m    452\u001b[0m         \u001b[0my\u001b[0m \u001b[0;34m=\u001b[0m \u001b[0my\u001b[0m\u001b[0;34m.\u001b[0m\u001b[0mastype\u001b[0m\u001b[0;34m(\u001b[0m\u001b[0mnp\u001b[0m\u001b[0;34m.\u001b[0m\u001b[0mfloat64\u001b[0m\u001b[0;34m)\u001b[0m\u001b[0;34m\u001b[0m\u001b[0m\n\u001b[1;32m    453\u001b[0m \u001b[0;34m\u001b[0m\u001b[0m\n\u001b[0;32m--> 454\u001b[0;31m     \u001b[0mcheck_consistent_length\u001b[0m\u001b[0;34m(\u001b[0m\u001b[0mX\u001b[0m\u001b[0;34m,\u001b[0m \u001b[0my\u001b[0m\u001b[0;34m)\u001b[0m\u001b[0;34m\u001b[0m\u001b[0m\n\u001b[0m\u001b[1;32m    455\u001b[0m \u001b[0;34m\u001b[0m\u001b[0m\n\u001b[1;32m    456\u001b[0m     \u001b[0;32mreturn\u001b[0m \u001b[0mX\u001b[0m\u001b[0;34m,\u001b[0m \u001b[0my\u001b[0m\u001b[0;34m\u001b[0m\u001b[0m\n",
      "\u001b[0;32m/Users/melkherj/anaconda/lib/python2.7/site-packages/sklearn/utils/validation.pyc\u001b[0m in \u001b[0;36mcheck_consistent_length\u001b[0;34m(*arrays)\u001b[0m\n\u001b[1;32m    172\u001b[0m     \u001b[0;32mif\u001b[0m \u001b[0mlen\u001b[0m\u001b[0;34m(\u001b[0m\u001b[0muniques\u001b[0m\u001b[0;34m)\u001b[0m \u001b[0;34m>\u001b[0m \u001b[0;36m1\u001b[0m\u001b[0;34m:\u001b[0m\u001b[0;34m\u001b[0m\u001b[0m\n\u001b[1;32m    173\u001b[0m         raise ValueError(\"Found arrays with inconsistent numbers of samples: \"\n\u001b[0;32m--> 174\u001b[0;31m                          \"%s\" % str(uniques))\n\u001b[0m\u001b[1;32m    175\u001b[0m \u001b[0;34m\u001b[0m\u001b[0m\n\u001b[1;32m    176\u001b[0m \u001b[0;34m\u001b[0m\u001b[0m\n",
      "\u001b[0;31mValueError\u001b[0m: Found arrays with inconsistent numbers of samples: [   1 1000]"
     ]
    }
   ],
   "source": [
    "LinearRegression().fit(x,y) #.predict(results['n_labeled'].values)"
   ]
  },
  {
   "cell_type": "code",
   "execution_count": 105,
   "metadata": {
    "collapsed": false
   },
   "outputs": [
    {
     "data": {
      "text/html": [
       "<div>\n",
       "<table border=\"1\" class=\"dataframe\">\n",
       "  <thead>\n",
       "    <tr style=\"text-align: right;\">\n",
       "      <th></th>\n",
       "      <th>0</th>\n",
       "      <th>1</th>\n",
       "    </tr>\n",
       "  </thead>\n",
       "  <tbody>\n",
       "    <tr>\n",
       "      <th>0</th>\n",
       "      <td>active_thresh</td>\n",
       "      <td>0.757331</td>\n",
       "    </tr>\n",
       "    <tr>\n",
       "      <th>1</th>\n",
       "      <td>active_variance</td>\n",
       "      <td>0.3815</td>\n",
       "    </tr>\n",
       "    <tr>\n",
       "      <th>2</th>\n",
       "      <td>name</td>\n",
       "      <td>max</td>\n",
       "    </tr>\n",
       "    <tr>\n",
       "      <th>3</th>\n",
       "      <td>semisup_thresh</td>\n",
       "      <td>0.902594</td>\n",
       "    </tr>\n",
       "  </tbody>\n",
       "</table>\n",
       "</div>"
      ],
      "text/plain": [
       "                 0         1\n",
       "0    active_thresh  0.757331\n",
       "1  active_variance    0.3815\n",
       "2             name       max\n",
       "3   semisup_thresh  0.902594"
      ]
     },
     "execution_count": 105,
     "metadata": {},
     "output_type": "execute_result"
    }
   ],
   "source": []
  },
  {
   "cell_type": "code",
   "execution_count": null,
   "metadata": {
    "collapsed": true
   },
   "outputs": [],
   "source": []
  }
 ],
 "metadata": {
  "kernelspec": {
   "display_name": "Python 2",
   "language": "python",
   "name": "python2"
  },
  "language_info": {
   "codemirror_mode": {
    "name": "ipython",
    "version": 2
   },
   "file_extension": ".py",
   "mimetype": "text/x-python",
   "name": "python",
   "nbconvert_exporter": "python",
   "pygments_lexer": "ipython2",
   "version": "2.7.10"
  }
 },
 "nbformat": 4,
 "nbformat_minor": 0
}
