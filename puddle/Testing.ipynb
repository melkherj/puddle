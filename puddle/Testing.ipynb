{
 "cells": [
  {
   "cell_type": "code",
   "execution_count": 7,
   "metadata": {
    "collapsed": true
   },
   "outputs": [],
   "source": [
    "import numpy as np\n",
    "import pandas as pd"
   ]
  },
  {
   "cell_type": "code",
   "execution_count": 8,
   "metadata": {
    "collapsed": true
   },
   "outputs": [],
   "source": [
    "from model_selectors.fisher import ActiveLearningLogisticRegression"
   ]
  },
  {
   "cell_type": "code",
   "execution_count": 9,
   "metadata": {
    "collapsed": false
   },
   "outputs": [],
   "source": [
    "import active_evaluate"
   ]
  },
  {
   "cell_type": "code",
   "execution_count": 10,
   "metadata": {
    "collapsed": false
   },
   "outputs": [],
   "source": [
    "from active_evaluate import active_evaluate\n",
    "from model_selectors import selectors\n",
    "from models.sklearn_simple import all_models\n",
    "from datasets.sklearn_datasets import classification_datasets\n",
    "import pandas as pd\n",
    "import itertools\n",
    "import matplotlib.pyplot as plt\n",
    "import os\n",
    "\n",
    "labels_per_epoch = 10\n",
    "\n",
    "all_datasets = classification_datasets()\n",
    "\n",
    "#(dataset,model,selector)\n",
    "experiments = list(itertools.product(\n",
    "                                    all_datasets.items(),\n",
    "                                    all_models.items(),\n",
    "                                    selectors.items()\n",
    "                                    ))"
   ]
  },
  {
   "cell_type": "code",
   "execution_count": 11,
   "metadata": {
    "collapsed": false
   },
   "outputs": [],
   "source": [
    "X, Y = all_datasets['20newsgroups_vectorized']"
   ]
  },
  {
   "cell_type": "code",
   "execution_count": 12,
   "metadata": {
    "collapsed": false
   },
   "outputs": [],
   "source": [
    "selector = selectors[\"fisher_info\"]"
   ]
  },
  {
   "cell_type": "code",
   "execution_count": 13,
   "metadata": {
    "collapsed": false
   },
   "outputs": [],
   "source": [
    "model = all_models['logistic_regression']#.keys()"
   ]
  },
  {
   "cell_type": "code",
   "execution_count": 14,
   "metadata": {
    "collapsed": false
   },
   "outputs": [
    {
     "data": {
      "text/plain": [
       "LogisticRegression(C=1.0, class_weight=None, dual=False, fit_intercept=True,\n",
       "          intercept_scaling=1, max_iter=100, multi_class='ovr', n_jobs=1,\n",
       "          penalty='l2', random_state=None, solver='liblinear', tol=0.0001,\n",
       "          verbose=0, warm_start=False)"
      ]
     },
     "execution_count": 14,
     "metadata": {},
     "output_type": "execute_result"
    }
   ],
   "source": [
    "model.fit(X,Y)"
   ]
  },
  {
   "cell_type": "code",
   "execution_count": 15,
   "metadata": {
    "collapsed": false
   },
   "outputs": [
    {
     "data": {
      "text/plain": [
       "array([-0.26346046,  0.31006817])"
      ]
     },
     "execution_count": 15,
     "metadata": {},
     "output_type": "execute_result"
    }
   ],
   "source": [
    "model.decision_function(X[:2])"
   ]
  },
  {
   "cell_type": "code",
   "execution_count": 19,
   "metadata": {
    "collapsed": false
   },
   "outputs": [
    {
     "data": {
      "text/plain": [
       "array([-0.26346046,  0.31006817])"
      ]
     },
     "execution_count": 19,
     "metadata": {},
     "output_type": "execute_result"
    }
   ],
   "source": [
    "logit(model.predict_proba(X[:2])[:, 1])"
   ]
  },
  {
   "cell_type": "code",
   "execution_count": 30,
   "metadata": {
    "collapsed": false
   },
   "outputs": [],
   "source": [
    "def active_evaluate(X, Y, model, selector, epochs, labels_per_epoch,test_size=0.1, bootstrap_size=10):\n",
    "    \"\"\"\n",
    "\n",
    "    :param X:\n",
    "    :param Y:\n",
    "    :param model:\n",
    "    :param selector:\n",
    "    :param epochs:\n",
    "    :param labels_per_epoch:\n",
    "    :param test_size:\n",
    "    :return:\n",
    "    \"\"\"\n",
    "    X_train, X_test, Y_train, Y_test = train_test_split(X, Y, test_size=test_size)\n",
    "    selected_ixs = random.sample(set(np.arange(X_train.shape[0])), bootstrap_size) # ordered list of indices we've asked for human labels so far\n",
    "    model.fit(X_train[selected_ixs], Y_train[selected_ixs])\n",
    "    metrics_by_epoch = []\n",
    "    for epoch in range(epochs):\n",
    "        if epochs <= 20 or epoch % (epochs//20) == 0:\n",
    "            print('%d/%d epochs...'%(epoch, epochs))\n",
    "        next_ixs = selector.next_indices(X_train, selected_ixs, Y_train[selected_ixs], model,\n",
    "                                         n_ixs=labels_per_epoch)\n",
    "        assert len(set(next_ixs)&set(selected_ixs)) == 0 #must be new indices\n",
    "        selected_ixs += next_ixs\n",
    "        # TODO allow for importance weights in model\n",
    "        model.fit(X_train[selected_ixs], Y_train[selected_ixs])\n",
    "        P = model.predict_proba(X_test)\n",
    "        metrics = binary_class_metrics(Y_train[selected_ixs],Y_test,P,len(Y_train))\n",
    "        metrics_by_epoch.append(metrics)\n",
    "    return metrics_by_epoch"
   ]
  },
  {
   "cell_type": "code",
   "execution_count": 2,
   "metadata": {
    "collapsed": false
   },
   "outputs": [
    {
     "name": "stderr",
     "output_type": "stream",
     "text": [
      "/Users/rspeare/anaconda/lib/python3.5/site-packages/sklearn/cross_validation.py:44: DeprecationWarning: This module was deprecated in version 0.18 in favor of the model_selection module into which all the refactored classes and functions are moved. Also note that the interface of the new CV iterators are different from that of this module. This module will be removed in 0.20.\n",
      "  \"This module will be removed in 0.20.\", DeprecationWarning)\n"
     ]
    }
   ],
   "source": [
    "import sys,os\n",
    "import numpy as np\n",
    "import json\n",
    "import random\n",
    "import time\n",
    "from collections import Counter\n",
    "from sklearn.metrics import average_precision_score, accuracy_score, f1_score, log_loss\n",
    "from sklearn.cross_validation import train_test_split\n"
   ]
  },
  {
   "cell_type": "code",
   "execution_count": 5,
   "metadata": {
    "collapsed": false
   },
   "outputs": [],
   "source": [
    "from scipy.special import logit"
   ]
  },
  {
   "cell_type": "code",
   "execution_count": null,
   "metadata": {
    "collapsed": true
   },
   "outputs": [],
   "source": [
    "model.co"
   ]
  },
  {
   "cell_type": "code",
   "execution_count": 6,
   "metadata": {
    "collapsed": false
   },
   "outputs": [
    {
     "data": {
      "text/plain": [
       "0.0"
      ]
     },
     "execution_count": 6,
     "metadata": {},
     "output_type": "execute_result"
    }
   ],
   "source": [
    "logit(.5)"
   ]
  },
  {
   "cell_type": "code",
   "execution_count": null,
   "metadata": {
    "collapsed": false
   },
   "outputs": [
    {
     "name": "stdout",
     "output_type": "stream",
     "text": [
      "0/1 epochs...\n"
     ]
    }
   ],
   "source": [
    "res = active_evaluate(X,Y, model, selector, 1, 1)"
   ]
  },
  {
   "cell_type": "code",
   "execution_count": null,
   "metadata": {
    "collapsed": true
   },
   "outputs": [],
   "source": [
    "all_metrics = []\n",
    "for (dataset_name,(X,Y)),(model_name, model),(selector_name, selector) in experiments:\n",
    "    print('evaluating dataset/model/selector: ',dataset_name,model_name,selector_name,'...')\n",
    "    #TODO don't hardcode epochs and number of examples per epoch\n",
    "    epochs = len(Y)//labels_per_epoch\n",
    "    metrics_by_epoch = active_evaluate(X, Y, model, selector, epochs, labels_per_epoch)\n",
    "    for metric in metrics_by_epoch:\n",
    "        metric['dataset'] = dataset_name\n",
    "        metric['model'] = model_name\n",
    "        metric['selector'] = selector_name\n",
    "        all_metrics.append(metric)"
   ]
  }
 ],
 "metadata": {
  "anaconda-cloud": {},
  "kernelspec": {
   "display_name": "Python [conda env:anaconda]",
   "language": "python",
   "name": "conda-env-anaconda-py"
  },
  "language_info": {
   "codemirror_mode": {
    "name": "ipython",
    "version": 3
   },
   "file_extension": ".py",
   "mimetype": "text/x-python",
   "name": "python",
   "nbconvert_exporter": "python",
   "pygments_lexer": "ipython3",
   "version": "3.5.2"
  }
 },
 "nbformat": 4,
 "nbformat_minor": 1
}
