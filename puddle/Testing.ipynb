{
 "cells": [
  {
   "cell_type": "code",
   "execution_count": 1,
   "metadata": {},
   "outputs": [],
   "source": [
    "import numpy as np\n",
    "import pandas as pd"
   ]
  },
  {
   "cell_type": "code",
   "execution_count": 5,
   "metadata": {},
   "outputs": [
    {
     "data": {
      "text/html": [
       "<div>\n",
       "<table border=\"1\" class=\"dataframe\">\n",
       "  <thead>\n",
       "    <tr style=\"text-align: right;\">\n",
       "      <th></th>\n",
       "      <th>hi</th>\n",
       "    </tr>\n",
       "  </thead>\n",
       "  <tbody>\n",
       "    <tr>\n",
       "      <th>0</th>\n",
       "      <td>1</td>\n",
       "    </tr>\n",
       "  </tbody>\n",
       "</table>\n",
       "</div>"
      ],
      "text/plain": [
       "   hi\n",
       "0   1"
      ]
     },
     "execution_count": 5,
     "metadata": {},
     "output_type": "execute_result"
    }
   ],
   "source": [
    "pd.concat([pd.DataFrame(), pd.DataFrame({\"hi\":[1]})])"
   ]
  },
  {
   "cell_type": "code",
   "execution_count": 33,
   "metadata": {},
   "outputs": [],
   "source": [
    "def run_experiment(experiment):\n",
    "    dataset, model1, selector1 = experiment\n",
    "    dataset_name, (X,Y) = dataset\n",
    "    (model_name, model) = model1\n",
    "    (selector_name, selector) = selector1\n",
    "    print('evaluating dataset/model/selector: ',dataset_name,model_name,selector_name,'...')\n",
    "    print('evaluating dataset/model/selector: ',dataset_name,model_name,selector_name,'...')\n",
    "    return None"
   ]
  },
  {
   "cell_type": "code",
   "execution_count": 220,
   "metadata": {},
   "outputs": [],
   "source": [
    "from model_selectors import selectors\n",
    "from models.sklearn_simple import all_models\n",
    "from datasets.sklearn_datasets import classification_datasets"
   ]
  },
  {
   "cell_type": "code",
   "execution_count": 221,
   "metadata": {},
   "outputs": [],
   "source": [
    "import itertools\n",
    "all_datasets = classification_datasets(downsample_size=10**4)\n"
   ]
  },
  {
   "cell_type": "code",
   "execution_count": 232,
   "metadata": {},
   "outputs": [],
   "source": [
    "# List of all experiments\n",
    "experiments = itertools.product(\n",
    "                                    all_datasets.items(),\n",
    "                                    all_models.items(),\n",
    "                                    selectors.items()\n",
    "                                    )"
   ]
  },
  {
   "cell_type": "code",
   "execution_count": 233,
   "metadata": {},
   "outputs": [
    {
     "data": {
      "text/plain": [
       "itertools.product"
      ]
     },
     "execution_count": 233,
     "metadata": {},
     "output_type": "execute_result"
    }
   ],
   "source": [
    "type(experiments)"
   ]
  },
  {
   "cell_type": "code",
   "execution_count": null,
   "metadata": {},
   "outputs": [],
   "source": [
    "[x for x in ]"
   ]
  },
  {
   "cell_type": "code",
   "execution_count": 224,
   "metadata": {},
   "outputs": [],
   "source": [
    "d = {\"a\":1, \"b\":2}"
   ]
  },
  {
   "cell_type": "code",
   "execution_count": 226,
   "metadata": {},
   "outputs": [],
   "source": [
    "did = iter(d)"
   ]
  },
  {
   "cell_type": "code",
   "execution_count": 229,
   "metadata": {},
   "outputs": [
    {
     "ename": "AttributeError",
     "evalue": "'dict_keyiterator' object has no attribute 'items'",
     "output_type": "error",
     "traceback": [
      "\u001b[0;31m---------------------------------------------------------------------------\u001b[0m",
      "\u001b[0;31mAttributeError\u001b[0m                            Traceback (most recent call last)",
      "\u001b[0;32m<ipython-input-229-ee187ea44340>\u001b[0m in \u001b[0;36m<module>\u001b[0;34m()\u001b[0m\n\u001b[0;32m----> 1\u001b[0;31m \u001b[0;34m[\u001b[0m\u001b[0mx\u001b[0m \u001b[0;32mfor\u001b[0m \u001b[0mx\u001b[0m \u001b[0;32min\u001b[0m \u001b[0mdid\u001b[0m\u001b[0;34m.\u001b[0m\u001b[0mitems\u001b[0m\u001b[0;34m(\u001b[0m\u001b[0;34m)\u001b[0m\u001b[0;34m]\u001b[0m\u001b[0;34m\u001b[0m\u001b[0m\n\u001b[0m",
      "\u001b[0;31mAttributeError\u001b[0m: 'dict_keyiterator' object has no attribute 'items'"
     ]
    }
   ],
   "source": [
    "[x for x in did.items()]"
   ]
  },
  {
   "cell_type": "code",
   "execution_count": 228,
   "metadata": {},
   "outputs": [
    {
     "data": {
      "text/plain": [
       "dict_keyiterator"
      ]
     },
     "execution_count": 228,
     "metadata": {},
     "output_type": "execute_result"
    }
   ],
   "source": [
    "type(did)"
   ]
  },
  {
   "cell_type": "code",
   "execution_count": 223,
   "metadata": {},
   "outputs": [
    {
     "data": {
      "text/plain": [
       "list"
      ]
     },
     "execution_count": 223,
     "metadata": {},
     "output_type": "execute_result"
    }
   ],
   "source": [
    "type(experiments)"
   ]
  },
  {
   "cell_type": "code",
   "execution_count": 34,
   "metadata": {},
   "outputs": [
    {
     "name": "stdout",
     "output_type": "stream",
     "text": [
      "evaluating dataset/model/selector:  breast_cancer logistic_regression FisherSelector ...\n",
      "evaluating dataset/model/selector:  breast_cancer logistic_regression FisherSelector ...\n"
     ]
    }
   ],
   "source": [
    "run_experiment(experiments[0])"
   ]
  },
  {
   "cell_type": "code",
   "execution_count": 6,
   "metadata": {},
   "outputs": [
    {
     "name": "stderr",
     "output_type": "stream",
     "text": [
      "Process ForkPoolWorker-2:\n",
      "Process ForkPoolWorker-1:\n",
      "Traceback (most recent call last):\n",
      "Traceback (most recent call last):\n",
      "  File \"/Users/rspeare/anaconda/lib/python3.5/multiprocessing/process.py\", line 252, in _bootstrap\n",
      "    self.run()\n",
      "  File \"/Users/rspeare/anaconda/lib/python3.5/multiprocessing/process.py\", line 252, in _bootstrap\n",
      "    self.run()\n",
      "  File \"/Users/rspeare/anaconda/lib/python3.5/multiprocessing/process.py\", line 93, in run\n",
      "    self._target(*self._args, **self._kwargs)\n",
      "  File \"/Users/rspeare/anaconda/lib/python3.5/multiprocessing/process.py\", line 93, in run\n",
      "    self._target(*self._args, **self._kwargs)\n",
      "  File \"/Users/rspeare/anaconda/lib/python3.5/multiprocessing/pool.py\", line 108, in worker\n",
      "    task = get()\n",
      "  File \"/Users/rspeare/anaconda/lib/python3.5/multiprocessing/pool.py\", line 108, in worker\n",
      "    task = get()\n",
      "  File \"/Users/rspeare/anaconda/lib/python3.5/multiprocessing/queues.py\", line 337, in get\n",
      "    return ForkingPickler.loads(res)\n",
      "  File \"/Users/rspeare/anaconda/lib/python3.5/multiprocessing/queues.py\", line 337, in get\n",
      "    return ForkingPickler.loads(res)\n",
      "AttributeError: Can't get attribute 'f' on <module '__main__'>\n",
      "AttributeError: Can't get attribute 'f' on <module '__main__'>\n"
     ]
    }
   ],
   "source": [
    "import multiprocessing\n",
    "p = multiprocessing.Pool(2)"
   ]
  },
  {
   "cell_type": "code",
   "execution_count": 48,
   "metadata": {},
   "outputs": [],
   "source": [
    "def f(x,y=0):\n",
    "    return x+y"
   ]
  },
  {
   "cell_type": "code",
   "execution_count": 49,
   "metadata": {},
   "outputs": [],
   "source": [
    "from functools import partial"
   ]
  },
  {
   "cell_type": "code",
   "execution_count": 52,
   "metadata": {},
   "outputs": [
    {
     "name": "stdout",
     "output_type": "stream",
     "text": [
      "Testing.ipynb              \u001b[1m\u001b[34mdatasets\u001b[m\u001b[m\r\n",
      "Testing_and_Plotting.ipynb \u001b[1m\u001b[34mmodel_selectors\u001b[m\u001b[m\r\n",
      "__init__.py                \u001b[1m\u001b[34mmodels\u001b[m\u001b[m\r\n",
      "\u001b[1m\u001b[34m__pycache__\u001b[m\u001b[m                run.py\r\n",
      "\u001b[31mactive_evaluate.py\u001b[m\u001b[m\r\n"
     ]
    }
   ],
   "source": [
    "!ls"
   ]
  },
  {
   "cell_type": "code",
   "execution_count": 5,
   "metadata": {},
   "outputs": [],
   "source": [
    "import pandas as pd"
   ]
  },
  {
   "cell_type": "code",
   "execution_count": 124,
   "metadata": {},
   "outputs": [],
   "source": [
    "df = pd.read_csv(\"../results/all_metrics.csv\")"
   ]
  },
  {
   "cell_type": "code",
   "execution_count": 125,
   "metadata": {},
   "outputs": [],
   "source": [
    "import seaborn as sns"
   ]
  },
  {
   "cell_type": "code",
   "execution_count": 126,
   "metadata": {},
   "outputs": [
    {
     "data": {
      "text/html": [
       "<div>\n",
       "<table border=\"1\" class=\"dataframe\">\n",
       "  <thead>\n",
       "    <tr style=\"text-align: right;\">\n",
       "      <th></th>\n",
       "      <th>Unnamed: 0</th>\n",
       "      <th>accuracy</th>\n",
       "      <th>f1</th>\n",
       "      <th>logloss</th>\n",
       "      <th>n_total_train</th>\n",
       "      <th>seed_initialization_run</th>\n",
       "      <th>test_base_rate</th>\n",
       "      <th>test_positives</th>\n",
       "      <th>test_size</th>\n",
       "      <th>train_base_rate</th>\n",
       "      <th>train_fraction</th>\n",
       "      <th>train_positives</th>\n",
       "      <th>train_size</th>\n",
       "      <th>dataset</th>\n",
       "      <th>model</th>\n",
       "      <th>selector</th>\n",
       "    </tr>\n",
       "  </thead>\n",
       "  <tbody>\n",
       "    <tr>\n",
       "      <th>0</th>\n",
       "      <td>0</td>\n",
       "      <td>0.616</td>\n",
       "      <td>0.530562</td>\n",
       "      <td>0.754885</td>\n",
       "      <td>1000</td>\n",
       "      <td>0</td>\n",
       "      <td>0.526</td>\n",
       "      <td>526</td>\n",
       "      <td>1000</td>\n",
       "      <td>0.333333</td>\n",
       "      <td>0.015</td>\n",
       "      <td>5</td>\n",
       "      <td>15</td>\n",
       "      <td>california_housing</td>\n",
       "      <td>logistic_regression</td>\n",
       "      <td>random</td>\n",
       "    </tr>\n",
       "  </tbody>\n",
       "</table>\n",
       "</div>"
      ],
      "text/plain": [
       "   Unnamed: 0  accuracy        f1   logloss  n_total_train  \\\n",
       "0           0     0.616  0.530562  0.754885           1000   \n",
       "\n",
       "   seed_initialization_run  test_base_rate  test_positives  test_size  \\\n",
       "0                        0           0.526             526       1000   \n",
       "\n",
       "   train_base_rate  train_fraction  train_positives  train_size  \\\n",
       "0         0.333333           0.015                5          15   \n",
       "\n",
       "              dataset                model selector  \n",
       "0  california_housing  logistic_regression   random  "
      ]
     },
     "execution_count": 126,
     "metadata": {},
     "output_type": "execute_result"
    }
   ],
   "source": [
    "df.head(1)"
   ]
  },
  {
   "cell_type": "code",
   "execution_count": 127,
   "metadata": {},
   "outputs": [
    {
     "data": {
      "text/html": [
       "<div>\n",
       "<table border=\"1\" class=\"dataframe\">\n",
       "  <thead>\n",
       "    <tr style=\"text-align: right;\">\n",
       "      <th></th>\n",
       "      <th>dataset</th>\n",
       "      <th>model</th>\n",
       "      <th>selector</th>\n",
       "      <th>train_size</th>\n",
       "      <th>f1_mean</th>\n",
       "      <th>f1_std</th>\n",
       "      <th>f1_upper</th>\n",
       "      <th>f1_lower</th>\n",
       "    </tr>\n",
       "  </thead>\n",
       "  <tbody>\n",
       "    <tr>\n",
       "      <th>0</th>\n",
       "      <td>boston</td>\n",
       "      <td>logistic_regression</td>\n",
       "      <td>random</td>\n",
       "      <td>15</td>\n",
       "      <td>0.774049</td>\n",
       "      <td>NaN</td>\n",
       "      <td>0.774049</td>\n",
       "      <td>0.774049</td>\n",
       "    </tr>\n",
       "  </tbody>\n",
       "</table>\n",
       "</div>"
      ],
      "text/plain": [
       "  dataset                model selector  train_size   f1_mean  f1_std  \\\n",
       "0  boston  logistic_regression   random          15  0.774049     NaN   \n",
       "\n",
       "   f1_upper  f1_lower  \n",
       "0  0.774049  0.774049  "
      ]
     },
     "execution_count": 127,
     "metadata": {},
     "output_type": "execute_result"
    }
   ],
   "source": [
    "agg = df.groupby(['dataset', 'model', 'selector', 'train_size']).agg({'f1':['mean', 'std']})\n",
    "agg.columns = ['_'.join(col).strip() for col in agg.columns.values]\n",
    "agg['f1_upper'] = agg[\"f1_mean\"]+agg['f1_std'].fillna(0)\n",
    "agg['f1_lower'] = agg[\"f1_mean\"]-agg['f1_std'].fillna(0)\n",
    "agg = agg.reset_index()\n",
    "agg.head(1)"
   ]
  },
  {
   "cell_type": "code",
   "execution_count": 217,
   "metadata": {},
   "outputs": [],
   "source": [
    "df = pd.read_csv('../results/all_metrics.csv')"
   ]
  },
  {
   "cell_type": "code",
   "execution_count": 218,
   "metadata": {},
   "outputs": [],
   "source": [
    "agg = df.groupby(['dataset', 'model', 'selector', 'train_size']).agg({'f1':['mean', 'std']})"
   ]
  },
  {
   "cell_type": "code",
   "execution_count": 219,
   "metadata": {},
   "outputs": [
    {
     "data": {
      "text/html": [
       "<div>\n",
       "<table border=\"1\" class=\"dataframe\">\n",
       "  <thead>\n",
       "    <tr style=\"text-align: right;\">\n",
       "      <th></th>\n",
       "      <th>Unnamed: 0</th>\n",
       "      <th>accuracy</th>\n",
       "      <th>f1</th>\n",
       "      <th>logloss</th>\n",
       "      <th>n_total_train</th>\n",
       "      <th>seed_initialization_run</th>\n",
       "      <th>test_base_rate</th>\n",
       "      <th>test_positives</th>\n",
       "      <th>test_size</th>\n",
       "      <th>train_base_rate</th>\n",
       "      <th>train_fraction</th>\n",
       "      <th>train_positives</th>\n",
       "      <th>train_size</th>\n",
       "      <th>f1_mean</th>\n",
       "      <th>f1_std</th>\n",
       "      <th>dataset</th>\n",
       "      <th>model</th>\n",
       "      <th>selector</th>\n",
       "    </tr>\n",
       "  </thead>\n",
       "  <tbody>\n",
       "    <tr>\n",
       "      <th>2000</th>\n",
       "      <td>0</td>\n",
       "      <td>0.802372</td>\n",
       "      <td>0.786325</td>\n",
       "      <td>0.677749</td>\n",
       "      <td>506</td>\n",
       "      <td>0</td>\n",
       "      <td>0.494071</td>\n",
       "      <td>250</td>\n",
       "      <td>506</td>\n",
       "      <td>0.600000</td>\n",
       "      <td>0.029644</td>\n",
       "      <td>9</td>\n",
       "      <td>15</td>\n",
       "      <td>0.708428</td>\n",
       "      <td>0.080236</td>\n",
       "      <td>boston</td>\n",
       "      <td>logistic_regression</td>\n",
       "      <td>random</td>\n",
       "    </tr>\n",
       "    <tr>\n",
       "      <th>2050</th>\n",
       "      <td>50</td>\n",
       "      <td>0.666008</td>\n",
       "      <td>0.630197</td>\n",
       "      <td>6.153434</td>\n",
       "      <td>506</td>\n",
       "      <td>1</td>\n",
       "      <td>0.494071</td>\n",
       "      <td>250</td>\n",
       "      <td>506</td>\n",
       "      <td>0.533333</td>\n",
       "      <td>0.029644</td>\n",
       "      <td>8</td>\n",
       "      <td>15</td>\n",
       "      <td>0.708428</td>\n",
       "      <td>0.080236</td>\n",
       "      <td>boston</td>\n",
       "      <td>logistic_regression</td>\n",
       "      <td>random</td>\n",
       "    </tr>\n",
       "    <tr>\n",
       "      <th>2100</th>\n",
       "      <td>100</td>\n",
       "      <td>0.796443</td>\n",
       "      <td>0.807477</td>\n",
       "      <td>0.711890</td>\n",
       "      <td>506</td>\n",
       "      <td>2</td>\n",
       "      <td>0.494071</td>\n",
       "      <td>250</td>\n",
       "      <td>506</td>\n",
       "      <td>0.666667</td>\n",
       "      <td>0.029644</td>\n",
       "      <td>10</td>\n",
       "      <td>15</td>\n",
       "      <td>0.708428</td>\n",
       "      <td>0.080236</td>\n",
       "      <td>boston</td>\n",
       "      <td>logistic_regression</td>\n",
       "      <td>random</td>\n",
       "    </tr>\n",
       "    <tr>\n",
       "      <th>2150</th>\n",
       "      <td>150</td>\n",
       "      <td>0.612648</td>\n",
       "      <td>0.593361</td>\n",
       "      <td>1.558555</td>\n",
       "      <td>506</td>\n",
       "      <td>3</td>\n",
       "      <td>0.494071</td>\n",
       "      <td>250</td>\n",
       "      <td>506</td>\n",
       "      <td>0.466667</td>\n",
       "      <td>0.029644</td>\n",
       "      <td>7</td>\n",
       "      <td>15</td>\n",
       "      <td>0.708428</td>\n",
       "      <td>0.080236</td>\n",
       "      <td>boston</td>\n",
       "      <td>logistic_regression</td>\n",
       "      <td>random</td>\n",
       "    </tr>\n",
       "    <tr>\n",
       "      <th>2200</th>\n",
       "      <td>200</td>\n",
       "      <td>0.669960</td>\n",
       "      <td>0.557029</td>\n",
       "      <td>1.487973</td>\n",
       "      <td>506</td>\n",
       "      <td>4</td>\n",
       "      <td>0.494071</td>\n",
       "      <td>250</td>\n",
       "      <td>506</td>\n",
       "      <td>0.333333</td>\n",
       "      <td>0.029644</td>\n",
       "      <td>5</td>\n",
       "      <td>15</td>\n",
       "      <td>0.708428</td>\n",
       "      <td>0.080236</td>\n",
       "      <td>boston</td>\n",
       "      <td>logistic_regression</td>\n",
       "      <td>random</td>\n",
       "    </tr>\n",
       "    <tr>\n",
       "      <th>2250</th>\n",
       "      <td>250</td>\n",
       "      <td>0.723320</td>\n",
       "      <td>0.686099</td>\n",
       "      <td>0.980129</td>\n",
       "      <td>506</td>\n",
       "      <td>5</td>\n",
       "      <td>0.494071</td>\n",
       "      <td>250</td>\n",
       "      <td>506</td>\n",
       "      <td>0.466667</td>\n",
       "      <td>0.029644</td>\n",
       "      <td>7</td>\n",
       "      <td>15</td>\n",
       "      <td>0.708428</td>\n",
       "      <td>0.080236</td>\n",
       "      <td>boston</td>\n",
       "      <td>logistic_regression</td>\n",
       "      <td>random</td>\n",
       "    </tr>\n",
       "    <tr>\n",
       "      <th>2300</th>\n",
       "      <td>300</td>\n",
       "      <td>0.780632</td>\n",
       "      <td>0.738824</td>\n",
       "      <td>0.898380</td>\n",
       "      <td>506</td>\n",
       "      <td>6</td>\n",
       "      <td>0.494071</td>\n",
       "      <td>250</td>\n",
       "      <td>506</td>\n",
       "      <td>0.466667</td>\n",
       "      <td>0.029644</td>\n",
       "      <td>7</td>\n",
       "      <td>15</td>\n",
       "      <td>0.708428</td>\n",
       "      <td>0.080236</td>\n",
       "      <td>boston</td>\n",
       "      <td>logistic_regression</td>\n",
       "      <td>random</td>\n",
       "    </tr>\n",
       "    <tr>\n",
       "      <th>2350</th>\n",
       "      <td>350</td>\n",
       "      <td>0.731225</td>\n",
       "      <td>0.688073</td>\n",
       "      <td>2.722723</td>\n",
       "      <td>506</td>\n",
       "      <td>7</td>\n",
       "      <td>0.494071</td>\n",
       "      <td>250</td>\n",
       "      <td>506</td>\n",
       "      <td>0.266667</td>\n",
       "      <td>0.029644</td>\n",
       "      <td>4</td>\n",
       "      <td>15</td>\n",
       "      <td>0.708428</td>\n",
       "      <td>0.080236</td>\n",
       "      <td>boston</td>\n",
       "      <td>logistic_regression</td>\n",
       "      <td>random</td>\n",
       "    </tr>\n",
       "    <tr>\n",
       "      <th>2400</th>\n",
       "      <td>400</td>\n",
       "      <td>0.640316</td>\n",
       "      <td>0.704545</td>\n",
       "      <td>2.054084</td>\n",
       "      <td>506</td>\n",
       "      <td>8</td>\n",
       "      <td>0.494071</td>\n",
       "      <td>250</td>\n",
       "      <td>506</td>\n",
       "      <td>0.533333</td>\n",
       "      <td>0.029644</td>\n",
       "      <td>8</td>\n",
       "      <td>15</td>\n",
       "      <td>0.708428</td>\n",
       "      <td>0.080236</td>\n",
       "      <td>boston</td>\n",
       "      <td>logistic_regression</td>\n",
       "      <td>random</td>\n",
       "    </tr>\n",
       "    <tr>\n",
       "      <th>2450</th>\n",
       "      <td>450</td>\n",
       "      <td>0.802372</td>\n",
       "      <td>0.799197</td>\n",
       "      <td>0.921781</td>\n",
       "      <td>506</td>\n",
       "      <td>9</td>\n",
       "      <td>0.494071</td>\n",
       "      <td>250</td>\n",
       "      <td>506</td>\n",
       "      <td>0.533333</td>\n",
       "      <td>0.029644</td>\n",
       "      <td>8</td>\n",
       "      <td>15</td>\n",
       "      <td>0.708428</td>\n",
       "      <td>0.080236</td>\n",
       "      <td>boston</td>\n",
       "      <td>logistic_regression</td>\n",
       "      <td>random</td>\n",
       "    </tr>\n",
       "  </tbody>\n",
       "</table>\n",
       "</div>"
      ],
      "text/plain": [
       "      Unnamed: 0  accuracy        f1   logloss  n_total_train  \\\n",
       "2000           0  0.802372  0.786325  0.677749            506   \n",
       "2050          50  0.666008  0.630197  6.153434            506   \n",
       "2100         100  0.796443  0.807477  0.711890            506   \n",
       "2150         150  0.612648  0.593361  1.558555            506   \n",
       "2200         200  0.669960  0.557029  1.487973            506   \n",
       "2250         250  0.723320  0.686099  0.980129            506   \n",
       "2300         300  0.780632  0.738824  0.898380            506   \n",
       "2350         350  0.731225  0.688073  2.722723            506   \n",
       "2400         400  0.640316  0.704545  2.054084            506   \n",
       "2450         450  0.802372  0.799197  0.921781            506   \n",
       "\n",
       "      seed_initialization_run  test_base_rate  test_positives  test_size  \\\n",
       "2000                        0        0.494071             250        506   \n",
       "2050                        1        0.494071             250        506   \n",
       "2100                        2        0.494071             250        506   \n",
       "2150                        3        0.494071             250        506   \n",
       "2200                        4        0.494071             250        506   \n",
       "2250                        5        0.494071             250        506   \n",
       "2300                        6        0.494071             250        506   \n",
       "2350                        7        0.494071             250        506   \n",
       "2400                        8        0.494071             250        506   \n",
       "2450                        9        0.494071             250        506   \n",
       "\n",
       "      train_base_rate  train_fraction  train_positives  train_size   f1_mean  \\\n",
       "2000         0.600000        0.029644                9          15  0.708428   \n",
       "2050         0.533333        0.029644                8          15  0.708428   \n",
       "2100         0.666667        0.029644               10          15  0.708428   \n",
       "2150         0.466667        0.029644                7          15  0.708428   \n",
       "2200         0.333333        0.029644                5          15  0.708428   \n",
       "2250         0.466667        0.029644                7          15  0.708428   \n",
       "2300         0.466667        0.029644                7          15  0.708428   \n",
       "2350         0.266667        0.029644                4          15  0.708428   \n",
       "2400         0.533333        0.029644                8          15  0.708428   \n",
       "2450         0.533333        0.029644                8          15  0.708428   \n",
       "\n",
       "        f1_std dataset                model selector  \n",
       "2000  0.080236  boston  logistic_regression   random  \n",
       "2050  0.080236  boston  logistic_regression   random  \n",
       "2100  0.080236  boston  logistic_regression   random  \n",
       "2150  0.080236  boston  logistic_regression   random  \n",
       "2200  0.080236  boston  logistic_regression   random  \n",
       "2250  0.080236  boston  logistic_regression   random  \n",
       "2300  0.080236  boston  logistic_regression   random  \n",
       "2350  0.080236  boston  logistic_regression   random  \n",
       "2400  0.080236  boston  logistic_regression   random  \n",
       "2450  0.080236  boston  logistic_regression   random  "
      ]
     },
     "execution_count": 219,
     "metadata": {},
     "output_type": "execute_result"
    }
   ],
   "source": [
    "df.loc[(df[\"dataset\"]=='boston') & (df['selector']=='random') & (df['train_size']==15)].head(10)"
   ]
  },
  {
   "cell_type": "code",
   "execution_count": 185,
   "metadata": {},
   "outputs": [],
   "source": [
    "# df.loc[(df[\"train_size\"]==15) & (df[\"dataset\"]=='boston')]"
   ]
  },
  {
   "cell_type": "code",
   "execution_count": 186,
   "metadata": {},
   "outputs": [],
   "source": [
    "import numpy as np"
   ]
  },
  {
   "cell_type": "code",
   "execution_count": 187,
   "metadata": {},
   "outputs": [],
   "source": [
    "df[\"f1_mean\"] = df.groupby(['train_size'])['f1'].transform(np.mean)"
   ]
  },
  {
   "cell_type": "code",
   "execution_count": 188,
   "metadata": {},
   "outputs": [
    {
     "data": {
      "text/plain": [
       "0.8221563050912756"
      ]
     },
     "execution_count": 188,
     "metadata": {},
     "output_type": "execute_result"
    }
   ],
   "source": [
    "df['f1'].mean()"
   ]
  },
  {
   "cell_type": "code",
   "execution_count": 189,
   "metadata": {},
   "outputs": [
    {
     "data": {
      "text/plain": [
       "<matplotlib.legend.Legend at 0x1a1f60e470>"
      ]
     },
     "execution_count": 189,
     "metadata": {},
     "output_type": "execute_result"
    },
    {
     "data": {
      "text/plain": [
       "<Figure size 576x576 with 0 Axes>"
      ]
     },
     "metadata": {},
     "output_type": "display_data"
    },
    {
     "data": {
      "image/png": "[encoded data removed]",
      "text/plain": [
       "<Figure size 648x216 with 3 Axes>"
      ]
     },
     "metadata": {
      "needs_background": "light"
     },
     "output_type": "display_data"
    }
   ],
   "source": [
    "import seaborn as sns\n",
    "df = df.reset_index()\n",
    "agg = df.groupby(['dataset', 'model', 'selector', 'train_size']).agg({'f1':['mean', 'std']})\n",
    "agg.columns = ['_'.join(col).strip() for col in agg.columns.values]\n",
    "agg['f1_upper'] = agg[\"f1_mean\"]+agg['f1_std']\n",
    "agg['f1_lower'] = agg[\"f1_mean\"]-agg['f1_std']\n",
    "agg = agg.reset_index()\n",
    "\n",
    "plt.figure(figsize=(8,8))\n",
    "g = sns.FacetGrid(col='dataset', hue='selector', col_wrap=3, data=agg)\n",
    "g.map(plt.fill_between, 'train_size', 'f1_lower', 'f1_upper', alpha=0.5)\n",
    "plt.legend(loc='upper right')"
   ]
  },
  {
   "cell_type": "code",
   "execution_count": 190,
   "metadata": {},
   "outputs": [],
   "source": [
    "# Piecewise plots\n",
    "df = df.set_index(['dataset','model','selector'])\n",
    "dataset_model_confs = list(set((conf[:2] for conf in df.index)))"
   ]
  },
  {
   "cell_type": "code",
   "execution_count": 197,
   "metadata": {},
   "outputs": [],
   "source": [
    "v = np.array([1,0,0,0,1])"
   ]
  },
  {
   "cell_type": "code",
   "execution_count": 206,
   "metadata": {},
   "outputs": [],
   "source": [
    "import random"
   ]
  },
  {
   "cell_type": "code",
   "execution_count": 216,
   "metadata": {},
   "outputs": [
    {
     "data": {
      "text/plain": [
       "[4]"
      ]
     },
     "execution_count": 216,
     "metadata": {},
     "output_type": "execute_result"
    }
   ],
   "source": [
    "list(np.where(v)[0][-1:])"
   ]
  },
  {
   "cell_type": "code",
   "execution_count": 191,
   "metadata": {},
   "outputs": [
    {
     "data": {
      "text/plain": [
       "[('boston', 'logistic_regression'),\n",
       " ('california_housing', 'logistic_regression'),\n",
       " ('breast_cancer', 'logistic_regression')]"
      ]
     },
     "execution_count": 191,
     "metadata": {},
     "output_type": "execute_result"
    }
   ],
   "source": [
    "dataset_model_confs"
   ]
  },
  {
   "cell_type": "code",
   "execution_count": 192,
   "metadata": {},
   "outputs": [
    {
     "data": {
      "text/plain": [
       "['random', 'uncertainty']"
      ]
     },
     "execution_count": 192,
     "metadata": {},
     "output_type": "execute_result"
    }
   ],
   "source": [
    "selector_names"
   ]
  },
  {
   "cell_type": "code",
   "execution_count": 195,
   "metadata": {},
   "outputs": [
    {
     "name": "stdout",
     "output_type": "stream",
     "text": [
      "('boston', 'logistic_regression')\n",
      "('california_housing', 'logistic_regression')\n",
      "('breast_cancer', 'logistic_regression')\n"
     ]
    },
    {
     "data": {
      "image/png": "[encoded data removed]",
      "text/plain": [
       "<Figure size 504x432 with 1 Axes>"
      ]
     },
     "metadata": {
      "needs_background": "light"
     },
     "output_type": "display_data"
    },
    {
     "data": {
      "image/png": "[encoded data removed]",
      "text/plain": [
       "<Figure size 504x432 with 1 Axes>"
      ]
     },
     "metadata": {
      "needs_background": "light"
     },
     "output_type": "display_data"
    },
    {
     "data": {
      "image/png": "[encoded data removed]",
      "text/plain": [
       "<Figure size 504x432 with 1 Axes>"
      ]
     },
     "metadata": {
      "needs_background": "light"
     },
     "output_type": "display_data"
    }
   ],
   "source": [
    "for ix in dataset_model_confs:\n",
    "    dataset_name, model_name = ix\n",
    "    print(ix)\n",
    "    df_selectors = df.loc[ix]\n",
    "    selector_names = list(set(df_selectors.index))\n",
    "    plt.figure(figsize=(7, 6))\n",
    "    plt.title('dataset=%s model=%s' % (dataset_name, model_name))\n",
    "    plt.xlabel('number of training labels')\n",
    "    plt.ylabel('f1 score')\n",
    "    #     plt.xlim([-0.1, 1.1])\n",
    "    #     plt.ylim([-0.1, 1.1])\n",
    "    ax_line_args = {'color': 'black', 'linewidth': 0.3, 'linestyle': 'dashed'}\n",
    "    plt.axvline(x=0.0, **ax_line_args)\n",
    "    plt.axvline(x=1.0, **ax_line_args)\n",
    "    plt.axhline(y=0.0, **ax_line_args)\n",
    "    plt.axhline(y=1.0, **ax_line_args)\n",
    "\n",
    "    for selector_name in selector_names:\n",
    "        df_experiment = df_selectors.loc[selector_name]\n",
    "        agg = df_experiment.groupby(['train_size']).agg({'f1': ['mean', 'std']})\n",
    "        agg.columns = ['_'.join(col).strip() for col in agg.columns.values]\n",
    "        agg = agg.reset_index()\n",
    "        agg['f1_upper'] = agg[\"f1_mean\"] + agg['f1_std'].fillna(0)\n",
    "        agg['f1_lower'] = agg[\"f1_mean\"] - agg['f1_std'].fillna(0)\n",
    "        plt.fill_between(agg['train_size'], agg['f1_lower'], y2=agg[\"f1_upper\"], alpha=0.2, label=selector_name)#, alpha=0.1)\n",
    "\n",
    "    ax = plt.gca()\n",
    "    leg = plt.legend(loc='upper right')\n",
    "    bb = leg.get_bbox_to_anchor().inverse_transformed(ax.transAxes)\n",
    "    # Change to location of the legend.\n",
    "    xOffset = 0.2\n",
    "    bb.x0 += xOffset\n",
    "    bb.x1 += xOffset\n",
    "    leg.set_bbox_to_anchor(bb, transform=ax.transAxes)\n",
    "    fig_path = 'plots/%s-%s.png' % (dataset_name, model_name)\n",
    "    plt.tight_layout()"
   ]
  },
  {
   "cell_type": "code",
   "execution_count": null,
   "metadata": {},
   "outputs": [],
   "source": []
  },
  {
   "cell_type": "code",
   "execution_count": null,
   "metadata": {},
   "outputs": [],
   "source": []
  },
  {
   "cell_type": "code",
   "execution_count": null,
   "metadata": {},
   "outputs": [],
   "source": []
  },
  {
   "cell_type": "code",
   "execution_count": null,
   "metadata": {},
   "outputs": [],
   "source": []
  },
  {
   "cell_type": "code",
   "execution_count": null,
   "metadata": {},
   "outputs": [],
   "source": []
  },
  {
   "cell_type": "code",
   "execution_count": null,
   "metadata": {},
   "outputs": [],
   "source": []
  },
  {
   "cell_type": "code",
   "execution_count": null,
   "metadata": {},
   "outputs": [],
   "source": []
  },
  {
   "cell_type": "code",
   "execution_count": 67,
   "metadata": {},
   "outputs": [
    {
     "data": {
      "text/plain": [
       "<Figure size 576x576 with 0 Axes>"
      ]
     },
     "metadata": {},
     "output_type": "display_data"
    },
    {
     "data": {
      "image/png": "[encoded data removed]",
      "text/plain": [
       "<Figure size 648x432 with 4 Axes>"
      ]
     },
     "metadata": {
      "needs_background": "light"
     },
     "output_type": "display_data"
    }
   ],
   "source": [
    "plt.figure(figsize=(8,8))\n",
    "g = sns.FacetGrid(col='dataset', hue='selector', col_wrap=3, data=agg)\n",
    "g.map(plt.fill_between, 'train_size', 'f1_lower', 'f1_upper', alpha=0.5)\n",
    "plt.legend()\n",
    "plt.savefig('../results/plots/overall_plot.png')"
   ]
  },
  {
   "cell_type": "code",
   "execution_count": 18,
   "metadata": {},
   "outputs": [],
   "source": [
    "import matplotlib.pyplot as plt\n",
    "%matplotlib inline"
   ]
  },
  {
   "cell_type": "code",
   "execution_count": 19,
   "metadata": {},
   "outputs": [
    {
     "ename": "NameError",
     "evalue": "name 'g' is not defined",
     "output_type": "error",
     "traceback": [
      "\u001b[0;31m---------------------------------------------------------------------------\u001b[0m",
      "\u001b[0;31mNameError\u001b[0m                                 Traceback (most recent call last)",
      "\u001b[0;32m<ipython-input-19-d942a396cd5f>\u001b[0m in \u001b[0;36m<module>\u001b[0;34m()\u001b[0m\n\u001b[0;32m----> 1\u001b[0;31m \u001b[0mg\u001b[0m\u001b[0;34m.\u001b[0m\u001b[0mmap\u001b[0m\u001b[0;34m(\u001b[0m\u001b[0mplt\u001b[0m\u001b[0;34m.\u001b[0m\u001b[0mplot\u001b[0m\u001b[0;34m,\u001b[0m \u001b[0;34m'train_size'\u001b[0m\u001b[0;34m,\u001b[0m \u001b[0;34m'f1'\u001b[0m\u001b[0;34m)\u001b[0m\u001b[0;34m\u001b[0m\u001b[0m\n\u001b[0m",
      "\u001b[0;31mNameError\u001b[0m: name 'g' is not defined"
     ]
    }
   ],
   "source": [
    "g.map(plt.plot, 'train_size', 'f1')"
   ]
  },
  {
   "cell_type": "code",
   "execution_count": 16,
   "metadata": {},
   "outputs": [
    {
     "ename": "AttributeError",
     "evalue": "'NoneType' object has no attribute 'ndim'",
     "output_type": "error",
     "traceback": [
      "\u001b[0;31m---------------------------------------------------------------------------\u001b[0m",
      "\u001b[0;31mAttributeError\u001b[0m                            Traceback (most recent call last)",
      "\u001b[0;32m<ipython-input-16-6e427dfe697f>\u001b[0m in \u001b[0;36m<module>\u001b[0;34m()\u001b[0m\n\u001b[0;32m----> 1\u001b[0;31m \u001b[0msns\u001b[0m\u001b[0;34m.\u001b[0m\u001b[0mlineplot\u001b[0m\u001b[0;34m(\u001b[0m\u001b[0mx\u001b[0m\u001b[0;34m=\u001b[0m\u001b[0;34m'train_size'\u001b[0m\u001b[0;34m,\u001b[0m \u001b[0my\u001b[0m\u001b[0;34m=\u001b[0m\u001b[0;34m'f1'\u001b[0m\u001b[0;34m,\u001b[0m \u001b[0mdata\u001b[0m\u001b[0;34m=\u001b[0m\u001b[0mdf\u001b[0m\u001b[0;34m.\u001b[0m\u001b[0mhead\u001b[0m\u001b[0;34m(\u001b[0m\u001b[0;36m100\u001b[0m\u001b[0;34m)\u001b[0m\u001b[0;34m)\u001b[0m\u001b[0;34m\u001b[0m\u001b[0m\n\u001b[0m",
      "\u001b[0;32m/Users/rspeare/anaconda/lib/python3.5/site-packages/seaborn/relational.py\u001b[0m in \u001b[0;36mlineplot\u001b[0;34m(x, y, hue, size, style, data, palette, hue_order, hue_norm, sizes, size_order, size_norm, dashes, markers, style_order, units, estimator, ci, n_boot, sort, err_style, err_kws, legend, ax, **kwargs)\u001b[0m\n\u001b[1;32m   1076\u001b[0m         \u001b[0mdashes\u001b[0m\u001b[0;34m=\u001b[0m\u001b[0mdashes\u001b[0m\u001b[0;34m,\u001b[0m \u001b[0mmarkers\u001b[0m\u001b[0;34m=\u001b[0m\u001b[0mmarkers\u001b[0m\u001b[0;34m,\u001b[0m \u001b[0mstyle_order\u001b[0m\u001b[0;34m=\u001b[0m\u001b[0mstyle_order\u001b[0m\u001b[0;34m,\u001b[0m\u001b[0;34m\u001b[0m\u001b[0m\n\u001b[1;32m   1077\u001b[0m         \u001b[0munits\u001b[0m\u001b[0;34m=\u001b[0m\u001b[0munits\u001b[0m\u001b[0;34m,\u001b[0m \u001b[0mestimator\u001b[0m\u001b[0;34m=\u001b[0m\u001b[0mestimator\u001b[0m\u001b[0;34m,\u001b[0m \u001b[0mci\u001b[0m\u001b[0;34m=\u001b[0m\u001b[0mci\u001b[0m\u001b[0;34m,\u001b[0m \u001b[0mn_boot\u001b[0m\u001b[0;34m=\u001b[0m\u001b[0mn_boot\u001b[0m\u001b[0;34m,\u001b[0m\u001b[0;34m\u001b[0m\u001b[0m\n\u001b[0;32m-> 1078\u001b[0;31m         \u001b[0msort\u001b[0m\u001b[0;34m=\u001b[0m\u001b[0msort\u001b[0m\u001b[0;34m,\u001b[0m \u001b[0merr_style\u001b[0m\u001b[0;34m=\u001b[0m\u001b[0merr_style\u001b[0m\u001b[0;34m,\u001b[0m \u001b[0merr_kws\u001b[0m\u001b[0;34m=\u001b[0m\u001b[0merr_kws\u001b[0m\u001b[0;34m,\u001b[0m \u001b[0mlegend\u001b[0m\u001b[0;34m=\u001b[0m\u001b[0mlegend\u001b[0m\u001b[0;34m,\u001b[0m\u001b[0;34m\u001b[0m\u001b[0m\n\u001b[0m\u001b[1;32m   1079\u001b[0m     )\n\u001b[1;32m   1080\u001b[0m \u001b[0;34m\u001b[0m\u001b[0m\n",
      "\u001b[0;32m/Users/rspeare/anaconda/lib/python3.5/site-packages/seaborn/relational.py\u001b[0m in \u001b[0;36m__init__\u001b[0;34m(self, x, y, hue, size, style, data, palette, hue_order, hue_norm, sizes, size_order, size_norm, dashes, markers, style_order, units, estimator, ci, n_boot, sort, err_style, err_kws, legend)\u001b[0m\n\u001b[1;32m    661\u001b[0m \u001b[0;34m\u001b[0m\u001b[0m\n\u001b[1;32m    662\u001b[0m         plot_data = self.establish_variables(\n\u001b[0;32m--> 663\u001b[0;31m             \u001b[0mx\u001b[0m\u001b[0;34m,\u001b[0m \u001b[0my\u001b[0m\u001b[0;34m,\u001b[0m \u001b[0mhue\u001b[0m\u001b[0;34m,\u001b[0m \u001b[0msize\u001b[0m\u001b[0;34m,\u001b[0m \u001b[0mstyle\u001b[0m\u001b[0;34m,\u001b[0m \u001b[0munits\u001b[0m\u001b[0;34m,\u001b[0m \u001b[0mdata\u001b[0m\u001b[0;34m\u001b[0m\u001b[0m\n\u001b[0m\u001b[1;32m    664\u001b[0m         )\n\u001b[1;32m    665\u001b[0m \u001b[0;34m\u001b[0m\u001b[0m\n",
      "\u001b[0;32m/Users/rspeare/anaconda/lib/python3.5/site-packages/seaborn/relational.py\u001b[0m in \u001b[0;36mestablish_variables\u001b[0;34m(self, x, y, hue, size, style, units, data)\u001b[0m\n\u001b[1;32m    155\u001b[0m                 \u001b[0munits\u001b[0m\u001b[0;34m=\u001b[0m\u001b[0munits\u001b[0m\u001b[0;34m\u001b[0m\u001b[0m\n\u001b[1;32m    156\u001b[0m             )\n\u001b[0;32m--> 157\u001b[0;31m             \u001b[0mplot_data\u001b[0m \u001b[0;34m=\u001b[0m \u001b[0mpd\u001b[0m\u001b[0;34m.\u001b[0m\u001b[0mDataFrame\u001b[0m\u001b[0;34m(\u001b[0m\u001b[0mplot_data\u001b[0m\u001b[0;34m)\u001b[0m\u001b[0;34m\u001b[0m\u001b[0m\n\u001b[0m\u001b[1;32m    158\u001b[0m \u001b[0;34m\u001b[0m\u001b[0m\n\u001b[1;32m    159\u001b[0m         \u001b[0;31m# Option 3:\u001b[0m\u001b[0;34m\u001b[0m\u001b[0;34m\u001b[0m\u001b[0m\n",
      "\u001b[0;32m/Users/rspeare/anaconda/lib/python3.5/site-packages/pandas/core/frame.py\u001b[0m in \u001b[0;36m__init__\u001b[0;34m(self, data, index, columns, dtype, copy)\u001b[0m\n\u001b[1;32m    264\u001b[0m                                  dtype=dtype, copy=copy)\n\u001b[1;32m    265\u001b[0m         \u001b[0;32melif\u001b[0m \u001b[0misinstance\u001b[0m\u001b[0;34m(\u001b[0m\u001b[0mdata\u001b[0m\u001b[0;34m,\u001b[0m \u001b[0mdict\u001b[0m\u001b[0;34m)\u001b[0m\u001b[0;34m:\u001b[0m\u001b[0;34m\u001b[0m\u001b[0m\n\u001b[0;32m--> 266\u001b[0;31m             \u001b[0mmgr\u001b[0m \u001b[0;34m=\u001b[0m \u001b[0mself\u001b[0m\u001b[0;34m.\u001b[0m\u001b[0m_init_dict\u001b[0m\u001b[0;34m(\u001b[0m\u001b[0mdata\u001b[0m\u001b[0;34m,\u001b[0m \u001b[0mindex\u001b[0m\u001b[0;34m,\u001b[0m \u001b[0mcolumns\u001b[0m\u001b[0;34m,\u001b[0m \u001b[0mdtype\u001b[0m\u001b[0;34m=\u001b[0m\u001b[0mdtype\u001b[0m\u001b[0;34m)\u001b[0m\u001b[0;34m\u001b[0m\u001b[0m\n\u001b[0m\u001b[1;32m    267\u001b[0m         \u001b[0;32melif\u001b[0m \u001b[0misinstance\u001b[0m\u001b[0;34m(\u001b[0m\u001b[0mdata\u001b[0m\u001b[0;34m,\u001b[0m \u001b[0mma\u001b[0m\u001b[0;34m.\u001b[0m\u001b[0mMaskedArray\u001b[0m\u001b[0;34m)\u001b[0m\u001b[0;34m:\u001b[0m\u001b[0;34m\u001b[0m\u001b[0m\n\u001b[1;32m    268\u001b[0m             \u001b[0;32mimport\u001b[0m \u001b[0mnumpy\u001b[0m\u001b[0;34m.\u001b[0m\u001b[0mma\u001b[0m\u001b[0;34m.\u001b[0m\u001b[0mmrecords\u001b[0m \u001b[0;32mas\u001b[0m \u001b[0mmrecords\u001b[0m\u001b[0;34m\u001b[0m\u001b[0m\n",
      "\u001b[0;32m/Users/rspeare/anaconda/lib/python3.5/site-packages/pandas/core/frame.py\u001b[0m in \u001b[0;36m_init_dict\u001b[0;34m(self, data, index, columns, dtype)\u001b[0m\n\u001b[1;32m    400\u001b[0m             \u001b[0marrays\u001b[0m \u001b[0;34m=\u001b[0m \u001b[0;34m[\u001b[0m\u001b[0mdata\u001b[0m\u001b[0;34m[\u001b[0m\u001b[0mk\u001b[0m\u001b[0;34m]\u001b[0m \u001b[0;32mfor\u001b[0m \u001b[0mk\u001b[0m \u001b[0;32min\u001b[0m \u001b[0mkeys\u001b[0m\u001b[0;34m]\u001b[0m\u001b[0;34m\u001b[0m\u001b[0m\n\u001b[1;32m    401\u001b[0m \u001b[0;34m\u001b[0m\u001b[0m\n\u001b[0;32m--> 402\u001b[0;31m         \u001b[0;32mreturn\u001b[0m \u001b[0m_arrays_to_mgr\u001b[0m\u001b[0;34m(\u001b[0m\u001b[0marrays\u001b[0m\u001b[0;34m,\u001b[0m \u001b[0mdata_names\u001b[0m\u001b[0;34m,\u001b[0m \u001b[0mindex\u001b[0m\u001b[0;34m,\u001b[0m \u001b[0mcolumns\u001b[0m\u001b[0;34m,\u001b[0m \u001b[0mdtype\u001b[0m\u001b[0;34m=\u001b[0m\u001b[0mdtype\u001b[0m\u001b[0;34m)\u001b[0m\u001b[0;34m\u001b[0m\u001b[0m\n\u001b[0m\u001b[1;32m    403\u001b[0m \u001b[0;34m\u001b[0m\u001b[0m\n\u001b[1;32m    404\u001b[0m     \u001b[0;32mdef\u001b[0m \u001b[0m_init_ndarray\u001b[0m\u001b[0;34m(\u001b[0m\u001b[0mself\u001b[0m\u001b[0;34m,\u001b[0m \u001b[0mvalues\u001b[0m\u001b[0;34m,\u001b[0m \u001b[0mindex\u001b[0m\u001b[0;34m,\u001b[0m \u001b[0mcolumns\u001b[0m\u001b[0;34m,\u001b[0m \u001b[0mdtype\u001b[0m\u001b[0;34m=\u001b[0m\u001b[0;32mNone\u001b[0m\u001b[0;34m,\u001b[0m \u001b[0mcopy\u001b[0m\u001b[0;34m=\u001b[0m\u001b[0;32mFalse\u001b[0m\u001b[0;34m)\u001b[0m\u001b[0;34m:\u001b[0m\u001b[0;34m\u001b[0m\u001b[0m\n",
      "\u001b[0;32m/Users/rspeare/anaconda/lib/python3.5/site-packages/pandas/core/frame.py\u001b[0m in \u001b[0;36m_arrays_to_mgr\u001b[0;34m(arrays, arr_names, index, columns, dtype)\u001b[0m\n\u001b[1;32m   5382\u001b[0m \u001b[0;34m\u001b[0m\u001b[0m\n\u001b[1;32m   5383\u001b[0m     \u001b[0;31m# don't force copy because getting jammed in an ndarray anyway\u001b[0m\u001b[0;34m\u001b[0m\u001b[0;34m\u001b[0m\u001b[0m\n\u001b[0;32m-> 5384\u001b[0;31m     \u001b[0marrays\u001b[0m \u001b[0;34m=\u001b[0m \u001b[0m_homogenize\u001b[0m\u001b[0;34m(\u001b[0m\u001b[0marrays\u001b[0m\u001b[0;34m,\u001b[0m \u001b[0mindex\u001b[0m\u001b[0;34m,\u001b[0m \u001b[0mdtype\u001b[0m\u001b[0;34m)\u001b[0m\u001b[0;34m\u001b[0m\u001b[0m\n\u001b[0m\u001b[1;32m   5385\u001b[0m \u001b[0;34m\u001b[0m\u001b[0m\n\u001b[1;32m   5386\u001b[0m     \u001b[0;31m# from BlockManager perspective\u001b[0m\u001b[0;34m\u001b[0m\u001b[0;34m\u001b[0m\u001b[0m\n",
      "\u001b[0;32m/Users/rspeare/anaconda/lib/python3.5/site-packages/pandas/core/frame.py\u001b[0m in \u001b[0;36m_homogenize\u001b[0;34m(data, index, dtype)\u001b[0m\n\u001b[1;32m   5693\u001b[0m                 \u001b[0mv\u001b[0m \u001b[0;34m=\u001b[0m \u001b[0mlib\u001b[0m\u001b[0;34m.\u001b[0m\u001b[0mfast_multiget\u001b[0m\u001b[0;34m(\u001b[0m\u001b[0mv\u001b[0m\u001b[0;34m,\u001b[0m \u001b[0moindex\u001b[0m\u001b[0;34m.\u001b[0m\u001b[0mvalues\u001b[0m\u001b[0;34m,\u001b[0m \u001b[0mdefault\u001b[0m\u001b[0;34m=\u001b[0m\u001b[0mNA\u001b[0m\u001b[0;34m)\u001b[0m\u001b[0;34m\u001b[0m\u001b[0m\n\u001b[1;32m   5694\u001b[0m             v = _sanitize_array(v, index, dtype=dtype, copy=False,\n\u001b[0;32m-> 5695\u001b[0;31m                                 raise_cast_failure=False)\n\u001b[0m\u001b[1;32m   5696\u001b[0m \u001b[0;34m\u001b[0m\u001b[0m\n\u001b[1;32m   5697\u001b[0m         \u001b[0mhomogenized\u001b[0m\u001b[0;34m.\u001b[0m\u001b[0mappend\u001b[0m\u001b[0;34m(\u001b[0m\u001b[0mv\u001b[0m\u001b[0;34m)\u001b[0m\u001b[0;34m\u001b[0m\u001b[0m\n",
      "\u001b[0;32m/Users/rspeare/anaconda/lib/python3.5/site-packages/pandas/core/series.py\u001b[0m in \u001b[0;36m_sanitize_array\u001b[0;34m(data, index, dtype, copy, raise_cast_failure)\u001b[0m\n\u001b[1;32m   2917\u001b[0m \u001b[0;34m\u001b[0m\u001b[0m\n\u001b[1;32m   2918\u001b[0m     \u001b[0;31m# scalar like\u001b[0m\u001b[0;34m\u001b[0m\u001b[0;34m\u001b[0m\u001b[0m\n\u001b[0;32m-> 2919\u001b[0;31m     \u001b[0;32mif\u001b[0m \u001b[0msubarr\u001b[0m\u001b[0;34m.\u001b[0m\u001b[0mndim\u001b[0m \u001b[0;34m==\u001b[0m \u001b[0;36m0\u001b[0m\u001b[0;34m:\u001b[0m\u001b[0;34m\u001b[0m\u001b[0m\n\u001b[0m\u001b[1;32m   2920\u001b[0m         \u001b[0;32mif\u001b[0m \u001b[0misinstance\u001b[0m\u001b[0;34m(\u001b[0m\u001b[0mdata\u001b[0m\u001b[0;34m,\u001b[0m \u001b[0mlist\u001b[0m\u001b[0;34m)\u001b[0m\u001b[0;34m:\u001b[0m  \u001b[0;31m# pragma: no cover\u001b[0m\u001b[0;34m\u001b[0m\u001b[0m\n\u001b[1;32m   2921\u001b[0m             \u001b[0msubarr\u001b[0m \u001b[0;34m=\u001b[0m \u001b[0mnp\u001b[0m\u001b[0;34m.\u001b[0m\u001b[0marray\u001b[0m\u001b[0;34m(\u001b[0m\u001b[0mdata\u001b[0m\u001b[0;34m,\u001b[0m \u001b[0mdtype\u001b[0m\u001b[0;34m=\u001b[0m\u001b[0mobject\u001b[0m\u001b[0;34m)\u001b[0m\u001b[0;34m\u001b[0m\u001b[0m\n",
      "\u001b[0;31mAttributeError\u001b[0m: 'NoneType' object has no attribute 'ndim'"
     ]
    }
   ],
   "source": [
    "sns.lineplot(x='train_size', y='f1', data=df.head(100))"
   ]
  },
  {
   "cell_type": "code",
   "execution_count": 14,
   "metadata": {},
   "outputs": [
    {
     "data": {
      "text/plain": [
       "dataset                  model                selector        train_size\n",
       "20newsgroups_vectorized  logistic_regression  FisherSelector  15            0.656392\n",
       "                                                              20            0.321590\n",
       "                                                              25            0.580864\n",
       "                                                              30            0.114671\n",
       "                                                              35            0.106264\n",
       "                                                              40            0.452198\n",
       "                                                              45            0.462309\n",
       "                                                              50            0.562606\n",
       "                                                              55            0.618008\n",
       "                                                              60            0.601011\n",
       "                                                              65            0.651010\n",
       "                                                              70            0.644161\n",
       "                                                              75            0.657688\n",
       "                                                              80            0.612443\n",
       "                                                              85            0.530738\n",
       "                                                              90            0.569232\n",
       "                                                              95            0.579433\n",
       "                                                              100           0.584726\n",
       "                                                              105           0.572971\n",
       "                                                              110           0.565307\n",
       "                                                              115           0.573819\n",
       "                                                              120           0.604810\n",
       "                                                              125           0.595625\n",
       "                                                              130           0.590232\n",
       "                                                              135           0.612288\n",
       "                                                              140           0.616646\n",
       "                                                              145           0.624535\n",
       "                                                              150           0.635128\n",
       "                                                              155           0.629672\n",
       "                                                              160           0.637306\n",
       "                                                                              ...   \n",
       "california_housing       logistic_regression  uncertainty     115           0.810736\n",
       "                                                              120           0.812374\n",
       "                                                              125           0.812328\n",
       "                                                              130           0.811908\n",
       "                                                              135           0.811591\n",
       "                                                              140           0.810446\n",
       "                                                              145           0.810532\n",
       "                                                              150           0.812399\n",
       "                                                              155           0.812411\n",
       "                                                              160           0.811195\n",
       "                                                              165           0.810891\n",
       "                                                              170           0.811898\n",
       "                                                              175           0.813266\n",
       "                                                              180           0.813767\n",
       "                                                              185           0.813801\n",
       "                                                              190           0.814392\n",
       "                                                              195           0.812887\n",
       "                                                              200           0.812226\n",
       "                                                              205           0.811633\n",
       "                                                              210           0.811759\n",
       "                                                              215           0.809524\n",
       "                                                              220           0.808744\n",
       "                                                              225           0.807647\n",
       "                                                              230           0.808046\n",
       "                                                              235           0.810014\n",
       "                                                              240           0.809985\n",
       "                                                              245           0.811325\n",
       "                                                              250           0.811067\n",
       "                                                              255           0.810326\n",
       "                                                              260           0.811149\n",
       "Name: mean, dtype: float64"
      ]
     },
     "execution_count": 14,
     "metadata": {},
     "output_type": "execute_result"
    }
   ],
   "source": [
    "df.groupby(['dataset', 'model', 'selector', 'train_size']).agg({'f1':['mean', 'std']})[\"f1\"][\"mean\"]"
   ]
  },
  {
   "cell_type": "code",
   "execution_count": 1,
   "metadata": {},
   "outputs": [],
   "source": [
    "import seaborn as sns"
   ]
  },
  {
   "cell_type": "code",
   "execution_count": null,
   "metadata": {},
   "outputs": [],
   "source": [
    "sns.l"
   ]
  },
  {
   "cell_type": "code",
   "execution_count": 50,
   "metadata": {},
   "outputs": [],
   "source": [
    "g=partial(f, y=1)"
   ]
  },
  {
   "cell_type": "code",
   "execution_count": 51,
   "metadata": {},
   "outputs": [
    {
     "data": {
      "text/plain": [
       "2"
      ]
     },
     "execution_count": 51,
     "metadata": {},
     "output_type": "execute_result"
    }
   ],
   "source": [
    "g(1)"
   ]
  },
  {
   "cell_type": "code",
   "execution_count": 35,
   "metadata": {},
   "outputs": [
    {
     "ename": "PicklingError",
     "evalue": "Can't pickle <function <lambda> at 0x1a1bf8dd08>: attribute lookup <lambda> on __main__ failed",
     "output_type": "error",
     "traceback": [
      "\u001b[0;31m---------------------------------------------------------------------------\u001b[0m",
      "\u001b[0;31mPicklingError\u001b[0m                             Traceback (most recent call last)",
      "\u001b[0;32m<ipython-input-35-c0e3f2afd493>\u001b[0m in \u001b[0;36m<module>\u001b[0;34m()\u001b[0m\n\u001b[0;32m----> 1\u001b[0;31m \u001b[0mp\u001b[0m\u001b[0;34m.\u001b[0m\u001b[0mmap\u001b[0m\u001b[0;34m(\u001b[0m\u001b[0;32mlambda\u001b[0m \u001b[0mx\u001b[0m\u001b[0;34m:\u001b[0m \u001b[0mf\u001b[0m\u001b[0;34m(\u001b[0m\u001b[0mx\u001b[0m\u001b[0;34m)\u001b[0m\u001b[0;34m,\u001b[0m \u001b[0;34m[\u001b[0m\u001b[0mx\u001b[0m \u001b[0;32mfor\u001b[0m \u001b[0mx\u001b[0m \u001b[0;32min\u001b[0m \u001b[0mrange\u001b[0m\u001b[0;34m(\u001b[0m\u001b[0;36m10\u001b[0m\u001b[0;34m)\u001b[0m\u001b[0;34m]\u001b[0m\u001b[0;34m)\u001b[0m\u001b[0;34m\u001b[0m\u001b[0m\n\u001b[0m",
      "\u001b[0;32m/Users/rspeare/anaconda/lib/python3.5/multiprocessing/pool.py\u001b[0m in \u001b[0;36mmap\u001b[0;34m(self, func, iterable, chunksize)\u001b[0m\n\u001b[1;32m    264\u001b[0m         \u001b[0;32min\u001b[0m \u001b[0ma\u001b[0m \u001b[0mlist\u001b[0m \u001b[0mthat\u001b[0m \u001b[0;32mis\u001b[0m \u001b[0mreturned\u001b[0m\u001b[0;34m.\u001b[0m\u001b[0;34m\u001b[0m\u001b[0m\n\u001b[1;32m    265\u001b[0m         '''\n\u001b[0;32m--> 266\u001b[0;31m         \u001b[0;32mreturn\u001b[0m \u001b[0mself\u001b[0m\u001b[0;34m.\u001b[0m\u001b[0m_map_async\u001b[0m\u001b[0;34m(\u001b[0m\u001b[0mfunc\u001b[0m\u001b[0;34m,\u001b[0m \u001b[0miterable\u001b[0m\u001b[0;34m,\u001b[0m \u001b[0mmapstar\u001b[0m\u001b[0;34m,\u001b[0m \u001b[0mchunksize\u001b[0m\u001b[0;34m)\u001b[0m\u001b[0;34m.\u001b[0m\u001b[0mget\u001b[0m\u001b[0;34m(\u001b[0m\u001b[0;34m)\u001b[0m\u001b[0;34m\u001b[0m\u001b[0m\n\u001b[0m\u001b[1;32m    267\u001b[0m \u001b[0;34m\u001b[0m\u001b[0m\n\u001b[1;32m    268\u001b[0m     \u001b[0;32mdef\u001b[0m \u001b[0mstarmap\u001b[0m\u001b[0;34m(\u001b[0m\u001b[0mself\u001b[0m\u001b[0;34m,\u001b[0m \u001b[0mfunc\u001b[0m\u001b[0;34m,\u001b[0m \u001b[0miterable\u001b[0m\u001b[0;34m,\u001b[0m \u001b[0mchunksize\u001b[0m\u001b[0;34m=\u001b[0m\u001b[0;32mNone\u001b[0m\u001b[0;34m)\u001b[0m\u001b[0;34m:\u001b[0m\u001b[0;34m\u001b[0m\u001b[0m\n",
      "\u001b[0;32m/Users/rspeare/anaconda/lib/python3.5/multiprocessing/pool.py\u001b[0m in \u001b[0;36mget\u001b[0;34m(self, timeout)\u001b[0m\n\u001b[1;32m    642\u001b[0m             \u001b[0;32mreturn\u001b[0m \u001b[0mself\u001b[0m\u001b[0;34m.\u001b[0m\u001b[0m_value\u001b[0m\u001b[0;34m\u001b[0m\u001b[0m\n\u001b[1;32m    643\u001b[0m         \u001b[0;32melse\u001b[0m\u001b[0;34m:\u001b[0m\u001b[0;34m\u001b[0m\u001b[0m\n\u001b[0;32m--> 644\u001b[0;31m             \u001b[0;32mraise\u001b[0m \u001b[0mself\u001b[0m\u001b[0;34m.\u001b[0m\u001b[0m_value\u001b[0m\u001b[0;34m\u001b[0m\u001b[0m\n\u001b[0m\u001b[1;32m    645\u001b[0m \u001b[0;34m\u001b[0m\u001b[0m\n\u001b[1;32m    646\u001b[0m     \u001b[0;32mdef\u001b[0m \u001b[0m_set\u001b[0m\u001b[0;34m(\u001b[0m\u001b[0mself\u001b[0m\u001b[0;34m,\u001b[0m \u001b[0mi\u001b[0m\u001b[0;34m,\u001b[0m \u001b[0mobj\u001b[0m\u001b[0;34m)\u001b[0m\u001b[0;34m:\u001b[0m\u001b[0;34m\u001b[0m\u001b[0m\n",
      "\u001b[0;32m/Users/rspeare/anaconda/lib/python3.5/multiprocessing/pool.py\u001b[0m in \u001b[0;36m_handle_tasks\u001b[0;34m(taskqueue, put, outqueue, pool, cache)\u001b[0m\n\u001b[1;32m    422\u001b[0m                         \u001b[0;32mbreak\u001b[0m\u001b[0;34m\u001b[0m\u001b[0m\n\u001b[1;32m    423\u001b[0m                     \u001b[0;32mtry\u001b[0m\u001b[0;34m:\u001b[0m\u001b[0;34m\u001b[0m\u001b[0m\n\u001b[0;32m--> 424\u001b[0;31m                         \u001b[0mput\u001b[0m\u001b[0;34m(\u001b[0m\u001b[0mtask\u001b[0m\u001b[0;34m)\u001b[0m\u001b[0;34m\u001b[0m\u001b[0m\n\u001b[0m\u001b[1;32m    425\u001b[0m                     \u001b[0;32mexcept\u001b[0m \u001b[0mException\u001b[0m \u001b[0;32mas\u001b[0m \u001b[0me\u001b[0m\u001b[0;34m:\u001b[0m\u001b[0;34m\u001b[0m\u001b[0m\n\u001b[1;32m    426\u001b[0m                         \u001b[0mjob\u001b[0m\u001b[0;34m,\u001b[0m \u001b[0midx\u001b[0m \u001b[0;34m=\u001b[0m \u001b[0mtask\u001b[0m\u001b[0;34m[\u001b[0m\u001b[0;34m:\u001b[0m\u001b[0;36m2\u001b[0m\u001b[0;34m]\u001b[0m\u001b[0;34m\u001b[0m\u001b[0m\n",
      "\u001b[0;32m/Users/rspeare/anaconda/lib/python3.5/multiprocessing/connection.py\u001b[0m in \u001b[0;36msend\u001b[0;34m(self, obj)\u001b[0m\n\u001b[1;32m    204\u001b[0m         \u001b[0mself\u001b[0m\u001b[0;34m.\u001b[0m\u001b[0m_check_closed\u001b[0m\u001b[0;34m(\u001b[0m\u001b[0;34m)\u001b[0m\u001b[0;34m\u001b[0m\u001b[0m\n\u001b[1;32m    205\u001b[0m         \u001b[0mself\u001b[0m\u001b[0;34m.\u001b[0m\u001b[0m_check_writable\u001b[0m\u001b[0;34m(\u001b[0m\u001b[0;34m)\u001b[0m\u001b[0;34m\u001b[0m\u001b[0m\n\u001b[0;32m--> 206\u001b[0;31m         \u001b[0mself\u001b[0m\u001b[0;34m.\u001b[0m\u001b[0m_send_bytes\u001b[0m\u001b[0;34m(\u001b[0m\u001b[0mForkingPickler\u001b[0m\u001b[0;34m.\u001b[0m\u001b[0mdumps\u001b[0m\u001b[0;34m(\u001b[0m\u001b[0mobj\u001b[0m\u001b[0;34m)\u001b[0m\u001b[0;34m)\u001b[0m\u001b[0;34m\u001b[0m\u001b[0m\n\u001b[0m\u001b[1;32m    207\u001b[0m \u001b[0;34m\u001b[0m\u001b[0m\n\u001b[1;32m    208\u001b[0m     \u001b[0;32mdef\u001b[0m \u001b[0mrecv_bytes\u001b[0m\u001b[0;34m(\u001b[0m\u001b[0mself\u001b[0m\u001b[0;34m,\u001b[0m \u001b[0mmaxlength\u001b[0m\u001b[0;34m=\u001b[0m\u001b[0;32mNone\u001b[0m\u001b[0;34m)\u001b[0m\u001b[0;34m:\u001b[0m\u001b[0;34m\u001b[0m\u001b[0m\n",
      "\u001b[0;32m/Users/rspeare/anaconda/lib/python3.5/multiprocessing/reduction.py\u001b[0m in \u001b[0;36mdumps\u001b[0;34m(cls, obj, protocol)\u001b[0m\n\u001b[1;32m     48\u001b[0m     \u001b[0;32mdef\u001b[0m \u001b[0mdumps\u001b[0m\u001b[0;34m(\u001b[0m\u001b[0mcls\u001b[0m\u001b[0;34m,\u001b[0m \u001b[0mobj\u001b[0m\u001b[0;34m,\u001b[0m \u001b[0mprotocol\u001b[0m\u001b[0;34m=\u001b[0m\u001b[0;32mNone\u001b[0m\u001b[0;34m)\u001b[0m\u001b[0;34m:\u001b[0m\u001b[0;34m\u001b[0m\u001b[0m\n\u001b[1;32m     49\u001b[0m         \u001b[0mbuf\u001b[0m \u001b[0;34m=\u001b[0m \u001b[0mio\u001b[0m\u001b[0;34m.\u001b[0m\u001b[0mBytesIO\u001b[0m\u001b[0;34m(\u001b[0m\u001b[0;34m)\u001b[0m\u001b[0;34m\u001b[0m\u001b[0m\n\u001b[0;32m---> 50\u001b[0;31m         \u001b[0mcls\u001b[0m\u001b[0;34m(\u001b[0m\u001b[0mbuf\u001b[0m\u001b[0;34m,\u001b[0m \u001b[0mprotocol\u001b[0m\u001b[0;34m)\u001b[0m\u001b[0;34m.\u001b[0m\u001b[0mdump\u001b[0m\u001b[0;34m(\u001b[0m\u001b[0mobj\u001b[0m\u001b[0;34m)\u001b[0m\u001b[0;34m\u001b[0m\u001b[0m\n\u001b[0m\u001b[1;32m     51\u001b[0m         \u001b[0;32mreturn\u001b[0m \u001b[0mbuf\u001b[0m\u001b[0;34m.\u001b[0m\u001b[0mgetbuffer\u001b[0m\u001b[0;34m(\u001b[0m\u001b[0;34m)\u001b[0m\u001b[0;34m\u001b[0m\u001b[0m\n\u001b[1;32m     52\u001b[0m \u001b[0;34m\u001b[0m\u001b[0m\n",
      "\u001b[0;31mPicklingError\u001b[0m: Can't pickle <function <lambda> at 0x1a1bf8dd08>: attribute lookup <lambda> on __main__ failed"
     ]
    }
   ],
   "source": [
    "p.map(lambda x: f(x), [x for x in range(10)])"
   ]
  },
  {
   "cell_type": "code",
   "execution_count": 8,
   "metadata": {
    "collapsed": true
   },
   "outputs": [],
   "source": [
    "from model_selectors.fisher import ActiveLearningLogisticRegression"
   ]
  },
  {
   "cell_type": "code",
   "execution_count": 9,
   "metadata": {},
   "outputs": [],
   "source": [
    "import active_evaluate"
   ]
  },
  {
   "cell_type": "code",
   "execution_count": 10,
   "metadata": {},
   "outputs": [],
   "source": [
    "from active_evaluate import active_evaluate\n",
    "from model_selectors import selectors\n",
    "from models.sklearn_simple import all_models\n",
    "from datasets.sklearn_datasets import classification_datasets\n",
    "import pandas as pd\n",
    "import itertools\n",
    "import matplotlib.pyplot as plt\n",
    "import os\n",
    "\n",
    "labels_per_epoch = 10\n",
    "\n",
    "all_datasets = classification_datasets()\n",
    "\n",
    "#(dataset,model,selector)\n",
    "experiments = list(itertools.product(\n",
    "                                    all_datasets.items(),\n",
    "                                    all_models.items(),\n",
    "                                    selectors.items()\n",
    "                                    ))"
   ]
  },
  {
   "cell_type": "code",
   "execution_count": 11,
   "metadata": {},
   "outputs": [],
   "source": [
    "X, Y = all_datasets['20newsgroups_vectorized']"
   ]
  },
  {
   "cell_type": "code",
   "execution_count": 12,
   "metadata": {},
   "outputs": [],
   "source": [
    "selector = selectors[\"fisher_info\"]"
   ]
  },
  {
   "cell_type": "code",
   "execution_count": 13,
   "metadata": {},
   "outputs": [],
   "source": [
    "model = all_models['logistic_regression']#.keys()"
   ]
  },
  {
   "cell_type": "code",
   "execution_count": 14,
   "metadata": {},
   "outputs": [
    {
     "data": {
      "text/plain": [
       "LogisticRegression(C=1.0, class_weight=None, dual=False, fit_intercept=True,\n",
       "          intercept_scaling=1, max_iter=100, multi_class='ovr', n_jobs=1,\n",
       "          penalty='l2', random_state=None, solver='liblinear', tol=0.0001,\n",
       "          verbose=0, warm_start=False)"
      ]
     },
     "execution_count": 14,
     "metadata": {},
     "output_type": "execute_result"
    }
   ],
   "source": [
    "model.fit(X,Y)"
   ]
  },
  {
   "cell_type": "code",
   "execution_count": 15,
   "metadata": {},
   "outputs": [
    {
     "data": {
      "text/plain": [
       "array([-0.26346046,  0.31006817])"
      ]
     },
     "execution_count": 15,
     "metadata": {},
     "output_type": "execute_result"
    }
   ],
   "source": [
    "model.decision_function(X[:2])"
   ]
  },
  {
   "cell_type": "code",
   "execution_count": 19,
   "metadata": {},
   "outputs": [
    {
     "data": {
      "text/plain": [
       "array([-0.26346046,  0.31006817])"
      ]
     },
     "execution_count": 19,
     "metadata": {},
     "output_type": "execute_result"
    }
   ],
   "source": [
    "logit(model.predict_proba(X[:2])[:, 1])"
   ]
  },
  {
   "cell_type": "code",
   "execution_count": 30,
   "metadata": {},
   "outputs": [],
   "source": [
    "def active_evaluate(X, Y, model, selector, epochs, labels_per_epoch,test_size=0.1, bootstrap_size=10):\n",
    "    \"\"\"\n",
    "\n",
    "    :param X:\n",
    "    :param Y:\n",
    "    :param model:\n",
    "    :param selector:\n",
    "    :param epochs:\n",
    "    :param labels_per_epoch:\n",
    "    :param test_size:\n",
    "    :return:\n",
    "    \"\"\"\n",
    "    X_train, X_test, Y_train, Y_test = train_test_split(X, Y, test_size=test_size)\n",
    "    selected_ixs = random.sample(set(np.arange(X_train.shape[0])), bootstrap_size) # ordered list of indices we've asked for human labels so far\n",
    "    model.fit(X_train[selected_ixs], Y_train[selected_ixs])\n",
    "    metrics_by_epoch = []\n",
    "    for epoch in range(epochs):\n",
    "        if epochs <= 20 or epoch % (epochs//20) == 0:\n",
    "            print('%d/%d epochs...'%(epoch, epochs))\n",
    "        next_ixs = selector.next_indices(X_train, selected_ixs, Y_train[selected_ixs], model,\n",
    "                                         n_ixs=labels_per_epoch)\n",
    "        assert len(set(next_ixs)&set(selected_ixs)) == 0 #must be new indices\n",
    "        selected_ixs += next_ixs\n",
    "        # TODO allow for importance weights in model\n",
    "        model.fit(X_train[selected_ixs], Y_train[selected_ixs])\n",
    "        P = model.predict_proba(X_test)\n",
    "        metrics = binary_class_metrics(Y_train[selected_ixs],Y_test,P,len(Y_train))\n",
    "        metrics_by_epoch.append(metrics)\n",
    "    return metrics_by_epoch"
   ]
  },
  {
   "cell_type": "code",
   "execution_count": 2,
   "metadata": {},
   "outputs": [
    {
     "name": "stderr",
     "output_type": "stream",
     "text": [
      "/Users/rspeare/anaconda/lib/python3.5/site-packages/sklearn/cross_validation.py:44: DeprecationWarning: This module was deprecated in version 0.18 in favor of the model_selection module into which all the refactored classes and functions are moved. Also note that the interface of the new CV iterators are different from that of this module. This module will be removed in 0.20.\n",
      "  \"This module will be removed in 0.20.\", DeprecationWarning)\n"
     ]
    }
   ],
   "source": [
    "import sys,os\n",
    "import numpy as np\n",
    "import json\n",
    "import random\n",
    "import time\n",
    "from collections import Counter\n",
    "from sklearn.metrics import average_precision_score, accuracy_score, f1_score, log_loss\n",
    "from sklearn.cross_validation import train_test_split\n"
   ]
  },
  {
   "cell_type": "code",
   "execution_count": 5,
   "metadata": {},
   "outputs": [],
   "source": [
    "from scipy.special import logit"
   ]
  },
  {
   "cell_type": "code",
   "execution_count": null,
   "metadata": {
    "collapsed": true
   },
   "outputs": [],
   "source": [
    "model.co"
   ]
  },
  {
   "cell_type": "code",
   "execution_count": 6,
   "metadata": {},
   "outputs": [
    {
     "data": {
      "text/plain": [
       "0.0"
      ]
     },
     "execution_count": 6,
     "metadata": {},
     "output_type": "execute_result"
    }
   ],
   "source": [
    "logit(.5)"
   ]
  },
  {
   "cell_type": "code",
   "execution_count": null,
   "metadata": {},
   "outputs": [
    {
     "name": "stdout",
     "output_type": "stream",
     "text": [
      "0/1 epochs...\n"
     ]
    }
   ],
   "source": [
    "res = active_evaluate(X,Y, model, selector, 1, 1)"
   ]
  },
  {
   "cell_type": "code",
   "execution_count": null,
   "metadata": {
    "collapsed": true
   },
   "outputs": [],
   "source": [
    "all_metrics = []\n",
    "for (dataset_name,(X,Y)),(model_name, model),(selector_name, selector) in experiments:\n",
    "    print('evaluating dataset/model/selector: ',dataset_name,model_name,selector_name,'...')\n",
    "    #TODO don't hardcode epochs and number of examples per epoch\n",
    "    epochs = len(Y)//labels_per_epoch\n",
    "    metrics_by_epoch = active_evaluate(X, Y, model, selector, epochs, labels_per_epoch)\n",
    "    for metric in metrics_by_epoch:\n",
    "        metric['dataset'] = dataset_name\n",
    "        metric['model'] = model_name\n",
    "        metric['selector'] = selector_name\n",
    "        all_metrics.append(metric)"
   ]
  }
 ],
 "metadata": {
  "anaconda-cloud": {},
  "kernelspec": {
   "display_name": "Python [conda env:anaconda]",
   "language": "python",
   "name": "conda-env-anaconda-py"
  },
  "language_info": {
   "codemirror_mode": {
    "name": "ipython",
    "version": 3
   },
   "file_extension": ".py",
   "mimetype": "text/x-python",
   "name": "python",
   "nbconvert_exporter": "python",
   "pygments_lexer": "ipython3",
   "version": "3.5.6"
  }
 },
 "nbformat": 4,
 "nbformat_minor": 1
}
